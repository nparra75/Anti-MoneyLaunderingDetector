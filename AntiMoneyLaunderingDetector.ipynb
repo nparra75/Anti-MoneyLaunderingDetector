{
 "cells": [
  {
   "cell_type": "markdown",
   "metadata": {},
   "source": [
    "# **Anti-Money Laundering Detector**"
   ]
  },
  {
   "cell_type": "markdown",
   "metadata": {},
   "source": [
    "## **Loading the libraries**"
   ]
  },
  {
   "cell_type": "code",
   "execution_count": 1,
   "metadata": {
    "_cell_guid": "b1076dfc-b9ad-4769-8c92-a6c4dae69d19",
    "_uuid": "8f2839f25d086af736a60e9eeb907d3b93b6e0e5"
   },
   "outputs": [],
   "source": [
    "import os\n",
    "import json\n",
    "import zipfile\n",
    "from pyspark.sql import SparkSession\n",
    "import random\n",
    "from pyspark.sql.types import StructType, StructField, StringType, FloatType, IntegerType, DoubleType\n",
    "from pyspark.sql import functions as F\n",
    "from pyspark.sql.functions import col, sum, when, count, avg, to_timestamp, hour, dayofweek\n",
    "from pyspark.ml.feature import StringIndexer, VectorAssembler, StandardScaler\n",
    "from pyspark.sql import Window\n",
    "import seaborn as sns\n",
    "import matplotlib.pyplot as plt\n",
    "from pyspark.ml.stat import Correlation\n",
    "import numpy as np\n",
    "import pandas as pd\n",
    "from pyspark.ml import Pipeline\n",
    "from pyspark.ml.classification import RandomForestClassifier\n",
    "from pyspark.ml.tuning import CrossValidator, ParamGridBuilder\n",
    "from pyspark.ml.evaluation import BinaryClassificationEvaluator, MulticlassClassificationEvaluator\n",
    "import kaggle\n",
    "from kaggle.api.kaggle_api_extended import KaggleApi"
   ]
  },
  {
   "cell_type": "markdown",
   "metadata": {},
   "source": [
    "## **Loading the dataset**"
   ]
  },
  {
   "cell_type": "markdown",
   "metadata": {},
   "source": [
    "According to the dataset owner, the data is divided in 6 datasets into two groups of three:\n",
    "\n",
    "* Group HI has a relatively higher illicit ratio (more laundering).\n",
    "* Group LI has a relatively lower illicit ratio (less laundering).\n",
    "\n",
    "Both HI and LI internally have three sets of data: small, medium, and large. Also, provides two files for each of the six datasets:\n",
    "\n",
    "* A list of transactions in CSV format\n",
    "* A text file list of laundering transactions.\n",
    "\n",
    "So, we have a larga dataset, but for our project, we will use the following files:\n",
    "\n",
    "* HI-Medium_Trans.csv\n",
    "* HI-Medium_Patterns.txt\n",
    "* LI-Medium_Trans.csv\n",
    "* LI-Medium_Patterns.txt\n",
    "\n",
    "Transaction files and Pattern files, each they will be merged in a single DataFrame."
   ]
  },
  {
   "cell_type": "code",
   "execution_count": 2,
   "metadata": {},
   "outputs": [
    {
     "name": "stdout",
     "output_type": "stream",
     "text": [
      "Dataset URL: https://www.kaggle.com/datasets/ealtman2019/ibm-transactions-for-anti-money-laundering-aml\n",
      "Dataset URL: https://www.kaggle.com/datasets/ealtman2019/ibm-transactions-for-anti-money-laundering-aml\n",
      "Dataset URL: https://www.kaggle.com/datasets/ealtman2019/ibm-transactions-for-anti-money-laundering-aml\n",
      "Dataset URL: https://www.kaggle.com/datasets/ealtman2019/ibm-transactions-for-anti-money-laundering-aml\n"
     ]
    }
   ],
   "source": [
    "# Using Kaggle API to download the dataset. \n",
    "# Generate the kaggle.json from Settings > API > Create new token in Kaggle user profile. Paste it in /user/.kaggle/ folder\n",
    "api = KaggleApi()\n",
    "api.authenticate()\n",
    "\n",
    "# Downloading the dataset from Kaggle\n",
    "files = [\n",
    "    ('ealtman2019/ibm-transactions-for-anti-money-laundering-aml', 'HI-Medium_Trans.csv'),\n",
    "    ('ealtman2019/ibm-transactions-for-anti-money-laundering-aml', 'HI-Medium_Patterns.txt'),\n",
    "    ('ealtman2019/ibm-transactions-for-anti-money-laundering-aml', 'LI-Medium_Trans.csv'),\n",
    "    ('ealtman2019/ibm-transactions-for-anti-money-laundering-aml', 'LI-Medium_Patterns.txt'),\n",
    "]\n",
    "\n",
    "# Unzip the files (if zip extension)\n",
    "for dataset, file_name in files:\n",
    "    api.dataset_download_file(dataset, file_name=file_name, path='./dataset/')\n",
    "    zip_path = f'./dataset/{file_name}.zip'\n",
    "    if os.path.exists(zip_path):\n",
    "        with zipfile.ZipFile(zip_path, 'r') as zip_ref:\n",
    "            zip_ref.extractall('./dataset/')\n",
    "        os.remove(zip_path)"
   ]
  },
  {
   "cell_type": "code",
   "execution_count": 3,
   "metadata": {},
   "outputs": [],
   "source": [
    "# Creating a SparkSession to manipulate the datasets\n",
    "spark = SparkSession.builder \\\n",
    "    .appName(\"AML_Detection\") \\\n",
    "    .config(\"spark.driver.memory\", \"8g\") \\\n",
    "    .config(\"spark.executor.memory\", \"4g\") \\\n",
    "    .config(\"spark.network.timeout\", \"600s\") \\\n",
    "    .config(\"spark.driver.maxResultSize\", \"4g\") \\\n",
    "    .config(\"spark.sql.shuffle.partitions\", \"200\") \\\n",
    "    .getOrCreate()"
   ]
  },
  {
   "cell_type": "markdown",
   "metadata": {},
   "source": [
    "### **Transactions Dataset**"
   ]
  },
  {
   "cell_type": "code",
   "execution_count": 4,
   "metadata": {},
   "outputs": [],
   "source": [
    "# Define schema for the transactions\n",
    "schema = StructType([\n",
    "    StructField(\"Timestamp\", StringType(), True),\n",
    "    StructField(\"From_Bank\", StringType(), True),\n",
    "    StructField(\"From_Account\", StringType(), True),\n",
    "    StructField(\"To_Bank\", StringType(), True),\n",
    "    StructField(\"To_Account\", StringType(), True),\n",
    "    StructField(\"Amount_Received\", FloatType(), True),\n",
    "    StructField(\"Receiving_Currency\", StringType(), True),\n",
    "    StructField(\"Amount_Paid\", FloatType(), True),\n",
    "    StructField(\"Payment_Currency\", StringType(), True),\n",
    "    StructField(\"Payment_Format\", StringType(), True)\n",
    "])"
   ]
  },
  {
   "cell_type": "markdown",
   "metadata": {},
   "source": [
    "### High Ilicit - Medium"
   ]
  },
  {
   "cell_type": "code",
   "execution_count": 5,
   "metadata": {},
   "outputs": [
    {
     "name": "stdout",
     "output_type": "stream",
     "text": [
      "+----------------+---------+------------+-------+----------+---------------+------------------+-----------+----------------+--------------+\n",
      "|       Timestamp|From_Bank|From_Account|To_Bank|To_Account|Amount_Received|Receiving_Currency|Amount_Paid|Payment_Currency|Payment_Format|\n",
      "+----------------+---------+------------+-------+----------+---------------+------------------+-----------+----------------+--------------+\n",
      "|2022/09/01 00:17|      020|   800104D70|    020| 800104D70|        6794.63|         US Dollar|    6794.63|       US Dollar|  Reinvestment|\n",
      "|2022/09/01 00:02|    03196|   800107150|  03196| 800107150|        7739.29|         US Dollar|    7739.29|       US Dollar|  Reinvestment|\n",
      "|2022/09/01 00:17|    01208|   80010E430|  01208| 80010E430|        1880.23|         US Dollar|    1880.23|       US Dollar|  Reinvestment|\n",
      "|2022/09/01 00:03|    01208|   80010E650|    020| 80010E6F0|     7.396688E7|         US Dollar| 7.396688E7|       US Dollar|        Cheque|\n",
      "|2022/09/01 00:02|    01208|   80010E650|    020| 80010EA30|    4.5868456E7|         US Dollar|4.5868456E7|       US Dollar|        Cheque|\n",
      "|2022/09/01 00:27|    03203|   80010EA80|  03203| 80010EA80|       13284.41|         US Dollar|   13284.41|       US Dollar|  Reinvestment|\n",
      "|2022/09/01 00:25|      020|   800104D20|    020| 800104D20|           9.72|         US Dollar|       9.72|       US Dollar|  Reinvestment|\n",
      "|2022/09/01 00:09|    01208|   80010E430|  01208| 80010E430|           7.66|         US Dollar|       7.66|       US Dollar|  Reinvestment|\n",
      "|2022/09/01 00:09|      011|   80010E600|    011| 80010E600|          16.33|         US Dollar|      16.33|       US Dollar|  Reinvestment|\n",
      "|2022/09/01 00:06|    01208|   80010E650|  01208| 80010E650|           4.86|         US Dollar|       4.86|       US Dollar|  Reinvestment|\n",
      "|2022/09/01 00:25|      020|   80010E6F0|0183112| 84DCA3150|           3.24|         US Dollar|       3.24|       US Dollar|   Credit Card|\n",
      "|2022/09/01 00:16|      020|   80010EA30|  01601| 802B6D220|          47.17|         US Dollar|      47.17|       US Dollar|   Credit Card|\n",
      "|2022/09/01 00:14|      020|   800073020|    020| 800073020|      848368.75|         US Dollar|  848368.75|       US Dollar|  Reinvestment|\n",
      "|2022/09/01 00:05|    03566|   800345920|  03566| 800345920|       10134.05|         US Dollar|   10134.05|       US Dollar|  Reinvestment|\n",
      "|2022/09/01 00:09|      011|   800329930|  02776| 800816450|       335999.7|         US Dollar|   335999.7|       US Dollar|        Cheque|\n",
      "|2022/09/01 00:07|      000|   8009B22F0|    000| 8009B22F0|         121.98|         US Dollar|     121.98|       US Dollar|  Reinvestment|\n",
      "|2022/09/01 00:24|      011|   8003289F0|0249457| 825F4B630|          45.39|         US Dollar|      45.39|       US Dollar|   Credit Card|\n",
      "|2022/09/01 00:22|      000|   800815DE0|    000| 800815DE0|           23.4|         US Dollar|       23.4|       US Dollar|  Reinvestment|\n",
      "|2022/09/01 00:28|    02776|   800816450|0071901| 81AB268F0|          30.23|         US Dollar|      30.23|       US Dollar|   Credit Card|\n",
      "|2022/09/01 00:21|   011081|   8008DDDF0| 011081| 8008DDDF0|           7.37|         US Dollar|       7.37|       US Dollar|  Reinvestment|\n",
      "+----------------+---------+------------+-------+----------+---------------+------------------+-----------+----------------+--------------+\n",
      "only showing top 20 rows\n",
      "\n"
     ]
    }
   ],
   "source": [
    "# Read the CSV file into a Spark DataFrame\n",
    "hi_medium_df = spark.read.csv(\"./dataset/HI-Medium_Trans.csv\", schema=schema, header=True)\n",
    "\n",
    "# Display the first few rows of the DataFrame\n",
    "hi_medium_df.show()"
   ]
  },
  {
   "cell_type": "markdown",
   "metadata": {},
   "source": [
    "### Low Ilicit - Medium"
   ]
  },
  {
   "cell_type": "code",
   "execution_count": 6,
   "metadata": {},
   "outputs": [
    {
     "name": "stdout",
     "output_type": "stream",
     "text": [
      "+----------------+---------+------------+--------+----------+---------------+------------------+-----------+----------------+--------------+\n",
      "|       Timestamp|From_Bank|From_Account| To_Bank|To_Account|Amount_Received|Receiving_Currency|Amount_Paid|Payment_Currency|Payment_Format|\n",
      "+----------------+---------+------------+--------+----------+---------------+------------------+-----------+----------------+--------------+\n",
      "|2022/09/01 00:15|      020|   800104D70|     020| 800104D70|        8095.07|         US Dollar|    8095.07|       US Dollar|  Reinvestment|\n",
      "|2022/09/01 00:18|    03196|   800107150|   03196| 800107150|        7739.29|         US Dollar|    7739.29|       US Dollar|  Reinvestment|\n",
      "|2022/09/01 00:23|    01208|   80010E430|   01208| 80010E430|        2654.22|         US Dollar|    2654.22|       US Dollar|  Reinvestment|\n",
      "|2022/09/01 00:19|    03203|   80010EA80|   03203| 80010EA80|       13284.41|         US Dollar|   13284.41|       US Dollar|  Reinvestment|\n",
      "|2022/09/01 00:27|      020|   800104D20|     020| 800104D20|           9.72|         US Dollar|       9.72|       US Dollar|  Reinvestment|\n",
      "|2022/09/01 00:29|      020|   800104D70|     020| 800104D70|           5.38|         US Dollar|       5.38|       US Dollar|  Reinvestment|\n",
      "|2022/09/01 00:08|    01208|   80010E430|   01208| 80010E430|           7.66|         US Dollar|       7.66|       US Dollar|  Reinvestment|\n",
      "|2022/09/01 00:29|      011|   80010E600|     011| 80010E600|          16.33|         US Dollar|      16.33|       US Dollar|  Reinvestment|\n",
      "|2022/09/01 00:23|    01208|   80010E650|   01208| 80010E650|           4.86|         US Dollar|       4.86|       US Dollar|  Reinvestment|\n",
      "|2022/09/01 00:15|      020|   80010E6F0|  027365| 8084250A0|         137.72|         US Dollar|     137.72|       US Dollar|   Credit Card|\n",
      "|2022/09/01 00:05|      020|   80010EA30|  018234| 82BC4CE30|           1.24|         US Dollar|       1.24|       US Dollar|   Credit Card|\n",
      "|2022/09/01 00:20|      020|   800073020|     020| 800073020|      848901.75|         US Dollar|  848901.75|       US Dollar|  Reinvestment|\n",
      "|2022/09/01 00:02|    03566|   800345920|   03566| 800345920|       10134.05|         US Dollar|   10134.05|       US Dollar|  Reinvestment|\n",
      "|2022/09/01 00:25|      011|   800329930|   02776| 800816450|      2602616.0|         US Dollar|  2602616.0|       US Dollar|        Cheque|\n",
      "|2022/09/01 00:27|      000|   8009B22F0|     000| 8009B22F0|        3236.71|         US Dollar|    3236.71|       US Dollar|  Reinvestment|\n",
      "|2022/09/01 00:21|      011|   8003289F0| 0237264| 810BA3240|           5.28|         US Dollar|       5.28|       US Dollar|   Credit Card|\n",
      "|2022/09/01 00:29|      011|   800329930|     011| 800329930|          23.39|         US Dollar|      23.39|       US Dollar|  Reinvestment|\n",
      "|2022/09/01 00:18|      000|   800815DE0|     000| 800815DE0|          19.97|         US Dollar|      19.97|       US Dollar|  Reinvestment|\n",
      "|2022/09/01 00:11|    02776|   800816450|01190218| 8486D8D10|          13.21|         US Dollar|      13.21|       US Dollar|   Credit Card|\n",
      "|2022/09/01 00:24|   011081|   8008DDDF0|  011081| 8008DDDF0|          13.87|         US Dollar|      13.87|       US Dollar|  Reinvestment|\n",
      "+----------------+---------+------------+--------+----------+---------------+------------------+-----------+----------------+--------------+\n",
      "only showing top 20 rows\n",
      "\n"
     ]
    }
   ],
   "source": [
    "# Read the CSV file into a Spark DataFrame\n",
    "li_medium_df = spark.read.csv(\"./dataset/LI-Medium_Trans.csv\", schema=schema, header=True)\n",
    "\n",
    "# Display the first few rows of the DataFrame\n",
    "li_medium_df.show()"
   ]
  },
  {
   "cell_type": "code",
   "execution_count": 7,
   "metadata": {},
   "outputs": [],
   "source": [
    "# Combine both datasets\n",
    "trans_df = hi_medium_df.union(li_medium_df)"
   ]
  },
  {
   "cell_type": "markdown",
   "metadata": {},
   "source": [
    "### **Patterns Dataset**"
   ]
  },
  {
   "cell_type": "markdown",
   "metadata": {},
   "source": [
    "### High Ilicit - Medium"
   ]
  },
  {
   "cell_type": "code",
   "execution_count": 8,
   "metadata": {},
   "outputs": [
    {
     "name": "stdout",
     "output_type": "stream",
     "text": [
      "+--------------------+\n",
      "|               value|\n",
      "+--------------------+\n",
      "|BEGIN LAUNDERING ...|\n",
      "|2022/09/01 05:14,...|\n",
      "|2022/09/03 13:09,...|\n",
      "|2022/09/01 07:40,...|\n",
      "|2022/09/01 14:19,...|\n",
      "|2022/09/02 12:40,...|\n",
      "|2022/09/03 06:34,...|\n",
      "|END LAUNDERING AT...|\n",
      "|                    |\n",
      "|BEGIN LAUNDERING ...|\n",
      "|2022/09/01 00:19,...|\n",
      "|2022/09/01 19:35,...|\n",
      "|2022/09/02 02:58,...|\n",
      "|2022/09/02 18:02,...|\n",
      "|2022/09/03 07:16,...|\n",
      "|2022/09/03 11:39,...|\n",
      "|2022/09/03 12:04,...|\n",
      "|2022/09/04 07:27,...|\n",
      "|2022/09/04 08:38,...|\n",
      "|2022/09/05 13:23,...|\n",
      "+--------------------+\n",
      "only showing top 20 rows\n",
      "\n"
     ]
    }
   ],
   "source": [
    "# Read the file into a Spark DataFrame\n",
    "hi_patterns_df = spark.read.text(\"./dataset/HI-Medium_Patterns.txt\")\n",
    "\n",
    "# Display the first few rows of the DataFrame\n",
    "hi_patterns_df.show()"
   ]
  },
  {
   "cell_type": "markdown",
   "metadata": {},
   "source": [
    "### Low Ilicit - Medium"
   ]
  },
  {
   "cell_type": "code",
   "execution_count": 9,
   "metadata": {},
   "outputs": [
    {
     "name": "stdout",
     "output_type": "stream",
     "text": [
      "+--------------------+\n",
      "|               value|\n",
      "+--------------------+\n",
      "|BEGIN LAUNDERING ...|\n",
      "|2022/09/01 00:29,...|\n",
      "|2022/09/04 12:49,...|\n",
      "|2022/09/01 12:28,...|\n",
      "|2022/09/04 13:39,...|\n",
      "|2022/09/01 14:26,...|\n",
      "|2022/09/04 15:34,...|\n",
      "|2022/09/02 15:52,...|\n",
      "|2022/09/04 16:27,...|\n",
      "|2022/09/02 17:41,...|\n",
      "|2022/09/05 08:36,...|\n",
      "|2022/09/03 08:04,...|\n",
      "|2022/09/05 13:36,...|\n",
      "|2022/09/03 15:18,...|\n",
      "|2022/09/05 15:45,...|\n",
      "|2022/09/03 16:50,...|\n",
      "|2022/09/05 16:00,...|\n",
      "|2022/09/03 22:43,...|\n",
      "|2022/09/05 17:50,...|\n",
      "|2022/09/03 23:22,...|\n",
      "+--------------------+\n",
      "only showing top 20 rows\n",
      "\n"
     ]
    }
   ],
   "source": [
    "# Read the file into a Spark DataFrame\n",
    "li_patterns_df = spark.read.text(\"./dataset/LI-Medium_Patterns.txt\")\n",
    "\n",
    "# Display the first few rows of the DataFrame\n",
    "li_patterns_df.show()"
   ]
  },
  {
   "cell_type": "code",
   "execution_count": 10,
   "metadata": {},
   "outputs": [],
   "source": [
    "# Combine both datasets\n",
    "patterns_df = hi_patterns_df.union(li_patterns_df)"
   ]
  },
  {
   "cell_type": "markdown",
   "metadata": {},
   "source": [
    "## **PreProcessing**"
   ]
  },
  {
   "cell_type": "markdown",
   "metadata": {},
   "source": [
    "### Identify Laundering Patterns:\n",
    "Each laundering attempt begins with BEGIN LAUNDERING ATTEMPT - [PATTERN] and ends with END LAUNDERING ATTEMPT.\n",
    "\n",
    "Used regex to extract pattern types and transaction details."
   ]
  },
  {
   "cell_type": "code",
   "execution_count": 11,
   "metadata": {},
   "outputs": [],
   "source": [
    "# Step 1: Extract Pattern_Type where there is \"BEGIN LAUNDERING ATTEMPT\"\n",
    "patterns_df = patterns_df.withColumn(\n",
    "    \"Pattern_Type\",\n",
    "    F.when(F.col(\"value\").rlike(\"BEGIN LAUNDERING ATTEMPT - (.+)\"),\n",
    "           F.regexp_extract(F.col(\"value\"), \"BEGIN LAUNDERING ATTEMPT - (.+)\", 1))\n",
    "     .otherwise(None)\n",
    ")\n",
    "\n",
    "# Step 2: Forward fill the Pattern_Type to propagate it down until \"END LAUNDERING ATTEMPT\"\n",
    "window_spec = Window.orderBy(F.monotonically_increasing_id()).rowsBetween(Window.unboundedPreceding, 0)\n",
    "patterns_df = patterns_df.withColumn(\n",
    "    \"Pattern_Type\",\n",
    "    F.last(\"Pattern_Type\", True).over(window_spec)\n",
    ")\n",
    "\n",
    "# Step 3: Filter out rows with \"END LAUNDERING ATTEMPT\" as they only mark the end of an attempt\n",
    "patterns_df = patterns_df.filter(~F.col(\"value\").contains(\"END LAUNDERING ATTEMPT\"))"
   ]
  },
  {
   "cell_type": "code",
   "execution_count": 12,
   "metadata": {},
   "outputs": [
    {
     "name": "stdout",
     "output_type": "stream",
     "text": [
      "+------------------------------------------------------------------------------------------------+-------------------+\n",
      "|value                                                                                           |Pattern_Type       |\n",
      "+------------------------------------------------------------------------------------------------+-------------------+\n",
      "|BEGIN LAUNDERING ATTEMPT - STACK                                                                |STACK              |\n",
      "|2022/09/01 05:14,00952,8139F54E0,0111632,8062C56E0,5331.44,US Dollar,5331.44,US Dollar,ACH,1    |STACK              |\n",
      "|2022/09/03 13:09,0111632,8062C56E0,008456,81363F620,5602.59,US Dollar,5602.59,US Dollar,ACH,1   |STACK              |\n",
      "|2022/09/01 07:40,0118693,823D5EB90,013729,801CF2E60,1400.54,US Dollar,1400.54,US Dollar,ACH,1   |STACK              |\n",
      "|2022/09/01 14:19,013729,801CF2E60,0123621,81A7090F0,1467.94,US Dollar,1467.94,US Dollar,ACH,1   |STACK              |\n",
      "|2022/09/02 12:40,0024750,81363F410,0213834,808757B00,16898.29,US Dollar,16898.29,US Dollar,ACH,1|STACK              |\n",
      "|2022/09/03 06:34,0213834,808757B00,000,800073EF0,17607.19,US Dollar,17607.19,US Dollar,ACH,1    |STACK              |\n",
      "|                                                                                                |STACK              |\n",
      "|BEGIN LAUNDERING ATTEMPT - CYCLE:  Max 12 hops                                                  |CYCLE:  Max 12 hops|\n",
      "|2022/09/01 00:19,0134266,814167590,0036925,810E343A0,132713.46,Yuan,132713.46,Yuan,ACH,1        |CYCLE:  Max 12 hops|\n",
      "|2022/09/01 19:35,0036925,810E343A0,0119211,814AB4F60,18264.20,US Dollar,18264.20,US Dollar,ACH,1|CYCLE:  Max 12 hops|\n",
      "|2022/09/02 02:58,0119211,814AB4F60,0132965,81B88A230,14567.69,Euro,14567.69,Euro,ACH,1          |CYCLE:  Max 12 hops|\n",
      "|2022/09/02 18:02,0132965,81B88A230,0137089,810C71940,114329.26,Yuan,114329.26,Yuan,ACH,1        |CYCLE:  Max 12 hops|\n",
      "|2022/09/03 07:16,0137089,810C71940,0216618,81D5302D0,14567.69,Euro,14567.69,Euro,ACH,1          |CYCLE:  Max 12 hops|\n",
      "|2022/09/03 11:39,0216618,81D5302D0,0024083,81836B520,13629.75,Euro,13629.75,Euro,ACH,1          |CYCLE:  Max 12 hops|\n",
      "|2022/09/03 12:04,0024083,81836B520,0038110,81B868730,97481.96,Yuan,97481.96,Yuan,ACH,1          |CYCLE:  Max 12 hops|\n",
      "|2022/09/04 07:27,0038110,81B868730,0225015,81C6EA460,14054.71,US Dollar,14054.71,US Dollar,ACH,1|CYCLE:  Max 12 hops|\n",
      "|2022/09/04 08:38,0225015,81C6EA460,018112,8045CC910,13718.22,US Dollar,13718.22,US Dollar,ACH,1 |CYCLE:  Max 12 hops|\n",
      "|2022/09/05 13:23,018112,8045CC910,007818,8037732C0,12908.33,US Dollar,12908.33,US Dollar,ACH,1  |CYCLE:  Max 12 hops|\n",
      "|2022/09/06 05:10,007818,8037732C0,0121523,80D1BD2F0,10636.75,Euro,10636.75,Euro,ACH,1           |CYCLE:  Max 12 hops|\n",
      "+------------------------------------------------------------------------------------------------+-------------------+\n",
      "only showing top 20 rows\n",
      "\n"
     ]
    }
   ],
   "source": [
    "# Show the DataFrame without truncating long strings\n",
    "patterns_df.show(truncate=False)"
   ]
  },
  {
   "cell_type": "code",
   "execution_count": 13,
   "metadata": {},
   "outputs": [
    {
     "name": "stdout",
     "output_type": "stream",
     "text": [
      "+------------------------------------------------------------------------------------------------+------------+\n",
      "|value                                                                                           |Pattern_Type|\n",
      "+------------------------------------------------------------------------------------------------+------------+\n",
      "|BEGIN LAUNDERING ATTEMPT - STACK                                                                |STACK       |\n",
      "|2022/09/01 05:14,00952,8139F54E0,0111632,8062C56E0,5331.44,US Dollar,5331.44,US Dollar,ACH,1    |STACK       |\n",
      "|2022/09/03 13:09,0111632,8062C56E0,008456,81363F620,5602.59,US Dollar,5602.59,US Dollar,ACH,1   |STACK       |\n",
      "|2022/09/01 07:40,0118693,823D5EB90,013729,801CF2E60,1400.54,US Dollar,1400.54,US Dollar,ACH,1   |STACK       |\n",
      "|2022/09/01 14:19,013729,801CF2E60,0123621,81A7090F0,1467.94,US Dollar,1467.94,US Dollar,ACH,1   |STACK       |\n",
      "|2022/09/02 12:40,0024750,81363F410,0213834,808757B00,16898.29,US Dollar,16898.29,US Dollar,ACH,1|STACK       |\n",
      "|2022/09/03 06:34,0213834,808757B00,000,800073EF0,17607.19,US Dollar,17607.19,US Dollar,ACH,1    |STACK       |\n",
      "|                                                                                                |STACK       |\n",
      "|BEGIN LAUNDERING ATTEMPT - CYCLE:  Max 12 hops                                                  |CYCLE       |\n",
      "|2022/09/01 00:19,0134266,814167590,0036925,810E343A0,132713.46,Yuan,132713.46,Yuan,ACH,1        |CYCLE       |\n",
      "|2022/09/01 19:35,0036925,810E343A0,0119211,814AB4F60,18264.20,US Dollar,18264.20,US Dollar,ACH,1|CYCLE       |\n",
      "|2022/09/02 02:58,0119211,814AB4F60,0132965,81B88A230,14567.69,Euro,14567.69,Euro,ACH,1          |CYCLE       |\n",
      "|2022/09/02 18:02,0132965,81B88A230,0137089,810C71940,114329.26,Yuan,114329.26,Yuan,ACH,1        |CYCLE       |\n",
      "|2022/09/03 07:16,0137089,810C71940,0216618,81D5302D0,14567.69,Euro,14567.69,Euro,ACH,1          |CYCLE       |\n",
      "|2022/09/03 11:39,0216618,81D5302D0,0024083,81836B520,13629.75,Euro,13629.75,Euro,ACH,1          |CYCLE       |\n",
      "|2022/09/03 12:04,0024083,81836B520,0038110,81B868730,97481.96,Yuan,97481.96,Yuan,ACH,1          |CYCLE       |\n",
      "|2022/09/04 07:27,0038110,81B868730,0225015,81C6EA460,14054.71,US Dollar,14054.71,US Dollar,ACH,1|CYCLE       |\n",
      "|2022/09/04 08:38,0225015,81C6EA460,018112,8045CC910,13718.22,US Dollar,13718.22,US Dollar,ACH,1 |CYCLE       |\n",
      "|2022/09/05 13:23,018112,8045CC910,007818,8037732C0,12908.33,US Dollar,12908.33,US Dollar,ACH,1  |CYCLE       |\n",
      "|2022/09/06 05:10,007818,8037732C0,0121523,80D1BD2F0,10636.75,Euro,10636.75,Euro,ACH,1           |CYCLE       |\n",
      "+------------------------------------------------------------------------------------------------+------------+\n",
      "only showing top 20 rows\n",
      "\n"
     ]
    }
   ],
   "source": [
    "from pyspark.sql import functions as F\n",
    "\n",
    "# Remove any text after the colon in Pattern_Type if it exists\n",
    "patterns_df = patterns_df.withColumn(\n",
    "    \"Pattern_Type\",\n",
    "    F.regexp_replace(F.col(\"Pattern_Type\"), \":.*\", \"\")\n",
    ")\n",
    "\n",
    "# Display the DataFrame (use .show() in local PySpark)\n",
    "patterns_df.show(truncate=False)"
   ]
  },
  {
   "cell_type": "code",
   "execution_count": 14,
   "metadata": {},
   "outputs": [
    {
     "name": "stdout",
     "output_type": "stream",
     "text": [
      "+------------------------------------------------------------------------------------------------+------------+\n",
      "|value                                                                                           |Pattern_Type|\n",
      "+------------------------------------------------------------------------------------------------+------------+\n",
      "|2022/09/01 05:14,00952,8139F54E0,0111632,8062C56E0,5331.44,US Dollar,5331.44,US Dollar,ACH,1    |STACK       |\n",
      "|2022/09/03 13:09,0111632,8062C56E0,008456,81363F620,5602.59,US Dollar,5602.59,US Dollar,ACH,1   |STACK       |\n",
      "|2022/09/01 07:40,0118693,823D5EB90,013729,801CF2E60,1400.54,US Dollar,1400.54,US Dollar,ACH,1   |STACK       |\n",
      "|2022/09/01 14:19,013729,801CF2E60,0123621,81A7090F0,1467.94,US Dollar,1467.94,US Dollar,ACH,1   |STACK       |\n",
      "|2022/09/02 12:40,0024750,81363F410,0213834,808757B00,16898.29,US Dollar,16898.29,US Dollar,ACH,1|STACK       |\n",
      "|2022/09/03 06:34,0213834,808757B00,000,800073EF0,17607.19,US Dollar,17607.19,US Dollar,ACH,1    |STACK       |\n",
      "|2022/09/01 00:19,0134266,814167590,0036925,810E343A0,132713.46,Yuan,132713.46,Yuan,ACH,1        |CYCLE       |\n",
      "|2022/09/01 19:35,0036925,810E343A0,0119211,814AB4F60,18264.20,US Dollar,18264.20,US Dollar,ACH,1|CYCLE       |\n",
      "|2022/09/02 02:58,0119211,814AB4F60,0132965,81B88A230,14567.69,Euro,14567.69,Euro,ACH,1          |CYCLE       |\n",
      "|2022/09/02 18:02,0132965,81B88A230,0137089,810C71940,114329.26,Yuan,114329.26,Yuan,ACH,1        |CYCLE       |\n",
      "|2022/09/03 07:16,0137089,810C71940,0216618,81D5302D0,14567.69,Euro,14567.69,Euro,ACH,1          |CYCLE       |\n",
      "|2022/09/03 11:39,0216618,81D5302D0,0024083,81836B520,13629.75,Euro,13629.75,Euro,ACH,1          |CYCLE       |\n",
      "|2022/09/03 12:04,0024083,81836B520,0038110,81B868730,97481.96,Yuan,97481.96,Yuan,ACH,1          |CYCLE       |\n",
      "|2022/09/04 07:27,0038110,81B868730,0225015,81C6EA460,14054.71,US Dollar,14054.71,US Dollar,ACH,1|CYCLE       |\n",
      "|2022/09/04 08:38,0225015,81C6EA460,018112,8045CC910,13718.22,US Dollar,13718.22,US Dollar,ACH,1 |CYCLE       |\n",
      "|2022/09/05 13:23,018112,8045CC910,007818,8037732C0,12908.33,US Dollar,12908.33,US Dollar,ACH,1  |CYCLE       |\n",
      "|2022/09/06 05:10,007818,8037732C0,0121523,80D1BD2F0,10636.75,Euro,10636.75,Euro,ACH,1           |CYCLE       |\n",
      "|2022/09/06 13:24,0121523,80D1BD2F0,0134266,814167590,1378736.88,Yen,1378736.88,Yen,ACH,1        |CYCLE       |\n",
      "|2022/09/01 00:25,0266915,81C3CD2E0,0266946,81A4AFE20,1155546.44,Ruble,1155546.44,Ruble,ACH,1    |FAN-IN      |\n",
      "|2022/09/01 03:18,0174634,81C5B2AB0,0266946,81A4AFE20,1104862.69,Ruble,1104862.69,Ruble,ACH,1    |FAN-IN      |\n",
      "+------------------------------------------------------------------------------------------------+------------+\n",
      "only showing top 20 rows\n",
      "\n"
     ]
    }
   ],
   "source": [
    "# Filter to get only transaction lines and ignore start/end laundering attempt lines\n",
    "laundering_transactions = patterns_df.filter(patterns_df.value.rlike(r'\\d{4}/\\d{2}/\\d{2}'))\n",
    "\n",
    "# Unpersist patterns_df to free memory\n",
    "patterns_df.unpersist()\n",
    "\n",
    "# Cache laundering_transactions for reuse\n",
    "laundering_transactions.cache()\n",
    "\n",
    "# Display the filtered DataFrame (use .show() instead of display())\n",
    "laundering_transactions.show(truncate=False)"
   ]
  },
  {
   "cell_type": "code",
   "execution_count": 15,
   "metadata": {},
   "outputs": [],
   "source": [
    "# Updated Code for Better Readability\n",
    "columns = [\n",
    "    \"Timestamp\", \"From_Bank\", \"From_Account\", \"To_Bank\", \"To_Account\",\n",
    "    \"Amount_Received\", \"Receiving_currency\", \"Amount_paid\",\n",
    "    \"Payment_currency\", \"Payment_Format\", \"isLaundering\"\n",
    "]\n",
    "\n",
    "for idx, col_name in enumerate(columns):\n",
    "    laundering_transactions = laundering_transactions.withColumn(col_name, F.split(F.col(\"value\"), \",\").getItem(idx))"
   ]
  },
  {
   "cell_type": "code",
   "execution_count": 16,
   "metadata": {},
   "outputs": [
    {
     "name": "stdout",
     "output_type": "stream",
     "text": [
      "+------------------------------------------------------------------------------------------------+------------+----------------+---------+------------+-------+----------+---------------+------------------+-----------+----------------+--------------+------------+\n",
      "|value                                                                                           |Pattern_Type|Timestamp       |From_Bank|From_Account|To_Bank|To_Account|Amount_Received|Receiving_currency|Amount_paid|Payment_currency|Payment_Format|isLaundering|\n",
      "+------------------------------------------------------------------------------------------------+------------+----------------+---------+------------+-------+----------+---------------+------------------+-----------+----------------+--------------+------------+\n",
      "|2022/09/01 05:14,00952,8139F54E0,0111632,8062C56E0,5331.44,US Dollar,5331.44,US Dollar,ACH,1    |STACK       |2022/09/01 05:14|00952    |8139F54E0   |0111632|8062C56E0 |5331.44        |US Dollar         |5331.44    |US Dollar       |ACH           |1           |\n",
      "|2022/09/03 13:09,0111632,8062C56E0,008456,81363F620,5602.59,US Dollar,5602.59,US Dollar,ACH,1   |STACK       |2022/09/03 13:09|0111632  |8062C56E0   |008456 |81363F620 |5602.59        |US Dollar         |5602.59    |US Dollar       |ACH           |1           |\n",
      "|2022/09/01 07:40,0118693,823D5EB90,013729,801CF2E60,1400.54,US Dollar,1400.54,US Dollar,ACH,1   |STACK       |2022/09/01 07:40|0118693  |823D5EB90   |013729 |801CF2E60 |1400.54        |US Dollar         |1400.54    |US Dollar       |ACH           |1           |\n",
      "|2022/09/01 14:19,013729,801CF2E60,0123621,81A7090F0,1467.94,US Dollar,1467.94,US Dollar,ACH,1   |STACK       |2022/09/01 14:19|013729   |801CF2E60   |0123621|81A7090F0 |1467.94        |US Dollar         |1467.94    |US Dollar       |ACH           |1           |\n",
      "|2022/09/02 12:40,0024750,81363F410,0213834,808757B00,16898.29,US Dollar,16898.29,US Dollar,ACH,1|STACK       |2022/09/02 12:40|0024750  |81363F410   |0213834|808757B00 |16898.29       |US Dollar         |16898.29   |US Dollar       |ACH           |1           |\n",
      "|2022/09/03 06:34,0213834,808757B00,000,800073EF0,17607.19,US Dollar,17607.19,US Dollar,ACH,1    |STACK       |2022/09/03 06:34|0213834  |808757B00   |000    |800073EF0 |17607.19       |US Dollar         |17607.19   |US Dollar       |ACH           |1           |\n",
      "|2022/09/01 00:19,0134266,814167590,0036925,810E343A0,132713.46,Yuan,132713.46,Yuan,ACH,1        |CYCLE       |2022/09/01 00:19|0134266  |814167590   |0036925|810E343A0 |132713.46      |Yuan              |132713.46  |Yuan            |ACH           |1           |\n",
      "|2022/09/01 19:35,0036925,810E343A0,0119211,814AB4F60,18264.20,US Dollar,18264.20,US Dollar,ACH,1|CYCLE       |2022/09/01 19:35|0036925  |810E343A0   |0119211|814AB4F60 |18264.20       |US Dollar         |18264.20   |US Dollar       |ACH           |1           |\n",
      "|2022/09/02 02:58,0119211,814AB4F60,0132965,81B88A230,14567.69,Euro,14567.69,Euro,ACH,1          |CYCLE       |2022/09/02 02:58|0119211  |814AB4F60   |0132965|81B88A230 |14567.69       |Euro              |14567.69   |Euro            |ACH           |1           |\n",
      "|2022/09/02 18:02,0132965,81B88A230,0137089,810C71940,114329.26,Yuan,114329.26,Yuan,ACH,1        |CYCLE       |2022/09/02 18:02|0132965  |81B88A230   |0137089|810C71940 |114329.26      |Yuan              |114329.26  |Yuan            |ACH           |1           |\n",
      "|2022/09/03 07:16,0137089,810C71940,0216618,81D5302D0,14567.69,Euro,14567.69,Euro,ACH,1          |CYCLE       |2022/09/03 07:16|0137089  |810C71940   |0216618|81D5302D0 |14567.69       |Euro              |14567.69   |Euro            |ACH           |1           |\n",
      "|2022/09/03 11:39,0216618,81D5302D0,0024083,81836B520,13629.75,Euro,13629.75,Euro,ACH,1          |CYCLE       |2022/09/03 11:39|0216618  |81D5302D0   |0024083|81836B520 |13629.75       |Euro              |13629.75   |Euro            |ACH           |1           |\n",
      "|2022/09/03 12:04,0024083,81836B520,0038110,81B868730,97481.96,Yuan,97481.96,Yuan,ACH,1          |CYCLE       |2022/09/03 12:04|0024083  |81836B520   |0038110|81B868730 |97481.96       |Yuan              |97481.96   |Yuan            |ACH           |1           |\n",
      "|2022/09/04 07:27,0038110,81B868730,0225015,81C6EA460,14054.71,US Dollar,14054.71,US Dollar,ACH,1|CYCLE       |2022/09/04 07:27|0038110  |81B868730   |0225015|81C6EA460 |14054.71       |US Dollar         |14054.71   |US Dollar       |ACH           |1           |\n",
      "|2022/09/04 08:38,0225015,81C6EA460,018112,8045CC910,13718.22,US Dollar,13718.22,US Dollar,ACH,1 |CYCLE       |2022/09/04 08:38|0225015  |81C6EA460   |018112 |8045CC910 |13718.22       |US Dollar         |13718.22   |US Dollar       |ACH           |1           |\n",
      "|2022/09/05 13:23,018112,8045CC910,007818,8037732C0,12908.33,US Dollar,12908.33,US Dollar,ACH,1  |CYCLE       |2022/09/05 13:23|018112   |8045CC910   |007818 |8037732C0 |12908.33       |US Dollar         |12908.33   |US Dollar       |ACH           |1           |\n",
      "|2022/09/06 05:10,007818,8037732C0,0121523,80D1BD2F0,10636.75,Euro,10636.75,Euro,ACH,1           |CYCLE       |2022/09/06 05:10|007818   |8037732C0   |0121523|80D1BD2F0 |10636.75       |Euro              |10636.75   |Euro            |ACH           |1           |\n",
      "|2022/09/06 13:24,0121523,80D1BD2F0,0134266,814167590,1378736.88,Yen,1378736.88,Yen,ACH,1        |CYCLE       |2022/09/06 13:24|0121523  |80D1BD2F0   |0134266|814167590 |1378736.88     |Yen               |1378736.88 |Yen             |ACH           |1           |\n",
      "|2022/09/01 00:25,0266915,81C3CD2E0,0266946,81A4AFE20,1155546.44,Ruble,1155546.44,Ruble,ACH,1    |FAN-IN      |2022/09/01 00:25|0266915  |81C3CD2E0   |0266946|81A4AFE20 |1155546.44     |Ruble             |1155546.44 |Ruble           |ACH           |1           |\n",
      "|2022/09/01 03:18,0174634,81C5B2AB0,0266946,81A4AFE20,1104862.69,Ruble,1104862.69,Ruble,ACH,1    |FAN-IN      |2022/09/01 03:18|0174634  |81C5B2AB0   |0266946|81A4AFE20 |1104862.69     |Ruble             |1104862.69 |Ruble           |ACH           |1           |\n",
      "+------------------------------------------------------------------------------------------------+------------+----------------+---------+------------+-------+----------+---------------+------------------+-----------+----------------+--------------+------------+\n",
      "only showing top 20 rows\n",
      "\n"
     ]
    }
   ],
   "source": [
    "# Display the results\n",
    "laundering_transactions.show(truncate=False)"
   ]
  },
  {
   "cell_type": "code",
   "execution_count": 17,
   "metadata": {},
   "outputs": [
    {
     "name": "stdout",
     "output_type": "stream",
     "text": [
      "+----------------+---------+------------+------------+\n",
      "|Timestamp       |From_Bank|Pattern_Type|isLaundering|\n",
      "+----------------+---------+------------+------------+\n",
      "|2022/09/01 05:14|00952    |STACK       |1           |\n",
      "|2022/09/03 13:09|0111632  |STACK       |1           |\n",
      "|2022/09/01 07:40|0118693  |STACK       |1           |\n",
      "|2022/09/01 14:19|013729   |STACK       |1           |\n",
      "|2022/09/02 12:40|0024750  |STACK       |1           |\n",
      "|2022/09/03 06:34|0213834  |STACK       |1           |\n",
      "|2022/09/01 00:19|0134266  |CYCLE       |1           |\n",
      "|2022/09/01 19:35|0036925  |CYCLE       |1           |\n",
      "|2022/09/02 02:58|0119211  |CYCLE       |1           |\n",
      "|2022/09/02 18:02|0132965  |CYCLE       |1           |\n",
      "|2022/09/03 07:16|0137089  |CYCLE       |1           |\n",
      "|2022/09/03 11:39|0216618  |CYCLE       |1           |\n",
      "|2022/09/03 12:04|0024083  |CYCLE       |1           |\n",
      "|2022/09/04 07:27|0038110  |CYCLE       |1           |\n",
      "|2022/09/04 08:38|0225015  |CYCLE       |1           |\n",
      "|2022/09/05 13:23|018112   |CYCLE       |1           |\n",
      "|2022/09/06 05:10|007818   |CYCLE       |1           |\n",
      "|2022/09/06 13:24|0121523  |CYCLE       |1           |\n",
      "|2022/09/01 00:25|0266915  |FAN-IN      |1           |\n",
      "|2022/09/01 03:18|0174634  |FAN-IN      |1           |\n",
      "+----------------+---------+------------+------------+\n",
      "only showing top 20 rows\n",
      "\n"
     ]
    }
   ],
   "source": [
    "laundering_transactions = laundering_transactions.select(\"Timestamp\", \"From_Bank\", \"Pattern_Type\", \"isLaundering\")\n",
    "\n",
    "#  Display the results\n",
    "laundering_transactions.show(truncate=False)"
   ]
  },
  {
   "cell_type": "code",
   "execution_count": 18,
   "metadata": {},
   "outputs": [
    {
     "name": "stdout",
     "output_type": "stream",
     "text": [
      "+---------+---------+------------+------------+\n",
      "|Timestamp|From_Bank|Pattern_Type|isLaundering|\n",
      "+---------+---------+------------+------------+\n",
      "|0        |0        |0           |0           |\n",
      "+---------+---------+------------+------------+\n",
      "\n"
     ]
    }
   ],
   "source": [
    "# Count empty strings in each column\n",
    "empty_string_counts = laundering_transactions.select(\n",
    "    [sum(when(col(c) == \"\", 1).otherwise(0)).alias(c) for c in laundering_transactions.columns])\n",
    "\n",
    "# Show the result\n",
    "empty_string_counts.show(truncate=False)"
   ]
  },
  {
   "cell_type": "code",
   "execution_count": 19,
   "metadata": {},
   "outputs": [],
   "source": [
    "laundering_transactions.createOrReplaceTempView(\"combined\")"
   ]
  },
  {
   "cell_type": "code",
   "execution_count": 20,
   "metadata": {},
   "outputs": [
    {
     "name": "stdout",
     "output_type": "stream",
     "text": [
      "+--------------+-----+\n",
      "|Pattern_Type  |count|\n",
      "+--------------+-----+\n",
      "|STACK         |4601 |\n",
      "|CYCLE         |2518 |\n",
      "|FAN-IN        |2644 |\n",
      "|GATHER-SCATTER|4830 |\n",
      "|BIPARTITE     |2623 |\n",
      "|FAN-OUT       |2617 |\n",
      "|SCATTER-GATHER|4874 |\n",
      "|RANDOM        |1945 |\n",
      "+--------------+-----+\n",
      "\n"
     ]
    }
   ],
   "source": [
    "# Query using spark.sql()\n",
    "result_df = spark.sql(\"\"\"\n",
    "    SELECT Pattern_Type, COUNT(Pattern_Type) AS count\n",
    "    FROM combined\n",
    "    GROUP BY Pattern_Type\n",
    "\"\"\")\n",
    "\n",
    "# Show the result\n",
    "result_df.show(truncate=False)"
   ]
  },
  {
   "cell_type": "code",
   "execution_count": 21,
   "metadata": {},
   "outputs": [
    {
     "name": "stdout",
     "output_type": "stream",
     "text": [
      "+------------+-----+\n",
      "|isLaundering|count|\n",
      "+------------+-----+\n",
      "|           1|26652|\n",
      "+------------+-----+\n",
      "\n"
     ]
    }
   ],
   "source": [
    "laundering_transactions.cache().groupBy(\"isLaundering\").count().show()"
   ]
  },
  {
   "cell_type": "markdown",
   "metadata": {},
   "source": [
    "### **Laundering Transactions Labeling**\n",
    "\n",
    "Joined the laundering pattern DataFrame (laundering_transactions) with the combined transaction DataFrame (trans_df) on transaction identifiers."
   ]
  },
  {
   "cell_type": "code",
   "execution_count": 22,
   "metadata": {},
   "outputs": [
    {
     "data": {
      "text/plain": [
       "DataFrame[Timestamp: string, From_Bank: string, Pattern_Type: string, isLaundering: string]"
      ]
     },
     "execution_count": 22,
     "metadata": {},
     "output_type": "execute_result"
    }
   ],
   "source": [
    "# Join the DataFrames on Timestamp, From_Bank, and To_Bank\n",
    "joined_df = trans_df.join(\n",
    "    laundering_transactions,\n",
    "    on=[\"Timestamp\", \"From_Bank\"],\n",
    "    how=\"left\"\n",
    ")\n",
    "\n",
    "# Freeing from cache\n",
    "trans_df.unpersist()\n",
    "laundering_transactions.unpersist()"
   ]
  },
  {
   "cell_type": "code",
   "execution_count": 23,
   "metadata": {},
   "outputs": [],
   "source": [
    "# Fill null values in the `isLaundering` column with 0\n",
    "joined_df = joined_df.withColumn(\n",
    "    \"isLaundering\",\n",
    "    F.when(F.col(\"isLaundering\").isNull(), F.lit(0)).otherwise(F.col(\"isLaundering\"))\n",
    ")"
   ]
  },
  {
   "cell_type": "code",
   "execution_count": 24,
   "metadata": {},
   "outputs": [
    {
     "name": "stdout",
     "output_type": "stream",
     "text": [
      "+----------------+---------+------------+-------+----------+---------------+------------------+-----------+----------------+--------------+------------+------------+\n",
      "|Timestamp       |From_Bank|From_Account|To_Bank|To_Account|Amount_Received|Receiving_Currency|Amount_Paid|Payment_Currency|Payment_Format|Pattern_Type|isLaundering|\n",
      "+----------------+---------+------------+-------+----------+---------------+------------------+-----------+----------------+--------------+------------+------------+\n",
      "|2022/09/01 00:17|020      |800104D70   |020    |800104D70 |6794.63        |US Dollar         |6794.63    |US Dollar       |Reinvestment  |NULL        |0           |\n",
      "|2022/09/01 00:02|03196    |800107150   |03196  |800107150 |7739.29        |US Dollar         |7739.29    |US Dollar       |Reinvestment  |NULL        |0           |\n",
      "|2022/09/01 00:17|01208    |80010E430   |01208  |80010E430 |1880.23        |US Dollar         |1880.23    |US Dollar       |Reinvestment  |NULL        |0           |\n",
      "|2022/09/01 00:03|01208    |80010E650   |020    |80010E6F0 |7.396688E7     |US Dollar         |7.396688E7 |US Dollar       |Cheque        |NULL        |0           |\n",
      "|2022/09/01 00:02|01208    |80010E650   |020    |80010EA30 |4.5868456E7    |US Dollar         |4.5868456E7|US Dollar       |Cheque        |NULL        |0           |\n",
      "|2022/09/01 00:27|03203    |80010EA80   |03203  |80010EA80 |13284.41       |US Dollar         |13284.41   |US Dollar       |Reinvestment  |NULL        |0           |\n",
      "|2022/09/01 00:25|020      |800104D20   |020    |800104D20 |9.72           |US Dollar         |9.72       |US Dollar       |Reinvestment  |NULL        |0           |\n",
      "|2022/09/01 00:09|01208    |80010E430   |01208  |80010E430 |7.66           |US Dollar         |7.66       |US Dollar       |Reinvestment  |NULL        |0           |\n",
      "|2022/09/01 00:09|011      |80010E600   |011    |80010E600 |16.33          |US Dollar         |16.33      |US Dollar       |Reinvestment  |NULL        |0           |\n",
      "|2022/09/01 00:06|01208    |80010E650   |01208  |80010E650 |4.86           |US Dollar         |4.86       |US Dollar       |Reinvestment  |NULL        |0           |\n",
      "|2022/09/01 00:25|020      |80010E6F0   |0183112|84DCA3150 |3.24           |US Dollar         |3.24       |US Dollar       |Credit Card   |NULL        |0           |\n",
      "|2022/09/01 00:16|020      |80010EA30   |01601  |802B6D220 |47.17          |US Dollar         |47.17      |US Dollar       |Credit Card   |NULL        |0           |\n",
      "|2022/09/01 00:14|020      |800073020   |020    |800073020 |848368.75      |US Dollar         |848368.75  |US Dollar       |Reinvestment  |NULL        |0           |\n",
      "|2022/09/01 00:05|03566    |800345920   |03566  |800345920 |10134.05       |US Dollar         |10134.05   |US Dollar       |Reinvestment  |NULL        |0           |\n",
      "|2022/09/01 00:09|011      |800329930   |02776  |800816450 |335999.7       |US Dollar         |335999.7   |US Dollar       |Cheque        |NULL        |0           |\n",
      "|2022/09/01 00:07|000      |8009B22F0   |000    |8009B22F0 |121.98         |US Dollar         |121.98     |US Dollar       |Reinvestment  |NULL        |0           |\n",
      "|2022/09/01 00:24|011      |8003289F0   |0249457|825F4B630 |45.39          |US Dollar         |45.39      |US Dollar       |Credit Card   |NULL        |0           |\n",
      "|2022/09/01 00:22|000      |800815DE0   |000    |800815DE0 |23.4           |US Dollar         |23.4       |US Dollar       |Reinvestment  |NULL        |0           |\n",
      "|2022/09/01 00:28|02776    |800816450   |0071901|81AB268F0 |30.23          |US Dollar         |30.23      |US Dollar       |Credit Card   |NULL        |0           |\n",
      "|2022/09/01 00:21|011081   |8008DDDF0   |011081 |8008DDDF0 |7.37           |US Dollar         |7.37       |US Dollar       |Reinvestment  |NULL        |0           |\n",
      "+----------------+---------+------------+-------+----------+---------------+------------------+-----------+----------------+--------------+------------+------------+\n",
      "only showing top 20 rows\n",
      "\n"
     ]
    }
   ],
   "source": [
    "# Cache the joined DataFrame\n",
    "joined_df.cache()\n",
    "\n",
    "# Display the cached DataFrame (use .show() instead of .display())\n",
    "joined_df.show(truncate=False)"
   ]
  },
  {
   "cell_type": "code",
   "execution_count": 25,
   "metadata": {},
   "outputs": [
    {
     "name": "stdout",
     "output_type": "stream",
     "text": [
      "root\n",
      " |-- Timestamp: string (nullable = true)\n",
      " |-- From_Bank: string (nullable = true)\n",
      " |-- From_Account: string (nullable = true)\n",
      " |-- To_Bank: string (nullable = true)\n",
      " |-- To_Account: string (nullable = true)\n",
      " |-- Amount_Received: float (nullable = true)\n",
      " |-- Receiving_Currency: string (nullable = true)\n",
      " |-- Amount_Paid: float (nullable = true)\n",
      " |-- Payment_Currency: string (nullable = true)\n",
      " |-- Payment_Format: string (nullable = true)\n",
      " |-- Pattern_Type: string (nullable = true)\n",
      " |-- isLaundering: integer (nullable = true)\n",
      "\n"
     ]
    }
   ],
   "source": [
    "# Convert 'isLaundering' from string to integer\n",
    "joined_df = joined_df.withColumn(\"isLaundering\", col(\"isLaundering\").cast(\"integer\"))\n",
    "\n",
    "\n",
    "# Verify the schema change\n",
    "joined_df.printSchema()"
   ]
  },
  {
   "cell_type": "code",
   "execution_count": 26,
   "metadata": {},
   "outputs": [
    {
     "name": "stdout",
     "output_type": "stream",
     "text": [
      "+------------+--------+\n",
      "|isLaundering|   count|\n",
      "+------------+--------+\n",
      "|           1|   84928|\n",
      "|           0|63065007|\n",
      "+------------+--------+\n",
      "\n"
     ]
    }
   ],
   "source": [
    "joined_df.groupBy(\"isLaundering\").count().show()"
   ]
  },
  {
   "cell_type": "markdown",
   "metadata": {},
   "source": [
    "The dataset is imbalanced."
   ]
  },
  {
   "cell_type": "markdown",
   "metadata": {},
   "source": [
    "### Balance the data"
   ]
  },
  {
   "cell_type": "code",
   "execution_count": 27,
   "metadata": {},
   "outputs": [],
   "source": [
    "# Register joined_df as a temporary view to use SQL\n",
    "joined_df.createOrReplaceTempView(\"joined_table\")\n",
    "\n",
    "# Step 1: Identify rows to drop\n",
    "# Here we assign a random value to each row that meets the condition, then select 50% of those rows\n",
    "query = \"\"\"\n",
    "SELECT *\n",
    "FROM joined_table\n",
    "WHERE NOT ((Pattern_Type IS NULL) AND (isLaundering = 0) AND (rand() < 0.5))\n",
    "\"\"\"\n",
    "\n",
    "# Execute the SQL query\n",
    "balanced_df = spark.sql(query)"
   ]
  },
  {
   "cell_type": "code",
   "execution_count": 28,
   "metadata": {},
   "outputs": [
    {
     "data": {
      "text/plain": [
       "DataFrame[Timestamp: string, From_Bank: string, From_Account: string, To_Bank: string, To_Account: string, Amount_Received: float, Receiving_Currency: string, Amount_Paid: float, Payment_Currency: string, Payment_Format: string, Pattern_Type: string, isLaundering: int]"
      ]
     },
     "execution_count": 28,
     "metadata": {},
     "output_type": "execute_result"
    }
   ],
   "source": [
    "joined_df.unpersist()"
   ]
  },
  {
   "cell_type": "code",
   "execution_count": 29,
   "metadata": {},
   "outputs": [
    {
     "name": "stdout",
     "output_type": "stream",
     "text": [
      "+------------+--------+\n",
      "|isLaundering|   count|\n",
      "+------------+--------+\n",
      "|           1|   84928|\n",
      "|           0|31535818|\n",
      "+------------+--------+\n",
      "\n"
     ]
    }
   ],
   "source": [
    "balanced_df.cache().groupBy(\"isLaundering\").count().show()"
   ]
  },
  {
   "cell_type": "markdown",
   "metadata": {},
   "source": [
    "### Data Cleaning and Exploration"
   ]
  },
  {
   "cell_type": "code",
   "execution_count": 30,
   "metadata": {},
   "outputs": [
    {
     "name": "stdout",
     "output_type": "stream",
     "text": [
      "+---------+---------+------------+-------+----------+---------------+------------------+-----------+----------------+--------------+------------+------------+\n",
      "|Timestamp|From_Bank|From_Account|To_Bank|To_Account|Amount_Received|Receiving_Currency|Amount_Paid|Payment_Currency|Payment_Format|Pattern_Type|isLaundering|\n",
      "+---------+---------+------------+-------+----------+---------------+------------------+-----------+----------------+--------------+------------+------------+\n",
      "|        0|        0|           0|      0|         0|              0|                 0|          0|               0|             0|    31535818|           0|\n",
      "+---------+---------+------------+-------+----------+---------------+------------------+-----------+----------------+--------------+------------+------------+\n",
      "\n"
     ]
    }
   ],
   "source": [
    "# Count NULL values in each column\n",
    "null_counts = balanced_df.select([sum(col(c).isNull().cast(\"int\")).alias(c) for c in balanced_df.columns])\n",
    "\n",
    "# Show the result\n",
    "null_counts.show()"
   ]
  },
  {
   "cell_type": "code",
   "execution_count": 31,
   "metadata": {},
   "outputs": [],
   "source": [
    "balanced_df = balanced_df.na.fill({\n",
    "    \"Pattern_Type\": \"Unknown\"\n",
    "})"
   ]
  },
  {
   "cell_type": "code",
   "execution_count": 32,
   "metadata": {},
   "outputs": [],
   "source": [
    "balanced_df = balanced_df.withColumn(\"Timestamp\", to_timestamp(\"Timestamp\", \"yyyy/MM/dd HH:mm\")) \\\n",
    "                         .withColumn(\"Hour\", hour(\"Timestamp\")) \\\n",
    "                         .withColumn(\"DayOfWeek\", dayofweek(\"Timestamp\"))"
   ]
  },
  {
   "cell_type": "code",
   "execution_count": 33,
   "metadata": {},
   "outputs": [
    {
     "name": "stdout",
     "output_type": "stream",
     "text": [
      "+-------------------+---------+------------+--------+----------+---------------+------------------+-----------+----------------+--------------+------------+------------+----+---------+\n",
      "|Timestamp          |From_Bank|From_Account|To_Bank |To_Account|Amount_Received|Receiving_Currency|Amount_Paid|Payment_Currency|Payment_Format|Pattern_Type|isLaundering|Hour|DayOfWeek|\n",
      "+-------------------+---------+------------+--------+----------+---------------+------------------+-----------+----------------+--------------+------------+------------+----+---------+\n",
      "|2022-09-01 00:03:00|01208    |80010E650   |020     |80010E6F0 |7.396688E7     |US Dollar         |7.396688E7 |US Dollar       |Cheque        |Unknown     |0           |0   |5        |\n",
      "|2022-09-01 00:09:00|011      |80010E600   |011     |80010E600 |16.33          |US Dollar         |16.33      |US Dollar       |Reinvestment  |Unknown     |0           |0   |5        |\n",
      "|2022-09-01 00:06:00|01208    |80010E650   |01208   |80010E650 |4.86           |US Dollar         |4.86       |US Dollar       |Reinvestment  |Unknown     |0           |0   |5        |\n",
      "|2022-09-01 00:25:00|020      |80010E6F0   |0183112 |84DCA3150 |3.24           |US Dollar         |3.24       |US Dollar       |Credit Card   |Unknown     |0           |0   |5        |\n",
      "|2022-09-01 00:16:00|020      |80010EA30   |01601   |802B6D220 |47.17          |US Dollar         |47.17      |US Dollar       |Credit Card   |Unknown     |0           |0   |5        |\n",
      "|2022-09-01 00:14:00|020      |800073020   |020     |800073020 |848368.75      |US Dollar         |848368.75  |US Dollar       |Reinvestment  |Unknown     |0           |0   |5        |\n",
      "|2022-09-01 00:22:00|000      |800815DE0   |000     |800815DE0 |23.4           |US Dollar         |23.4       |US Dollar       |Reinvestment  |Unknown     |0           |0   |5        |\n",
      "|2022-09-01 00:21:00|011081   |8008DDDF0   |011081  |8008DDDF0 |7.37           |US Dollar         |7.37       |US Dollar       |Reinvestment  |Unknown     |0           |0   |5        |\n",
      "|2022-09-01 00:15:00|01601    |800970C80   |0260376 |825F955A0 |121.38         |US Dollar         |121.38     |US Dollar       |Credit Card   |Unknown     |0           |0   |5        |\n",
      "|2022-09-01 00:13:00|00544    |8009B23E0   |01924   |8021B47D0 |9.29           |US Dollar         |9.29       |US Dollar       |Credit Card   |Unknown     |0           |0   |5        |\n",
      "|2022-09-01 00:13:00|021418   |800A37E30   |001315  |8009BDC30 |178265.0       |US Dollar         |178265.0   |US Dollar       |Cheque        |Unknown     |0           |0   |5        |\n",
      "|2022-09-01 00:12:00|00741    |800A37DE0   |00741   |800A37DE0 |4968.24        |US Dollar         |4968.24    |US Dollar       |Reinvestment  |Unknown     |0           |0   |5        |\n",
      "|2022-09-01 00:00:00|001046   |800A37D90   |0274159 |820C04F20 |26.42          |US Dollar         |26.42      |US Dollar       |Credit Card   |Unknown     |0           |0   |5        |\n",
      "|2022-09-01 00:19:00|01601    |800A37E80   |02190056|8494B0640 |298.47         |US Dollar         |298.47     |US Dollar       |Credit Card   |Unknown     |0           |0   |5        |\n",
      "|2022-09-01 00:19:00|031857   |800AB37C0   |031857  |800AB37C0 |84.38          |US Dollar         |84.38      |US Dollar       |Reinvestment  |Unknown     |0           |0   |5        |\n",
      "|2022-09-01 00:18:00|011304   |800A39B30   |004011  |8430C6190 |34.33          |US Dollar         |34.33      |US Dollar       |Credit Card   |Unknown     |0           |0   |5        |\n",
      "|2022-09-01 00:06:00|020      |800A39BD0   |004011  |8430C6190 |59.37          |US Dollar         |59.37      |US Dollar       |Credit Card   |Unknown     |0           |0   |5        |\n",
      "|2022-09-01 00:10:00|02776    |800A3A8C0   |0261418 |85127D560 |0.06           |US Dollar         |0.06       |US Dollar       |Credit Card   |Unknown     |0           |0   |5        |\n",
      "|2022-09-01 00:06:00|01818    |800A48B90   |01818   |800A48B90 |24.63          |US Dollar         |24.63      |US Dollar       |Reinvestment  |Unknown     |0           |0   |5        |\n",
      "|2022-09-01 00:03:00|01818    |800A48D60   |004011  |8430C6190 |41.4           |US Dollar         |41.4       |US Dollar       |Credit Card   |Unknown     |0           |0   |5        |\n",
      "+-------------------+---------+------------+--------+----------+---------------+------------------+-----------+----------------+--------------+------------+------------+----+---------+\n",
      "only showing top 20 rows\n",
      "\n"
     ]
    }
   ],
   "source": [
    "# Show the final DataFrame\n",
    "balanced_df.show(truncate=False)"
   ]
  },
  {
   "cell_type": "markdown",
   "metadata": {},
   "source": [
    "## **Feature Engineering**\n",
    "Calculate FanOut, FanIn, and AvgAmountSent.\n",
    "\n",
    "-FanOut:\n",
    "how many different transactions it initiates.\n",
    "\n",
    "-FanIn:\n",
    "how many different transactions it receives.\n",
    "\n",
    "-AvgAmountSent:\n",
    "the typical transaction size for each account as a sender."
   ]
  },
  {
   "cell_type": "code",
   "execution_count": 34,
   "metadata": {},
   "outputs": [],
   "source": [
    "# Window specifications\n",
    "sender_window = Window.partitionBy(\"From_Account\")\n",
    "receiver_window = Window.partitionBy(\"To_Account\")\n",
    "\n",
    "# Calculate fan-out, fan-in, and average amount sent\n",
    "featured_df = balanced_df.withColumn(\"FanOut\", count(\"To_Account\").over(sender_window)) \\\n",
    "                         .withColumn(\"FanIn\", count(\"From_Account\").over(receiver_window)) \\\n",
    "                         .withColumn(\"AvgAmountSent\", avg(\"Amount_Paid\").over(sender_window))"
   ]
  },
  {
   "cell_type": "code",
   "execution_count": 35,
   "metadata": {},
   "outputs": [
    {
     "name": "stdout",
     "output_type": "stream",
     "text": [
      "+-------------------+---------+------------+-------+----------+---------------+------------------+-----------+----------------+--------------+------------+------------+----+---------+------+-----+-----------------+\n",
      "|Timestamp          |From_Bank|From_Account|To_Bank|To_Account|Amount_Received|Receiving_Currency|Amount_Paid|Payment_Currency|Payment_Format|Pattern_Type|isLaundering|Hour|DayOfWeek|FanOut|FanIn|AvgAmountSent    |\n",
      "+-------------------+---------+------------+-------+----------+---------------+------------------+-----------+----------------+--------------+------------+------------+----+---------+------+-----+-----------------+\n",
      "|2022-09-01 05:21:00|004      |800060A20   |004    |800060A20 |1834.72        |Rupee             |1834.72    |Rupee           |Reinvestment  |Unknown     |0           |5   |5        |248   |47   |343727.0264566483|\n",
      "|2022-09-05 19:53:00|004      |800060A20   |004    |800060A20 |3117.27        |Euro              |268273.75  |Rupee           |ACH           |STACK       |1           |19  |2        |248   |47   |343727.0264566483|\n",
      "|2022-09-01 21:14:00|004      |800060A20   |004    |800060A20 |21381.18       |Rupee             |21381.18   |Rupee           |Cheque        |Unknown     |0           |21  |5        |248   |47   |343727.0264566483|\n",
      "|2022-09-05 12:43:00|004      |800060A20   |004    |800060A20 |10683.91       |Rupee             |10683.91   |Rupee           |Credit Card   |Unknown     |0           |12  |2        |248   |47   |343727.0264566483|\n",
      "|2022-09-06 11:39:00|004      |800060A20   |004    |800060A20 |21381.18       |Rupee             |21381.18   |Rupee           |Cheque        |Unknown     |0           |11  |3        |248   |47   |343727.0264566483|\n",
      "|2022-09-06 11:38:00|004      |800060A20   |004    |800060A20 |10683.91       |Rupee             |10683.91   |Rupee           |Credit Card   |Unknown     |0           |11  |3        |248   |47   |343727.0264566483|\n",
      "|2022-09-06 11:57:00|004      |800060A20   |004    |800060A20 |11860.6        |Rupee             |11860.6    |Rupee           |Wire          |Unknown     |0           |11  |3        |248   |47   |343727.0264566483|\n",
      "|2022-09-02 04:58:00|004      |800060A20   |004    |800060A20 |21381.18       |Rupee             |21381.18   |Rupee           |Cheque        |Unknown     |0           |4   |6        |248   |47   |343727.0264566483|\n",
      "|2022-09-02 04:45:00|004      |800060A20   |004    |800060A20 |11860.6        |Rupee             |11860.6    |Rupee           |Wire          |Unknown     |0           |4   |6        |248   |47   |343727.0264566483|\n",
      "|2022-09-07 13:32:00|004      |800060A20   |004    |800060A20 |21381.18       |Rupee             |21381.18   |Rupee           |Cheque        |Unknown     |0           |13  |4        |248   |47   |343727.0264566483|\n",
      "|2022-09-07 13:36:00|004      |800060A20   |004    |800060A20 |10683.91       |Rupee             |10683.91   |Rupee           |Credit Card   |Unknown     |0           |13  |4        |248   |47   |343727.0264566483|\n",
      "|2022-09-08 00:24:00|004      |800060A20   |004    |800060A20 |21381.18       |Rupee             |21381.18   |Rupee           |Cheque        |Unknown     |0           |0   |5        |248   |47   |343727.0264566483|\n",
      "|2022-09-08 00:26:00|004      |800060A20   |004    |800060A20 |10683.91       |Rupee             |10683.91   |Rupee           |Credit Card   |Unknown     |0           |0   |5        |248   |47   |343727.0264566483|\n",
      "|2022-09-08 00:14:00|004      |800060A20   |004    |800060A20 |11860.6        |Rupee             |11860.6    |Rupee           |Wire          |Unknown     |0           |0   |5        |248   |47   |343727.0264566483|\n",
      "|2022-09-09 01:43:00|004      |800060A20   |004    |800060A20 |21381.18       |Rupee             |21381.18   |Rupee           |Cheque        |Unknown     |0           |1   |6        |248   |47   |343727.0264566483|\n",
      "|2022-09-09 01:49:00|004      |800060A20   |004    |800060A20 |10683.91       |Rupee             |10683.91   |Rupee           |Credit Card   |Unknown     |0           |1   |6        |248   |47   |343727.0264566483|\n",
      "|2022-09-12 12:47:00|004      |800060A20   |004    |800060A20 |11860.6        |Rupee             |11860.6    |Rupee           |Wire          |Unknown     |0           |12  |2        |248   |47   |343727.0264566483|\n",
      "|2022-09-13 23:47:00|004      |800060A20   |004    |800060A20 |10683.91       |Rupee             |10683.91   |Rupee           |Credit Card   |Unknown     |0           |23  |3        |248   |47   |343727.0264566483|\n",
      "|2022-09-13 23:55:00|004      |800060A20   |004    |800060A20 |11860.6        |Rupee             |11860.6    |Rupee           |Wire          |Unknown     |0           |23  |3        |248   |47   |343727.0264566483|\n",
      "|2022-09-05 14:02:00|004      |800060A20   |004    |800060A20 |21381.18       |Rupee             |21381.18   |Rupee           |Cheque        |Unknown     |0           |14  |2        |248   |47   |343727.0264566483|\n",
      "+-------------------+---------+------------+-------+----------+---------------+------------------+-----------+----------------+--------------+------------+------------+----+---------+------+-----+-----------------+\n",
      "only showing top 20 rows\n",
      "\n"
     ]
    }
   ],
   "source": [
    "balanced_df.unpersist()\n",
    "\n",
    "# Show the resulting DataFrame\n",
    "featured_df.show(truncate=False)"
   ]
  },
  {
   "cell_type": "markdown",
   "metadata": {},
   "source": [
    "### Encode Categorical Variables\n",
    "\n",
    "Converted categorical columns into numerical indices using StringIndexer."
   ]
  },
  {
   "cell_type": "code",
   "execution_count": 36,
   "metadata": {},
   "outputs": [],
   "source": [
    "currency_index = StringIndexer(inputCol=\"Receiving_Currency\", outputCol=\"CurrencyIndex\")\n",
    "payment_format_index = StringIndexer(inputCol=\"Payment_Format\", outputCol=\"PaymentFormatIndex\")\n",
    "pattern_type_index = StringIndexer(inputCol=\"Pattern_Type\", outputCol=\"PatternTypeIndex\")\n",
    "\n",
    "featured_df = currency_index.fit(featured_df).transform(featured_df)\n",
    "featured_df = payment_format_index.fit(featured_df).transform(featured_df)\n",
    "featured_df = pattern_type_index.fit(featured_df).transform(featured_df)"
   ]
  },
  {
   "cell_type": "code",
   "execution_count": 37,
   "metadata": {},
   "outputs": [
    {
     "name": "stdout",
     "output_type": "stream",
     "text": [
      "+-------------------+---------+------------+-------+----------+---------------+------------------+-----------+----------------+--------------+------------+------------+----+---------+------+-----+-----------------+-------------+------------------+----------------+\n",
      "|Timestamp          |From_Bank|From_Account|To_Bank|To_Account|Amount_Received|Receiving_Currency|Amount_Paid|Payment_Currency|Payment_Format|Pattern_Type|isLaundering|Hour|DayOfWeek|FanOut|FanIn|AvgAmountSent    |CurrencyIndex|PaymentFormatIndex|PatternTypeIndex|\n",
      "+-------------------+---------+------------+-------+----------+---------------+------------------+-----------+----------------+--------------+------------+------------+----+---------+------+-----+-----------------+-------------+------------------+----------------+\n",
      "|2022-09-01 05:21:00|004      |800060A20   |004    |800060A20 |1834.72        |Rupee             |1834.72    |Rupee           |Reinvestment  |Unknown     |0           |5   |5        |248   |47   |343727.0264566483|5.0          |4.0               |0.0             |\n",
      "|2022-09-05 19:53:00|004      |800060A20   |004    |800060A20 |3117.27        |Euro              |268273.75  |Rupee           |ACH           |STACK       |1           |19  |2        |248   |47   |343727.0264566483|1.0          |2.0               |1.0             |\n",
      "|2022-09-01 21:14:00|004      |800060A20   |004    |800060A20 |21381.18       |Rupee             |21381.18   |Rupee           |Cheque        |Unknown     |0           |21  |5        |248   |47   |343727.0264566483|5.0          |0.0               |0.0             |\n",
      "|2022-09-05 12:43:00|004      |800060A20   |004    |800060A20 |10683.91       |Rupee             |10683.91   |Rupee           |Credit Card   |Unknown     |0           |12  |2        |248   |47   |343727.0264566483|5.0          |1.0               |0.0             |\n",
      "|2022-09-06 11:39:00|004      |800060A20   |004    |800060A20 |21381.18       |Rupee             |21381.18   |Rupee           |Cheque        |Unknown     |0           |11  |3        |248   |47   |343727.0264566483|5.0          |0.0               |0.0             |\n",
      "|2022-09-06 11:38:00|004      |800060A20   |004    |800060A20 |10683.91       |Rupee             |10683.91   |Rupee           |Credit Card   |Unknown     |0           |11  |3        |248   |47   |343727.0264566483|5.0          |1.0               |0.0             |\n",
      "|2022-09-06 11:57:00|004      |800060A20   |004    |800060A20 |11860.6        |Rupee             |11860.6    |Rupee           |Wire          |Unknown     |0           |11  |3        |248   |47   |343727.0264566483|5.0          |5.0               |0.0             |\n",
      "|2022-09-02 04:58:00|004      |800060A20   |004    |800060A20 |21381.18       |Rupee             |21381.18   |Rupee           |Cheque        |Unknown     |0           |4   |6        |248   |47   |343727.0264566483|5.0          |0.0               |0.0             |\n",
      "|2022-09-02 04:45:00|004      |800060A20   |004    |800060A20 |11860.6        |Rupee             |11860.6    |Rupee           |Wire          |Unknown     |0           |4   |6        |248   |47   |343727.0264566483|5.0          |5.0               |0.0             |\n",
      "|2022-09-07 13:32:00|004      |800060A20   |004    |800060A20 |21381.18       |Rupee             |21381.18   |Rupee           |Cheque        |Unknown     |0           |13  |4        |248   |47   |343727.0264566483|5.0          |0.0               |0.0             |\n",
      "|2022-09-07 13:36:00|004      |800060A20   |004    |800060A20 |10683.91       |Rupee             |10683.91   |Rupee           |Credit Card   |Unknown     |0           |13  |4        |248   |47   |343727.0264566483|5.0          |1.0               |0.0             |\n",
      "|2022-09-08 00:24:00|004      |800060A20   |004    |800060A20 |21381.18       |Rupee             |21381.18   |Rupee           |Cheque        |Unknown     |0           |0   |5        |248   |47   |343727.0264566483|5.0          |0.0               |0.0             |\n",
      "|2022-09-08 00:26:00|004      |800060A20   |004    |800060A20 |10683.91       |Rupee             |10683.91   |Rupee           |Credit Card   |Unknown     |0           |0   |5        |248   |47   |343727.0264566483|5.0          |1.0               |0.0             |\n",
      "|2022-09-08 00:14:00|004      |800060A20   |004    |800060A20 |11860.6        |Rupee             |11860.6    |Rupee           |Wire          |Unknown     |0           |0   |5        |248   |47   |343727.0264566483|5.0          |5.0               |0.0             |\n",
      "|2022-09-09 01:43:00|004      |800060A20   |004    |800060A20 |21381.18       |Rupee             |21381.18   |Rupee           |Cheque        |Unknown     |0           |1   |6        |248   |47   |343727.0264566483|5.0          |0.0               |0.0             |\n",
      "|2022-09-09 01:49:00|004      |800060A20   |004    |800060A20 |10683.91       |Rupee             |10683.91   |Rupee           |Credit Card   |Unknown     |0           |1   |6        |248   |47   |343727.0264566483|5.0          |1.0               |0.0             |\n",
      "|2022-09-12 12:47:00|004      |800060A20   |004    |800060A20 |11860.6        |Rupee             |11860.6    |Rupee           |Wire          |Unknown     |0           |12  |2        |248   |47   |343727.0264566483|5.0          |5.0               |0.0             |\n",
      "|2022-09-13 23:47:00|004      |800060A20   |004    |800060A20 |10683.91       |Rupee             |10683.91   |Rupee           |Credit Card   |Unknown     |0           |23  |3        |248   |47   |343727.0264566483|5.0          |1.0               |0.0             |\n",
      "|2022-09-13 23:55:00|004      |800060A20   |004    |800060A20 |11860.6        |Rupee             |11860.6    |Rupee           |Wire          |Unknown     |0           |23  |3        |248   |47   |343727.0264566483|5.0          |5.0               |0.0             |\n",
      "|2022-09-05 14:02:00|004      |800060A20   |004    |800060A20 |21381.18       |Rupee             |21381.18   |Rupee           |Cheque        |Unknown     |0           |14  |2        |248   |47   |343727.0264566483|5.0          |0.0               |0.0             |\n",
      "+-------------------+---------+------------+-------+----------+---------------+------------------+-----------+----------------+--------------+------------+------------+----+---------+------+-----+-----------------+-------------+------------------+----------------+\n",
      "only showing top 20 rows\n",
      "\n"
     ]
    }
   ],
   "source": [
    "# Show the resulting DataFrame\n",
    "featured_df.show(truncate=False)"
   ]
  },
  {
   "cell_type": "markdown",
   "metadata": {},
   "source": [
    "### Generate synthetic data for minority, using SMOTE"
   ]
  },
  {
   "cell_type": "code",
   "execution_count": 38,
   "metadata": {},
   "outputs": [
    {
     "name": "stdout",
     "output_type": "stream",
     "text": [
      "+------------+--------+\n",
      "|isLaundering|   count|\n",
      "+------------+--------+\n",
      "|           0|31535818|\n",
      "|           1| 4246400|\n",
      "+------------+--------+\n",
      "\n"
     ]
    }
   ],
   "source": [
    "# Step 1: Select only the required columns (excluding 'isLaundering')\n",
    "feature_columns = [\"Amount_Received\", \"FanOut\", \"FanIn\", \"AvgAmountSent\",\n",
    "                   \"Hour\", \"DayOfWeek\", \"CurrencyIndex\",\n",
    "                   \"PaymentFormatIndex\", \"PatternTypeIndex\"]\n",
    "\n",
    "# Select features for minority class (isLaundering = 1)\n",
    "minority_df = featured_df.filter(F.col(\"isLaundering\") == 1).select(*feature_columns)\n",
    "majority_df = featured_df.filter(F.col(\"isLaundering\") == 0).select(*feature_columns, \"isLaundering\")\n",
    "\n",
    "featured_df.unpersist()\n",
    "\n",
    "# Step 2: Define a function to generate synthetic samples (excluding isLaundering)\n",
    "def generate_synthetic_samples(minority_data, num_samples=10):\n",
    "    synthetic_samples = []\n",
    "\n",
    "    for row in minority_data:\n",
    "        base_vector = np.array([row[col] for col in feature_columns])\n",
    "\n",
    "        # Find random neighbors within the minority class\n",
    "        neighbors = random.sample(minority_data, k=num_samples)\n",
    "        for neighbor in neighbors:\n",
    "            neighbor_vector = np.array([neighbor[col] for col in feature_columns])\n",
    "\n",
    "            # Interpolate to create a synthetic sample\n",
    "            gap = np.random.rand()\n",
    "            synthetic_vector = base_vector + gap * (neighbor_vector - base_vector)\n",
    "\n",
    "            # Append the synthetic sample without the 'isLaundering' column\n",
    "            synthetic_samples.append(tuple(synthetic_vector.tolist()))\n",
    "\n",
    "    return synthetic_samples\n",
    "\n",
    "# Step 3: Collect minority samples and generate synthetic samples\n",
    "minority_data = minority_df.collect()\n",
    "synthetic_samples = generate_synthetic_samples(minority_data, num_samples=50)\n",
    "\n",
    "# Step 4: Define schema for synthetic samples without 'isLaundering'\n",
    "schema = StructType([StructField(col, DoubleType(), True) for col in feature_columns])\n",
    "\n",
    "# Create synthetic DataFrame from synthetic samples\n",
    "synthetic_df = spark.createDataFrame(synthetic_samples, schema=schema)\n",
    "\n",
    "# Step 5: Add 'isLaundering' column with value 1 to synthetic samples\n",
    "synthetic_df = synthetic_df.withColumn(\"isLaundering\", F.lit(1))\n",
    "\n",
    "# Step 6: Combine the majority and synthetic DataFrames\n",
    "balanced_featured_df = majority_df.union(synthetic_df)\n",
    "\n",
    "# Display counts to confirm balancing\n",
    "balanced_featured_df.cache().groupBy(\"isLaundering\").count().show()"
   ]
  },
  {
   "cell_type": "code",
   "execution_count": 39,
   "metadata": {},
   "outputs": [
    {
     "name": "stdout",
     "output_type": "stream",
     "text": [
      "+-----------------+------+-----+-----------------+----+---------+-------------+------------------+----------------+------------+\n",
      "|Amount_Received  |FanOut|FanIn|AvgAmountSent    |Hour|DayOfWeek|CurrencyIndex|PaymentFormatIndex|PatternTypeIndex|isLaundering|\n",
      "+-----------------+------+-----+-----------------+----+---------+-------------+------------------+----------------+------------+\n",
      "|1834.719970703125|248.0 |47.0 |343727.0264566483|5.0 |5.0      |5.0          |4.0               |0.0             |0           |\n",
      "|1.4794535E7      |248.0 |21.0 |343727.0264566483|18.0|6.0      |5.0          |0.0               |0.0             |0           |\n",
      "|21381.1796875    |248.0 |47.0 |343727.0264566483|7.0 |2.0      |5.0          |0.0               |0.0             |0           |\n",
      "|8330752.0        |248.0 |21.0 |343727.0264566483|18.0|6.0      |5.0          |5.0               |0.0             |0           |\n",
      "|10683.91015625   |248.0 |47.0 |343727.0264566483|7.0 |2.0      |5.0          |1.0               |0.0             |0           |\n",
      "|1.4794535E7      |248.0 |21.0 |343727.0264566483|9.0 |6.0      |5.0          |0.0               |0.0             |0           |\n",
      "|11860.599609375  |248.0 |47.0 |343727.0264566483|7.0 |2.0      |5.0          |5.0               |0.0             |0           |\n",
      "|378192.6875      |248.0 |8.0  |343727.0264566483|7.0 |6.0      |5.0          |0.0               |0.0             |0           |\n",
      "|640646.9375      |248.0 |8.0  |343727.0264566483|7.0 |6.0      |5.0          |3.0               |0.0             |0           |\n",
      "|10683.91015625   |248.0 |47.0 |343727.0264566483|12.0|2.0      |5.0          |1.0               |0.0             |0           |\n",
      "|515369.0625      |248.0 |8.0  |343727.0264566483|7.0 |6.0      |5.0          |2.0               |0.0             |0           |\n",
      "|21381.1796875    |248.0 |47.0 |343727.0264566483|11.0|3.0      |5.0          |0.0               |0.0             |0           |\n",
      "|378192.6875      |248.0 |8.0  |343727.0264566483|15.0|6.0      |5.0          |0.0               |0.0             |0           |\n",
      "|10683.91015625   |248.0 |47.0 |343727.0264566483|11.0|3.0      |5.0          |1.0               |0.0             |0           |\n",
      "|640646.9375      |248.0 |8.0  |343727.0264566483|15.0|6.0      |5.0          |3.0               |0.0             |0           |\n",
      "|11860.599609375  |248.0 |47.0 |343727.0264566483|11.0|3.0      |5.0          |5.0               |0.0             |0           |\n",
      "|21381.1796875    |248.0 |47.0 |343727.0264566483|13.0|4.0      |5.0          |0.0               |0.0             |0           |\n",
      "|13929.8603515625 |248.0 |10.0 |343727.0264566483|16.0|3.0      |5.0          |0.0               |0.0             |0           |\n",
      "|10683.91015625   |248.0 |47.0 |343727.0264566483|13.0|4.0      |5.0          |1.0               |0.0             |0           |\n",
      "|13929.8603515625 |248.0 |10.0 |343727.0264566483|20.0|4.0      |5.0          |0.0               |0.0             |0           |\n",
      "+-----------------+------+-----+-----------------+----+---------+-------------+------------------+----------------+------------+\n",
      "only showing top 20 rows\n",
      "\n"
     ]
    }
   ],
   "source": [
    "# Cache the joined DataFrame\n",
    "balanced_featured_df.cache()\n",
    "\n",
    "# Display the cached DataFrame\n",
    "balanced_featured_df.show(truncate=False) "
   ]
  },
  {
   "cell_type": "code",
   "execution_count": 40,
   "metadata": {},
   "outputs": [
    {
     "name": "stdout",
     "output_type": "stream",
     "text": [
      "+------------+--------+\n",
      "|isLaundering|count   |\n",
      "+------------+--------+\n",
      "|0           |31535818|\n",
      "|1           |4246400 |\n",
      "+------------+--------+\n",
      "\n"
     ]
    }
   ],
   "source": [
    "balanced_featured_df.groupBy(\"isLaundering\").count().show(truncate=False)"
   ]
  },
  {
   "cell_type": "markdown",
   "metadata": {},
   "source": [
    "### Assemble Features into a Vector\n",
    "\n",
    "Use VectorAssembler to create a feature vector for model input"
   ]
  },
  {
   "cell_type": "code",
   "execution_count": 41,
   "metadata": {},
   "outputs": [],
   "source": [
    "features_col = [\"Amount_Received\", \"FanOut\", \"FanIn\", \"AvgAmountSent\", \"Hour\", \"DayOfWeek\", \"CurrencyIndex\", \"PaymentFormatIndex\", \"PatternTypeIndex\"]\n",
    "correlation_features = [\"Amount_Received\", \"FanOut\", \"FanIn\", \"AvgAmountSent\", \"Hour\", \"DayOfWeek\", \"CurrencyIndex\", \"PaymentFormatIndex\", \"PatternTypeIndex\", \"isLaundering\"]\n",
    "assembler = VectorAssembler(inputCols=correlation_features, outputCol=\"corr_features\")\n",
    "df_vector = assembler.transform(balanced_featured_df)"
   ]
  },
  {
   "cell_type": "markdown",
   "metadata": {},
   "source": [
    "### Correlation heatmap"
   ]
  },
  {
   "cell_type": "code",
   "execution_count": 42,
   "metadata": {},
   "outputs": [
    {
     "data": {
      "image/png": "[encoded data removed]",
      "text/plain": [
       "<Figure size 1000x800 with 2 Axes>"
      ]
     },
     "metadata": {},
     "output_type": "display_data"
    }
   ],
   "source": [
    "# Calculate correlation matrix\n",
    "correlation_matrix = Correlation.corr(df_vector, \"corr_features\").head()[0].toArray()\n",
    "\n",
    "# Convert to a heatmap\n",
    "plt.figure(figsize=(10, 8))\n",
    "sns.heatmap(correlation_matrix, annot=True, xticklabels=correlation_features, yticklabels=correlation_features, cmap=\"coolwarm\")\n",
    "plt.title(\"Correlation Heatmap of Numerical Features\")\n",
    "plt.show()"
   ]
  },
  {
   "cell_type": "markdown",
   "metadata": {},
   "source": [
    "### Observations:\n",
    "\n",
    "#### Correlation Heatmap:\n",
    "Amount_Received and AvgAmountSent show a moderately positive correlation (0.34). Including both might introduce some redundancy, but they may still capture distinct aspects of the data.\n",
    "\n",
    "Other features have relatively low correlations with each other, which generally indicates that they might add unique information to the model.\n",
    "\n",
    "- PatternTypeIndex Has the strongest positive correlation with\n",
    "isLaundering (0.89).\n",
    "- CurrencyIndex Shows a weak positive correlation (0.046) with isLaundering.\n",
    "- PaymentFormatIndex Also shows a weak positive correlation (0.053) with isLaundering.\n",
    "- FanOut and DayOfWeek Show negative correlations (-0.087 and -0.067, respectively) with isLaundering.\n",
    "- Hour and AvgAmountSent Show weak positive correlations (0.014 and 0.053, respectively) with isLaundering.\n",
    "- Amount_Received Has an extremely weak positive correlation (0.0059) with isLaundering, suggesting it's nearly uncorrelated.\n",
    "- FanIn Has a weak negative correlation (-0.01) with isLaundering.\n",
    "\n",
    "#### Key Takeaways:\n",
    "- PatternTypeIndex is the standout feature, showing a strong correlation with isLaundering. It’s critical to include this in the model.\n",
    "- Features like CurrencyIndex and PaymentFormatIndex have weak correlations but could still contribute useful information when combined with others.\n",
    "- Features like Amount_Received, FanIn, and Hour have very weak correlations, and their inclusion should be carefully considered to avoid adding noise to the model.\n",
    "\n",
    "\n"
   ]
  },
  {
   "cell_type": "markdown",
   "metadata": {},
   "source": [
    "## **Feature Selection**"
   ]
  },
  {
   "cell_type": "code",
   "execution_count": 43,
   "metadata": {},
   "outputs": [],
   "source": [
    "# Define all features for the final assembler, using scaled and unscaled features\n",
    "all_features = [ \"FanOut\", \"AvgAmountSent\", \"DayOfWeek\", \"CurrencyIndex\", \"PaymentFormatIndex\", \"PatternTypeIndex\"]\n",
    "\n",
    "# Assemble the final feature vector for prediction\n",
    "assembler_final = VectorAssembler(inputCols=all_features, outputCol=\"features\")\n",
    "balanced_featured_df = balanced_featured_df.select(all_features + [\"isLaundering\"])"
   ]
  },
  {
   "cell_type": "code",
   "execution_count": 44,
   "metadata": {},
   "outputs": [
    {
     "name": "stdout",
     "output_type": "stream",
     "text": [
      "Approximate size in memory: (5.08 GB)\n"
     ]
    }
   ],
   "source": [
    "size_in_memory_gb = balanced_featured_df.rdd.map(lambda row: len(str(row))).sum() / (1024 * 1024 * 1024)\n",
    "print(f\"Approximate size in memory: ({size_in_memory_gb:.2f} GB)\")"
   ]
  },
  {
   "cell_type": "markdown",
   "metadata": {},
   "source": [
    "### Split the data"
   ]
  },
  {
   "cell_type": "code",
   "execution_count": 45,
   "metadata": {},
   "outputs": [
    {
     "data": {
      "text/plain": [
       "DataFrame[FanOut: double, AvgAmountSent: double, DayOfWeek: double, CurrencyIndex: double, PaymentFormatIndex: double, PatternTypeIndex: double, isLaundering: int]"
      ]
     },
     "execution_count": 45,
     "metadata": {},
     "output_type": "execute_result"
    }
   ],
   "source": [
    "train_df, val_df, test_df = balanced_featured_df.randomSplit([0.6, 0.2, 0.2], seed=42)\n",
    "balanced_featured_df.unpersist()\n",
    "train_df.cache()\n",
    "val_df.cache()\n",
    "test_df.cache()"
   ]
  },
  {
   "cell_type": "markdown",
   "metadata": {},
   "source": [
    "## **Model Training**"
   ]
  },
  {
   "cell_type": "markdown",
   "metadata": {},
   "source": [
    "### Created a Pipeline with Random Forest Classifier ML model:\n",
    "\n",
    "Defined a pipeline to streamline the feature transformations and model training process."
   ]
  },
  {
   "cell_type": "code",
   "execution_count": 46,
   "metadata": {},
   "outputs": [],
   "source": [
    "rf = RandomForestClassifier(featuresCol=\"features\", labelCol=\"isLaundering\", numTrees=20, maxDepth=10)\n",
    "pipeline = Pipeline(stages=[ assembler_final, rf])"
   ]
  },
  {
   "cell_type": "markdown",
   "metadata": {},
   "source": [
    "### Hyperparameter Tuning using CrossValidator:\n",
    "\n",
    "- Used CrossValidator to find the best hyperparameters for the Random Forest model.\n",
    "- BinaryClassificationEvaluator Used to evaluate the model's performance.\n",
    "- areaUnderROC is a common metric for binary classification, especially useful for imbalanced datasets."
   ]
  },
  {
   "cell_type": "code",
   "execution_count": 47,
   "metadata": {},
   "outputs": [],
   "source": [
    "paramGridSearch = ParamGridBuilder().addGrid(rf.numTrees, [10, 20]).addGrid(rf.maxDepth, [10]).build()\n",
    "evaluatorr = BinaryClassificationEvaluator(labelCol=\"isLaundering\", metricName=\"areaUnderROC\")\n",
    "crossvalidation = CrossValidator(estimator=pipeline, estimatorParamMaps=paramGridSearch, evaluator=evaluatorr, numFolds=3)\n",
    "cvModel = crossvalidation.fit(train_df)"
   ]
  },
  {
   "cell_type": "markdown",
   "metadata": {},
   "source": [
    "### Evaluate on Validation Data:\n",
    "\n",
    "Used F1 Score, Area Under ROC metrics to evaluate the model on validation data."
   ]
  },
  {
   "cell_type": "code",
   "execution_count": 48,
   "metadata": {},
   "outputs": [
    {
     "name": "stdout",
     "output_type": "stream",
     "text": [
      "Area Under ROC Score on validation data: 1.0\n"
     ]
    }
   ],
   "source": [
    "# Evaluate ROC on validation data\n",
    "predictions = cvModel.transform(val_df)\n",
    "roc_score = evaluatorr.evaluate(predictions)\n",
    "print(\"Area Under ROC Score on validation data:\", roc_score)"
   ]
  },
  {
   "cell_type": "code",
   "execution_count": 49,
   "metadata": {},
   "outputs": [
    {
     "name": "stdout",
     "output_type": "stream",
     "text": [
      "F1 Score on validation data: 1.0\n"
     ]
    }
   ],
   "source": [
    "# Evaluate F1 Score on validation data\n",
    "evaluator_f1 = MulticlassClassificationEvaluator(labelCol=\"isLaundering\", predictionCol=\"prediction\", metricName=\"f1\")\n",
    "f1_score = evaluator_f1.evaluate(predictions)\n",
    "print(\"F1 Score on validation data:\", f1_score)"
   ]
  },
  {
   "cell_type": "markdown",
   "metadata": {},
   "source": [
    "### Final Testing:\n",
    "\n",
    "Test the model on the test set to get final performance metrics."
   ]
  },
  {
   "cell_type": "code",
   "execution_count": 50,
   "metadata": {},
   "outputs": [
    {
     "name": "stdout",
     "output_type": "stream",
     "text": [
      "Final ROC Score on test data: 1.0\n"
     ]
    }
   ],
   "source": [
    "# Evaluate ROC on test data\n",
    "final_predictions = cvModel.transform(test_df)\n",
    "test_roc_score = evaluatorr.evaluate(final_predictions)\n",
    "print(\"Final ROC Score on test data:\", test_roc_score)"
   ]
  },
  {
   "cell_type": "code",
   "execution_count": 51,
   "metadata": {},
   "outputs": [
    {
     "name": "stdout",
     "output_type": "stream",
     "text": [
      "Final F1 Score on test data: 1.0\n"
     ]
    }
   ],
   "source": [
    "# Evaluate F1 Score on test data\n",
    "test_f1_score = evaluator_f1.evaluate(final_predictions)\n",
    "print(\"Final F1 Score on test data:\", test_f1_score)"
   ]
  },
  {
   "cell_type": "code",
   "execution_count": null,
   "metadata": {},
   "outputs": [],
   "source": [
    "#evaluate percision and recall\n",
    "precision_evaluator = MulticlassClassificationEvaluator(\n",
    "    labelCol=\"isLaundering\", predictionCol=\"prediction\", metricName=\"weightedPrecision\")\n",
    "recall_evaluator = MulticlassClassificationEvaluator(\n",
    "    labelCol=\"isLaundering\", predictionCol=\"prediction\", metricName=\"weightedRecall\")\n",
    "\n",
    "precision = precision_evaluator.evaluate(final_predictions)\n",
    "recall = recall_evaluator.evaluate(final_predictions)\n",
    "\n",
    "print(f\"Precision: {precision}\")\n",
    "print(f\"Recall: {recall}\")"
   ]
  },
  {
   "cell_type": "markdown",
   "metadata": {},
   "source": [
    "### Observations\n",
    "Unrealistically Good Performance, can be caused by\n",
    "\n",
    "#### Data Leakage:\n",
    "If features or information from the test data inadvertently influenced the training process, the model could appear to perform perfectly. Like Using features directly derived from the target variable. (PatternTypeIndex)"
   ]
  },
  {
   "cell_type": "code",
   "execution_count": null,
   "metadata": {},
   "outputs": [],
   "source": []
  }
 ],
 "metadata": {
  "kaggle": {
   "accelerator": "none",
   "dataSources": [
    {
     "datasetId": 2948142,
     "sourceId": 5080714,
     "sourceType": "datasetVersion"
    }
   ],
   "dockerImageVersionId": 30786,
   "isGpuEnabled": false,
   "isInternetEnabled": true,
   "language": "python",
   "sourceType": "notebook"
  },
  "kernelspec": {
   "display_name": "Python 3 (ipykernel)",
   "language": "python",
   "name": "python3"
  },
  "language_info": {
   "codemirror_mode": {
    "name": "ipython",
    "version": 3
   },
   "file_extension": ".py",
   "mimetype": "text/x-python",
   "name": "python",
   "nbconvert_exporter": "python",
   "pygments_lexer": "ipython3",
   "version": "3.11.5"
  }
 },
 "nbformat": 4,
 "nbformat_minor": 4
}
