{
 "cells": [
  {
   "cell_type": "markdown",
   "metadata": {
    "id": "5ocIZcdD87xN"
   },
   "source": [
    "# Anti-Money Laundering Detector Model"
   ]
  },
  {
   "cell_type": "code",
   "execution_count": 1,
   "metadata": {
    "id": "fiGQpM0987xQ"
   },
   "outputs": [],
   "source": [
    "import os\n",
    "import json\n",
    "import zipfile\n",
    "from pyspark.sql import SparkSession\n",
    "import random\n",
    "from pyspark.sql.types import StructType, StructField, StringType, FloatType, IntegerType, DoubleType\n",
    "from pyspark.sql import functions as F\n",
    "from pyspark.sql.functions import col, sum, when, count, avg, to_timestamp, hour, dayofweek\n",
    "from pyspark.ml.feature import StringIndexer, VectorAssembler, StandardScaler\n",
    "from pyspark.sql import Window\n",
    "import seaborn as sns\n",
    "import matplotlib.pyplot as plt\n",
    "from pyspark.ml.stat import Correlation\n",
    "import numpy as np\n",
    "import pandas as pd\n",
    "from pyspark.ml import Pipeline\n",
    "from pyspark.ml.classification import RandomForestClassifier\n",
    "from pyspark.ml.tuning import CrossValidator, ParamGridBuilder\n",
    "from pyspark.ml.evaluation import BinaryClassificationEvaluator, MulticlassClassificationEvaluator"
   ]
  },
  {
   "cell_type": "code",
   "execution_count": 2,
   "metadata": {
    "colab": {
     "base_uri": "https://localhost:8080/"
    },
    "id": "1QdWyThH87xX",
    "outputId": "91e626cb-0f84-49ac-cb52-b95b21f655ad"
   },
   "outputs": [
    {
     "name": "stdout",
     "output_type": "stream",
     "text": [
      "Requirement already satisfied: kaggle in /usr/local/lib/python3.10/dist-packages (1.6.17)\n",
      "Requirement already satisfied: six>=1.10 in /usr/local/lib/python3.10/dist-packages (from kaggle) (1.16.0)\n",
      "Requirement already satisfied: certifi>=2023.7.22 in /usr/local/lib/python3.10/dist-packages (from kaggle) (2024.8.30)\n",
      "Requirement already satisfied: python-dateutil in /usr/local/lib/python3.10/dist-packages (from kaggle) (2.8.2)\n",
      "Requirement already satisfied: requests in /usr/local/lib/python3.10/dist-packages (from kaggle) (2.32.3)\n",
      "Requirement already satisfied: tqdm in /usr/local/lib/python3.10/dist-packages (from kaggle) (4.66.6)\n",
      "Requirement already satisfied: python-slugify in /usr/local/lib/python3.10/dist-packages (from kaggle) (8.0.4)\n",
      "Requirement already satisfied: urllib3 in /usr/local/lib/python3.10/dist-packages (from kaggle) (2.2.3)\n",
      "Requirement already satisfied: bleach in /usr/local/lib/python3.10/dist-packages (from kaggle) (6.2.0)\n",
      "Requirement already satisfied: webencodings in /usr/local/lib/python3.10/dist-packages (from bleach->kaggle) (0.5.1)\n",
      "Requirement already satisfied: text-unidecode>=1.3 in /usr/local/lib/python3.10/dist-packages (from python-slugify->kaggle) (1.3)\n",
      "Requirement already satisfied: charset-normalizer<4,>=2 in /usr/local/lib/python3.10/dist-packages (from requests->kaggle) (3.4.0)\n",
      "Requirement already satisfied: idna<4,>=2.5 in /usr/local/lib/python3.10/dist-packages (from requests->kaggle) (3.10)\n"
     ]
    }
   ],
   "source": [
    "%pip install kaggle"
   ]
  },
  {
   "cell_type": "code",
   "execution_count": null,
   "metadata": {
    "colab": {
     "base_uri": "https://localhost:8080/",
     "height": 176
    },
    "id": "icm4NiDA87xZ",
    "outputId": "ce60faff-d64f-4ed2-f127-2cd169a1f35e"
   },
   "outputs": [],
   "source": [
    "#os.environ['KAGGLE_CONFIG_DIR'] = '/dbfs/FileStore'\n",
    "#dbutils.fs.mkdirs(\"/FileStore/kaggle_data\")\n",
    "#!kaggle datasets download -d ealtman2019/ibm-transactions-for-anti-money-laundering-aml -p /dbfs/FileStore/kaggle_data --force"
   ]
  },
  {
   "cell_type": "code",
   "execution_count": 2,
   "metadata": {},
   "outputs": [],
   "source": [
    "#(Replace Databrick) - Replace dbutils.fs.mkdirs with os.makedirs\n",
    "os.makedirs(\"/FileStore/kaggle_data\", exist_ok=True)"
   ]
  },
  {
   "cell_type": "code",
   "execution_count": 3,
   "metadata": {},
   "outputs": [],
   "source": [
    "# (Replace Databrick)\n",
    "os.environ['KAGGLE_CONFIG_DIR'] = './kaggle_config'  # Local directory"
   ]
  },
  {
   "cell_type": "code",
   "execution_count": null,
   "metadata": {},
   "outputs": [],
   "source": [
    "# (Replace Databrick) -\n",
    "os.makedirs(\"./kaggle_data\", exist_ok=True)  # Create a local directory\n",
    "# Download the dataset from kaggle\n",
    "os.system(\"kaggle datasets download -d ealtman2019/ibm-transactions-for-anti-money-laundering-aml -p ./kaggle_data --force\")"
   ]
  },
  {
   "cell_type": "code",
   "execution_count": 5,
   "metadata": {},
   "outputs": [],
   "source": [
    "# Extact the file if it does not exists\n",
    "import zipfile\n",
    "import os\n",
    "from pyspark.sql.types import StructType, StructField, StringType, FloatType\n",
    "\n",
    "def extract_csv_file(zip_path, file_name, extract_path, final_local_path):\n",
    "    # Check if the file already exists\n",
    "    if os.path.exists(final_local_path):\n",
    "        print(f\"File already exists at {final_local_path}. Skipping extraction.\")\n",
    "    else:\n",
    "        # Extract the specific file from the zip\n",
    "        with zipfile.ZipFile(zip_path, 'r') as z:\n",
    "            if file_name in z.namelist():\n",
    "                # Extract the file to a local path\n",
    "                extracted_file_path = os.path.join(extract_path, file_name)\n",
    "                z.extract(file_name, extract_path)\n",
    "                print(f\"File extracted to {extracted_file_path}\")\n",
    "\n",
    "                # Move the file to the final local path (if needed)\n",
    "                os.rename(extracted_file_path, final_local_path)\n",
    "                print(f\"File moved to {final_local_path}\")\n",
    "            else:\n",
    "                print(f\"{file_name} not found in the zip file.\")\n",
    "                return None\n",
    "\n",
    "    # Define schema for the transactions\n",
    "    schema = StructType([\n",
    "        StructField(\"Timestamp\", StringType(), True),\n",
    "        StructField(\"From_Bank\", StringType(), True),\n",
    "        StructField(\"From_Account\", StringType(), True),\n",
    "        StructField(\"To_Bank\", StringType(), True),\n",
    "        StructField(\"To_Account\", StringType(), True),\n",
    "        StructField(\"Amount_Received\", FloatType(), True),\n",
    "        StructField(\"Receiving_Currency\", StringType(), True),\n",
    "        StructField(\"Amount_Paid\", FloatType(), True),\n",
    "        StructField(\"Payment_Currency\", StringType(), True),\n",
    "        StructField(\"Payment_Format\", StringType(), True)\n",
    "    ])\n",
    "\n",
    "    # Initialize Spark session (if not already initialized)\n",
    "    spark = SparkSession.builder.appName(\"LocalCSVReader\").getOrCreate()\n",
    "\n",
    "    # Read the file into a DataFrame\n",
    "    df = spark.read.csv(final_local_path, schema=schema, header=True)\n",
    "\n",
    "    return df"
   ]
  },
  {
   "cell_type": "code",
   "execution_count": 6,
   "metadata": {},
   "outputs": [],
   "source": [
    "# (Replace Databrick) - Create local directories before extract the data \n",
    "import os\n",
    "os.makedirs(\"kaggle_data/extracted\", exist_ok=True)\n",
    "os.makedirs(\"output\", exist_ok=True)"
   ]
  },
  {
   "cell_type": "code",
   "execution_count": 7,
   "metadata": {},
   "outputs": [
    {
     "name": "stdout",
     "output_type": "stream",
     "text": [
      "File already exists at output/HI-Medium_Trans.csv. Skipping extraction.\n"
     ]
    }
   ],
   "source": [
    "# (Replace Databrick) - Update the paths for local use\n",
    "hi_medium_df = extract_csv_file(\n",
    "    zip_path=\"kaggle_data/ibm-transactions-for-anti-money-laundering-aml.zip\",  # Local path to the zip file\n",
    "    file_name=\"HI-Medium_Trans.csv\",  # File name inside the zip\n",
    "    extract_path=\"kaggle_data/extracted\",  # Local directory for extraction\n",
    "    final_local_path=\"output/HI-Medium_Trans.csv\"  # Local path for the final CSV\n",
    ")"
   ]
  },
  {
   "cell_type": "code",
   "execution_count": 8,
   "metadata": {},
   "outputs": [
    {
     "name": "stdout",
     "output_type": "stream",
     "text": [
      "File already exists at output/LI-Medium_Trans.csv. Skipping extraction.\n"
     ]
    }
   ],
   "source": [
    " # (Replace Databrick)\n",
    "li_medium_df = extract_csv_file(\n",
    "    zip_path=\"kaggle_data/ibm-transactions-for-anti-money-laundering-aml.zip\",  # Local path to the zip file\n",
    "    file_name=\"LI-Medium_Trans.csv\",  # File name inside the zip\n",
    "    extract_path=\"kaggle_data/extracted\",  # Local directory for extraction\n",
    "    final_local_path=\"output/LI-Medium_Trans.csv\"  # Local path for the final CSV\n",
    ")"
   ]
  },
  {
   "cell_type": "markdown",
   "metadata": {
    "id": "HmVyGi2W87xd"
   },
   "source": [
    "### Combine HI-Medium and LI-Medium\n",
    "for real world scenario"
   ]
  },
  {
   "cell_type": "code",
   "execution_count": 9,
   "metadata": {
    "id": "6emES5CL87xe"
   },
   "outputs": [],
   "source": [
    "# Combine both datasets\n",
    "combined_df = hi_medium_df.union(li_medium_df)"
   ]
  },
  {
   "cell_type": "code",
   "execution_count": 12,
   "metadata": {},
   "outputs": [],
   "source": [
    "# Extract the files if not exist\n",
    "import os\n",
    "import zipfile\n",
    "\n",
    "# Initialize Spark session (if not already initialized)\n",
    "spark = SparkSession.builder.appName(\"LocalTextReader\").getOrCreate()\n",
    "\n",
    "def extract_text(zip_path, file_name, extract_path, final_local_path):\n",
    "    # Check if the file already exists\n",
    "    if os.path.exists(final_local_path):\n",
    "        print(f\"File already exists at {final_local_path}. Skipping extraction.\")\n",
    "    else:\n",
    "        # Extract the specific file from the zip\n",
    "        with zipfile.ZipFile(zip_path, 'r') as z:\n",
    "            if file_name in z.namelist():\n",
    "                # Extract the file to the specified local path\n",
    "                extracted_file_path = os.path.join(extract_path, file_name)\n",
    "                z.extract(file_name, extract_path)\n",
    "                print(f\"File extracted to {extracted_file_path}\")\n",
    "\n",
    "                # Move the file to the final local path (if needed)\n",
    "                os.rename(extracted_file_path, final_local_path)\n",
    "                print(f\"File moved to {final_local_path}\")\n",
    "            else:\n",
    "                print(f\"{file_name} not found in the zip file.\")\n",
    "                return None\n",
    "\n",
    "    # Read the file into a Spark DataFrame\n",
    "    df = spark.read.text(final_local_path)\n",
    "\n",
    "    return df"
   ]
  },
  {
   "cell_type": "code",
   "execution_count": 13,
   "metadata": {},
   "outputs": [
    {
     "name": "stdout",
     "output_type": "stream",
     "text": [
      "File already exists at output/HI-Medium_Patterns.txt. Skipping extraction.\n",
      "File already exists at output/LI-Medium_Patterns.txt. Skipping extraction.\n"
     ]
    }
   ],
   "source": [
    "# Load both pattern files\n",
    "\n",
    "#(Replace Databrick) - Define paths for local use \n",
    "hi_patterns_df = extract_text(\n",
    "    zip_path=\"kaggle_data/ibm-transactions-for-anti-money-laundering-aml.zip\",  # Local path to the zip file\n",
    "    file_name=\"HI-Medium_Patterns.txt\",  # File name inside the zip\n",
    "    extract_path=\"kaggle_data/extracted\",  # Local directory for extraction\n",
    "    final_local_path=\"output/HI-Medium_Patterns.txt\"  # Local path for the final extracted file\n",
    ")\n",
    "\n",
    "li_patterns_df = extract_text(\n",
    "    zip_path=\"kaggle_data/ibm-transactions-for-anti-money-laundering-aml.zip\",  # Local path to the zip file\n",
    "    file_name=\"LI-Medium_Patterns.txt\",  # File name inside the zip\n",
    "    extract_path=\"kaggle_data/extracted\",  # Local directory for extraction\n",
    "    final_local_path=\"output/LI-Medium_Patterns.txt\"  # Local path for the final extracted file\n",
    ")"
   ]
  },
  {
   "cell_type": "code",
   "execution_count": 14,
   "metadata": {
    "id": "abBakzE387xf"
   },
   "outputs": [],
   "source": [
    "# Union both pattern DataFrames\n",
    "patterns_df = hi_patterns_df.union(li_patterns_df)"
   ]
  },
  {
   "cell_type": "code",
   "execution_count": 15,
   "metadata": {
    "id": "OX7hzD-p87xg"
   },
   "outputs": [
    {
     "name": "stdout",
     "output_type": "stream",
     "text": [
      "+--------------------+\n",
      "|               value|\n",
      "+--------------------+\n",
      "|BEGIN LAUNDERING ...|\n",
      "|2022/09/01 05:14,...|\n",
      "|2022/09/03 13:09,...|\n",
      "|2022/09/01 07:40,...|\n",
      "|2022/09/01 14:19,...|\n",
      "|2022/09/02 12:40,...|\n",
      "|2022/09/03 06:34,...|\n",
      "|END LAUNDERING AT...|\n",
      "|                    |\n",
      "|BEGIN LAUNDERING ...|\n",
      "|2022/09/01 00:19,...|\n",
      "|2022/09/01 19:35,...|\n",
      "|2022/09/02 02:58,...|\n",
      "|2022/09/02 18:02,...|\n",
      "|2022/09/03 07:16,...|\n",
      "|2022/09/03 11:39,...|\n",
      "|2022/09/03 12:04,...|\n",
      "|2022/09/04 07:27,...|\n",
      "|2022/09/04 08:38,...|\n",
      "|2022/09/05 13:23,...|\n",
      "+--------------------+\n",
      "only showing top 20 rows\n",
      "\n",
      "Number of rows in patterns_df: 36288\n"
     ]
    }
   ],
   "source": [
    "# (Replace Databrick) - This replace Databricks display\n",
    "\n",
    "# Cache the DataFrame\n",
    "patterns_df.cache()\n",
    "\n",
    "# Show the data (use this in place of display)\n",
    "patterns_df.show()  # Displays the top rows of the DataFrame\n",
    "\n",
    "# Optionally count the rows to confirm caching works\n",
    "print(f\"Number of rows in patterns_df: {patterns_df.count()}\")"
   ]
  },
  {
   "cell_type": "markdown",
   "metadata": {
    "id": "esIuZFMu87xg"
   },
   "source": [
    "### Identify Laundering Patterns:\n",
    "Each laundering attempt begins with BEGIN LAUNDERING ATTEMPT - [PATTERN] and ends with END LAUNDERING ATTEMPT.\n",
    "\n",
    "Used regex to extract pattern types (e.g., Fan-Out, Cycle, Gather-Scatter, Stack) and transaction details."
   ]
  },
  {
   "cell_type": "code",
   "execution_count": 16,
   "metadata": {},
   "outputs": [],
   "source": [
    "# (Replace Databrick) - Correct the Databricks\n",
    "# Step 1: Extract Pattern_Type where there is \"BEGIN LAUNDERING ATTEMPT\"\n",
    "patterns_df = patterns_df.withColumn(\n",
    "    \"Pattern_Type\",\n",
    "    F.when(F.col(\"value\").rlike(\"BEGIN LAUNDERING ATTEMPT - (.+)\"),\n",
    "           F.regexp_extract(F.col(\"value\"), \"BEGIN LAUNDERING ATTEMPT - (.+)\", 1))\n",
    "     .otherwise(None)\n",
    ")\n",
    "\n",
    "# Step 2: Forward fill the Pattern_Type to propagate it down until \"END LAUNDERING ATTEMPT\"\n",
    "window_spec = Window.orderBy(F.monotonically_increasing_id()).rowsBetween(Window.unboundedPreceding, 0)\n",
    "patterns_df = patterns_df.withColumn(\n",
    "    \"Pattern_Type\",\n",
    "    F.last(\"Pattern_Type\", True).over(window_spec)\n",
    ")\n",
    "\n",
    "# Step 3: Filter out rows with \"END LAUNDERING ATTEMPT\" as they only mark the end of an attempt\n",
    "patterns_df = patterns_df.filter(~F.col(\"value\").contains(\"END LAUNDERING ATTEMPT\"))\n"
   ]
  },
  {
   "cell_type": "code",
   "execution_count": 17,
   "metadata": {},
   "outputs": [
    {
     "name": "stdout",
     "output_type": "stream",
     "text": [
      "+------------------------------------------------------------------------------------------------+-------------------+\n",
      "|value                                                                                           |Pattern_Type       |\n",
      "+------------------------------------------------------------------------------------------------+-------------------+\n",
      "|BEGIN LAUNDERING ATTEMPT - STACK                                                                |STACK              |\n",
      "|2022/09/01 05:14,00952,8139F54E0,0111632,8062C56E0,5331.44,US Dollar,5331.44,US Dollar,ACH,1    |STACK              |\n",
      "|2022/09/03 13:09,0111632,8062C56E0,008456,81363F620,5602.59,US Dollar,5602.59,US Dollar,ACH,1   |STACK              |\n",
      "|2022/09/01 07:40,0118693,823D5EB90,013729,801CF2E60,1400.54,US Dollar,1400.54,US Dollar,ACH,1   |STACK              |\n",
      "|2022/09/01 14:19,013729,801CF2E60,0123621,81A7090F0,1467.94,US Dollar,1467.94,US Dollar,ACH,1   |STACK              |\n",
      "|2022/09/02 12:40,0024750,81363F410,0213834,808757B00,16898.29,US Dollar,16898.29,US Dollar,ACH,1|STACK              |\n",
      "|2022/09/03 06:34,0213834,808757B00,000,800073EF0,17607.19,US Dollar,17607.19,US Dollar,ACH,1    |STACK              |\n",
      "|                                                                                                |STACK              |\n",
      "|BEGIN LAUNDERING ATTEMPT - CYCLE:  Max 12 hops                                                  |CYCLE:  Max 12 hops|\n",
      "|2022/09/01 00:19,0134266,814167590,0036925,810E343A0,132713.46,Yuan,132713.46,Yuan,ACH,1        |CYCLE:  Max 12 hops|\n",
      "|2022/09/01 19:35,0036925,810E343A0,0119211,814AB4F60,18264.20,US Dollar,18264.20,US Dollar,ACH,1|CYCLE:  Max 12 hops|\n",
      "|2022/09/02 02:58,0119211,814AB4F60,0132965,81B88A230,14567.69,Euro,14567.69,Euro,ACH,1          |CYCLE:  Max 12 hops|\n",
      "|2022/09/02 18:02,0132965,81B88A230,0137089,810C71940,114329.26,Yuan,114329.26,Yuan,ACH,1        |CYCLE:  Max 12 hops|\n",
      "|2022/09/03 07:16,0137089,810C71940,0216618,81D5302D0,14567.69,Euro,14567.69,Euro,ACH,1          |CYCLE:  Max 12 hops|\n",
      "|2022/09/03 11:39,0216618,81D5302D0,0024083,81836B520,13629.75,Euro,13629.75,Euro,ACH,1          |CYCLE:  Max 12 hops|\n",
      "|2022/09/03 12:04,0024083,81836B520,0038110,81B868730,97481.96,Yuan,97481.96,Yuan,ACH,1          |CYCLE:  Max 12 hops|\n",
      "|2022/09/04 07:27,0038110,81B868730,0225015,81C6EA460,14054.71,US Dollar,14054.71,US Dollar,ACH,1|CYCLE:  Max 12 hops|\n",
      "|2022/09/04 08:38,0225015,81C6EA460,018112,8045CC910,13718.22,US Dollar,13718.22,US Dollar,ACH,1 |CYCLE:  Max 12 hops|\n",
      "|2022/09/05 13:23,018112,8045CC910,007818,8037732C0,12908.33,US Dollar,12908.33,US Dollar,ACH,1  |CYCLE:  Max 12 hops|\n",
      "|2022/09/06 05:10,007818,8037732C0,0121523,80D1BD2F0,10636.75,Euro,10636.75,Euro,ACH,1           |CYCLE:  Max 12 hops|\n",
      "+------------------------------------------------------------------------------------------------+-------------------+\n",
      "only showing top 20 rows\n",
      "\n"
     ]
    }
   ],
   "source": [
    "# (Replace Databrick) - Display the results\n",
    "patterns_df.show(truncate=False)  # Show the DataFrame without truncating long strings"
   ]
  },
  {
   "cell_type": "code",
   "execution_count": 18,
   "metadata": {},
   "outputs": [
    {
     "name": "stdout",
     "output_type": "stream",
     "text": [
      "+------------------------------------------------------------------------------------------------+------------+\n",
      "|value                                                                                           |Pattern_Type|\n",
      "+------------------------------------------------------------------------------------------------+------------+\n",
      "|BEGIN LAUNDERING ATTEMPT - STACK                                                                |STACK       |\n",
      "|2022/09/01 05:14,00952,8139F54E0,0111632,8062C56E0,5331.44,US Dollar,5331.44,US Dollar,ACH,1    |STACK       |\n",
      "|2022/09/03 13:09,0111632,8062C56E0,008456,81363F620,5602.59,US Dollar,5602.59,US Dollar,ACH,1   |STACK       |\n",
      "|2022/09/01 07:40,0118693,823D5EB90,013729,801CF2E60,1400.54,US Dollar,1400.54,US Dollar,ACH,1   |STACK       |\n",
      "|2022/09/01 14:19,013729,801CF2E60,0123621,81A7090F0,1467.94,US Dollar,1467.94,US Dollar,ACH,1   |STACK       |\n",
      "|2022/09/02 12:40,0024750,81363F410,0213834,808757B00,16898.29,US Dollar,16898.29,US Dollar,ACH,1|STACK       |\n",
      "|2022/09/03 06:34,0213834,808757B00,000,800073EF0,17607.19,US Dollar,17607.19,US Dollar,ACH,1    |STACK       |\n",
      "|                                                                                                |STACK       |\n",
      "|BEGIN LAUNDERING ATTEMPT - CYCLE:  Max 12 hops                                                  |CYCLE       |\n",
      "|2022/09/01 00:19,0134266,814167590,0036925,810E343A0,132713.46,Yuan,132713.46,Yuan,ACH,1        |CYCLE       |\n",
      "|2022/09/01 19:35,0036925,810E343A0,0119211,814AB4F60,18264.20,US Dollar,18264.20,US Dollar,ACH,1|CYCLE       |\n",
      "|2022/09/02 02:58,0119211,814AB4F60,0132965,81B88A230,14567.69,Euro,14567.69,Euro,ACH,1          |CYCLE       |\n",
      "|2022/09/02 18:02,0132965,81B88A230,0137089,810C71940,114329.26,Yuan,114329.26,Yuan,ACH,1        |CYCLE       |\n",
      "|2022/09/03 07:16,0137089,810C71940,0216618,81D5302D0,14567.69,Euro,14567.69,Euro,ACH,1          |CYCLE       |\n",
      "|2022/09/03 11:39,0216618,81D5302D0,0024083,81836B520,13629.75,Euro,13629.75,Euro,ACH,1          |CYCLE       |\n",
      "|2022/09/03 12:04,0024083,81836B520,0038110,81B868730,97481.96,Yuan,97481.96,Yuan,ACH,1          |CYCLE       |\n",
      "|2022/09/04 07:27,0038110,81B868730,0225015,81C6EA460,14054.71,US Dollar,14054.71,US Dollar,ACH,1|CYCLE       |\n",
      "|2022/09/04 08:38,0225015,81C6EA460,018112,8045CC910,13718.22,US Dollar,13718.22,US Dollar,ACH,1 |CYCLE       |\n",
      "|2022/09/05 13:23,018112,8045CC910,007818,8037732C0,12908.33,US Dollar,12908.33,US Dollar,ACH,1  |CYCLE       |\n",
      "|2022/09/06 05:10,007818,8037732C0,0121523,80D1BD2F0,10636.75,Euro,10636.75,Euro,ACH,1           |CYCLE       |\n",
      "+------------------------------------------------------------------------------------------------+------------+\n",
      "only showing top 20 rows\n",
      "\n"
     ]
    }
   ],
   "source": [
    "# Remove any text after the colon in Pattern_Type if it exists\n",
    "patterns_df = patterns_df.withColumn(\n",
    "    \"Pattern_Type\",\n",
    "    F.regexp_replace(F.col(\"Pattern_Type\"), \":.*\", \"\")\n",
    ")\n",
    "\n",
    "# Display the DataFrame (use .show() in local PySpark)\n",
    "patterns_df.show(truncate=False)"
   ]
  },
  {
   "cell_type": "code",
   "execution_count": 19,
   "metadata": {},
   "outputs": [
    {
     "name": "stdout",
     "output_type": "stream",
     "text": [
      "+------------------------------------------------------------------------------------------------+------------+\n",
      "|value                                                                                           |Pattern_Type|\n",
      "+------------------------------------------------------------------------------------------------+------------+\n",
      "|2022/09/01 05:14,00952,8139F54E0,0111632,8062C56E0,5331.44,US Dollar,5331.44,US Dollar,ACH,1    |STACK       |\n",
      "|2022/09/03 13:09,0111632,8062C56E0,008456,81363F620,5602.59,US Dollar,5602.59,US Dollar,ACH,1   |STACK       |\n",
      "|2022/09/01 07:40,0118693,823D5EB90,013729,801CF2E60,1400.54,US Dollar,1400.54,US Dollar,ACH,1   |STACK       |\n",
      "|2022/09/01 14:19,013729,801CF2E60,0123621,81A7090F0,1467.94,US Dollar,1467.94,US Dollar,ACH,1   |STACK       |\n",
      "|2022/09/02 12:40,0024750,81363F410,0213834,808757B00,16898.29,US Dollar,16898.29,US Dollar,ACH,1|STACK       |\n",
      "|2022/09/03 06:34,0213834,808757B00,000,800073EF0,17607.19,US Dollar,17607.19,US Dollar,ACH,1    |STACK       |\n",
      "|2022/09/01 00:19,0134266,814167590,0036925,810E343A0,132713.46,Yuan,132713.46,Yuan,ACH,1        |CYCLE       |\n",
      "|2022/09/01 19:35,0036925,810E343A0,0119211,814AB4F60,18264.20,US Dollar,18264.20,US Dollar,ACH,1|CYCLE       |\n",
      "|2022/09/02 02:58,0119211,814AB4F60,0132965,81B88A230,14567.69,Euro,14567.69,Euro,ACH,1          |CYCLE       |\n",
      "|2022/09/02 18:02,0132965,81B88A230,0137089,810C71940,114329.26,Yuan,114329.26,Yuan,ACH,1        |CYCLE       |\n",
      "|2022/09/03 07:16,0137089,810C71940,0216618,81D5302D0,14567.69,Euro,14567.69,Euro,ACH,1          |CYCLE       |\n",
      "|2022/09/03 11:39,0216618,81D5302D0,0024083,81836B520,13629.75,Euro,13629.75,Euro,ACH,1          |CYCLE       |\n",
      "|2022/09/03 12:04,0024083,81836B520,0038110,81B868730,97481.96,Yuan,97481.96,Yuan,ACH,1          |CYCLE       |\n",
      "|2022/09/04 07:27,0038110,81B868730,0225015,81C6EA460,14054.71,US Dollar,14054.71,US Dollar,ACH,1|CYCLE       |\n",
      "|2022/09/04 08:38,0225015,81C6EA460,018112,8045CC910,13718.22,US Dollar,13718.22,US Dollar,ACH,1 |CYCLE       |\n",
      "|2022/09/05 13:23,018112,8045CC910,007818,8037732C0,12908.33,US Dollar,12908.33,US Dollar,ACH,1  |CYCLE       |\n",
      "|2022/09/06 05:10,007818,8037732C0,0121523,80D1BD2F0,10636.75,Euro,10636.75,Euro,ACH,1           |CYCLE       |\n",
      "|2022/09/06 13:24,0121523,80D1BD2F0,0134266,814167590,1378736.88,Yen,1378736.88,Yen,ACH,1        |CYCLE       |\n",
      "|2022/09/01 00:25,0266915,81C3CD2E0,0266946,81A4AFE20,1155546.44,Ruble,1155546.44,Ruble,ACH,1    |FAN-IN      |\n",
      "|2022/09/01 03:18,0174634,81C5B2AB0,0266946,81A4AFE20,1104862.69,Ruble,1104862.69,Ruble,ACH,1    |FAN-IN      |\n",
      "+------------------------------------------------------------------------------------------------+------------+\n",
      "only showing top 20 rows\n",
      "\n"
     ]
    }
   ],
   "source": [
    "# Filter to get only transaction lines and ignore start/end laundering attempt lines\n",
    "laundering_transactions = patterns_df.filter(patterns_df.value.rlike(r'\\d{4}/\\d{2}/\\d{2}'))\n",
    "\n",
    "# Unpersist patterns_df to free memory\n",
    "patterns_df.unpersist()\n",
    "\n",
    "# Cache laundering_transactions for reuse\n",
    "laundering_transactions.cache()\n",
    "\n",
    "# Display the filtered DataFrame (use .show() instead of display())\n",
    "laundering_transactions.show(truncate=False)"
   ]
  },
  {
   "cell_type": "code",
   "execution_count": 20,
   "metadata": {},
   "outputs": [],
   "source": [
    "# Updated Code for Better Readability\n",
    "columns = [\n",
    "    \"Timestamp\", \"From_Bank\", \"From_Account\", \"To_Bank\", \"To_Account\",\n",
    "    \"Amount_Received\", \"Receiving_currency\", \"Amount_paid\", \n",
    "    \"Payment_currency\", \"Payment_Format\", \"isLaundering\"\n",
    "]\n",
    "\n",
    "for idx, col_name in enumerate(columns):\n",
    "    laundering_transactions = laundering_transactions.withColumn(col_name, F.split(F.col(\"value\"), \",\").getItem(idx))"
   ]
  },
  {
   "cell_type": "code",
   "execution_count": null,
   "metadata": {},
   "outputs": [
    {
     "name": "stdout",
     "output_type": "stream",
     "text": [
      "+------------------------------------------------------------------------------------------------+------------+----------------+---------+------------+-------+----------+---------------+------------------+-----------+----------------+--------------+------------+\n",
      "|value                                                                                           |Pattern_Type|Timestamp       |From_Bank|From_Account|To_Bank|To_Account|Amount_Received|Receiving_currency|Amount_paid|Payment_currency|Payment_Format|isLaundering|\n",
      "+------------------------------------------------------------------------------------------------+------------+----------------+---------+------------+-------+----------+---------------+------------------+-----------+----------------+--------------+------------+\n",
      "|2022/09/01 05:14,00952,8139F54E0,0111632,8062C56E0,5331.44,US Dollar,5331.44,US Dollar,ACH,1    |STACK       |2022/09/01 05:14|00952    |8139F54E0   |0111632|8062C56E0 |5331.44        |US Dollar         |5331.44    |US Dollar       |ACH           |1           |\n",
      "|2022/09/03 13:09,0111632,8062C56E0,008456,81363F620,5602.59,US Dollar,5602.59,US Dollar,ACH,1   |STACK       |2022/09/03 13:09|0111632  |8062C56E0   |008456 |81363F620 |5602.59        |US Dollar         |5602.59    |US Dollar       |ACH           |1           |\n",
      "|2022/09/01 07:40,0118693,823D5EB90,013729,801CF2E60,1400.54,US Dollar,1400.54,US Dollar,ACH,1   |STACK       |2022/09/01 07:40|0118693  |823D5EB90   |013729 |801CF2E60 |1400.54        |US Dollar         |1400.54    |US Dollar       |ACH           |1           |\n",
      "|2022/09/01 14:19,013729,801CF2E60,0123621,81A7090F0,1467.94,US Dollar,1467.94,US Dollar,ACH,1   |STACK       |2022/09/01 14:19|013729   |801CF2E60   |0123621|81A7090F0 |1467.94        |US Dollar         |1467.94    |US Dollar       |ACH           |1           |\n",
      "|2022/09/02 12:40,0024750,81363F410,0213834,808757B00,16898.29,US Dollar,16898.29,US Dollar,ACH,1|STACK       |2022/09/02 12:40|0024750  |81363F410   |0213834|808757B00 |16898.29       |US Dollar         |16898.29   |US Dollar       |ACH           |1           |\n",
      "|2022/09/03 06:34,0213834,808757B00,000,800073EF0,17607.19,US Dollar,17607.19,US Dollar,ACH,1    |STACK       |2022/09/03 06:34|0213834  |808757B00   |000    |800073EF0 |17607.19       |US Dollar         |17607.19   |US Dollar       |ACH           |1           |\n",
      "|2022/09/01 00:19,0134266,814167590,0036925,810E343A0,132713.46,Yuan,132713.46,Yuan,ACH,1        |CYCLE       |2022/09/01 00:19|0134266  |814167590   |0036925|810E343A0 |132713.46      |Yuan              |132713.46  |Yuan            |ACH           |1           |\n",
      "|2022/09/01 19:35,0036925,810E343A0,0119211,814AB4F60,18264.20,US Dollar,18264.20,US Dollar,ACH,1|CYCLE       |2022/09/01 19:35|0036925  |810E343A0   |0119211|814AB4F60 |18264.20       |US Dollar         |18264.20   |US Dollar       |ACH           |1           |\n",
      "|2022/09/02 02:58,0119211,814AB4F60,0132965,81B88A230,14567.69,Euro,14567.69,Euro,ACH,1          |CYCLE       |2022/09/02 02:58|0119211  |814AB4F60   |0132965|81B88A230 |14567.69       |Euro              |14567.69   |Euro            |ACH           |1           |\n",
      "|2022/09/02 18:02,0132965,81B88A230,0137089,810C71940,114329.26,Yuan,114329.26,Yuan,ACH,1        |CYCLE       |2022/09/02 18:02|0132965  |81B88A230   |0137089|810C71940 |114329.26      |Yuan              |114329.26  |Yuan            |ACH           |1           |\n",
      "|2022/09/03 07:16,0137089,810C71940,0216618,81D5302D0,14567.69,Euro,14567.69,Euro,ACH,1          |CYCLE       |2022/09/03 07:16|0137089  |810C71940   |0216618|81D5302D0 |14567.69       |Euro              |14567.69   |Euro            |ACH           |1           |\n",
      "|2022/09/03 11:39,0216618,81D5302D0,0024083,81836B520,13629.75,Euro,13629.75,Euro,ACH,1          |CYCLE       |2022/09/03 11:39|0216618  |81D5302D0   |0024083|81836B520 |13629.75       |Euro              |13629.75   |Euro            |ACH           |1           |\n",
      "|2022/09/03 12:04,0024083,81836B520,0038110,81B868730,97481.96,Yuan,97481.96,Yuan,ACH,1          |CYCLE       |2022/09/03 12:04|0024083  |81836B520   |0038110|81B868730 |97481.96       |Yuan              |97481.96   |Yuan            |ACH           |1           |\n",
      "|2022/09/04 07:27,0038110,81B868730,0225015,81C6EA460,14054.71,US Dollar,14054.71,US Dollar,ACH,1|CYCLE       |2022/09/04 07:27|0038110  |81B868730   |0225015|81C6EA460 |14054.71       |US Dollar         |14054.71   |US Dollar       |ACH           |1           |\n",
      "|2022/09/04 08:38,0225015,81C6EA460,018112,8045CC910,13718.22,US Dollar,13718.22,US Dollar,ACH,1 |CYCLE       |2022/09/04 08:38|0225015  |81C6EA460   |018112 |8045CC910 |13718.22       |US Dollar         |13718.22   |US Dollar       |ACH           |1           |\n",
      "|2022/09/05 13:23,018112,8045CC910,007818,8037732C0,12908.33,US Dollar,12908.33,US Dollar,ACH,1  |CYCLE       |2022/09/05 13:23|018112   |8045CC910   |007818 |8037732C0 |12908.33       |US Dollar         |12908.33   |US Dollar       |ACH           |1           |\n",
      "|2022/09/06 05:10,007818,8037732C0,0121523,80D1BD2F0,10636.75,Euro,10636.75,Euro,ACH,1           |CYCLE       |2022/09/06 05:10|007818   |8037732C0   |0121523|80D1BD2F0 |10636.75       |Euro              |10636.75   |Euro            |ACH           |1           |\n",
      "|2022/09/06 13:24,0121523,80D1BD2F0,0134266,814167590,1378736.88,Yen,1378736.88,Yen,ACH,1        |CYCLE       |2022/09/06 13:24|0121523  |80D1BD2F0   |0134266|814167590 |1378736.88     |Yen               |1378736.88 |Yen             |ACH           |1           |\n",
      "|2022/09/01 00:25,0266915,81C3CD2E0,0266946,81A4AFE20,1155546.44,Ruble,1155546.44,Ruble,ACH,1    |FAN-IN      |2022/09/01 00:25|0266915  |81C3CD2E0   |0266946|81A4AFE20 |1155546.44     |Ruble             |1155546.44 |Ruble           |ACH           |1           |\n",
      "|2022/09/01 03:18,0174634,81C5B2AB0,0266946,81A4AFE20,1104862.69,Ruble,1104862.69,Ruble,ACH,1    |FAN-IN      |2022/09/01 03:18|0174634  |81C5B2AB0   |0266946|81A4AFE20 |1104862.69     |Ruble             |1104862.69 |Ruble           |ACH           |1           |\n",
      "+------------------------------------------------------------------------------------------------+------------+----------------+---------+------------+-------+----------+---------------+------------------+-----------+----------------+--------------+------------+\n",
      "only showing top 20 rows\n",
      "\n"
     ]
    }
   ],
   "source": [
    "# Display the results\n",
    "laundering_transactions.show(truncate=False)"
   ]
  },
  {
   "cell_type": "code",
   "execution_count": null,
   "metadata": {},
   "outputs": [
    {
     "name": "stdout",
     "output_type": "stream",
     "text": [
      "+----------------+---------+------------+------------+\n",
      "|Timestamp       |From_Bank|Pattern_Type|isLaundering|\n",
      "+----------------+---------+------------+------------+\n",
      "|2022/09/01 05:14|00952    |STACK       |1           |\n",
      "|2022/09/03 13:09|0111632  |STACK       |1           |\n",
      "|2022/09/01 07:40|0118693  |STACK       |1           |\n",
      "|2022/09/01 14:19|013729   |STACK       |1           |\n",
      "|2022/09/02 12:40|0024750  |STACK       |1           |\n",
      "|2022/09/03 06:34|0213834  |STACK       |1           |\n",
      "|2022/09/01 00:19|0134266  |CYCLE       |1           |\n",
      "|2022/09/01 19:35|0036925  |CYCLE       |1           |\n",
      "|2022/09/02 02:58|0119211  |CYCLE       |1           |\n",
      "|2022/09/02 18:02|0132965  |CYCLE       |1           |\n",
      "|2022/09/03 07:16|0137089  |CYCLE       |1           |\n",
      "|2022/09/03 11:39|0216618  |CYCLE       |1           |\n",
      "|2022/09/03 12:04|0024083  |CYCLE       |1           |\n",
      "|2022/09/04 07:27|0038110  |CYCLE       |1           |\n",
      "|2022/09/04 08:38|0225015  |CYCLE       |1           |\n",
      "|2022/09/05 13:23|018112   |CYCLE       |1           |\n",
      "|2022/09/06 05:10|007818   |CYCLE       |1           |\n",
      "|2022/09/06 13:24|0121523  |CYCLE       |1           |\n",
      "|2022/09/01 00:25|0266915  |FAN-IN      |1           |\n",
      "|2022/09/01 03:18|0174634  |FAN-IN      |1           |\n",
      "+----------------+---------+------------+------------+\n",
      "only showing top 20 rows\n",
      "\n"
     ]
    }
   ],
   "source": [
    "laundering_transactions = laundering_transactions.select(\"Timestamp\", \"From_Bank\", \"Pattern_Type\", \"isLaundering\")\n",
    "\n",
    "# Display the results\n",
    "laundering_transactions.show(truncate=False)"
   ]
  },
  {
   "cell_type": "code",
   "execution_count": null,
   "metadata": {
    "id": "7ZtGMmw387xj"
   },
   "outputs": [
    {
     "name": "stdout",
     "output_type": "stream",
     "text": [
      "+---------+---------+------------+------------+\n",
      "|Timestamp|From_Bank|Pattern_Type|isLaundering|\n",
      "+---------+---------+------------+------------+\n",
      "|0        |0        |0           |0           |\n",
      "+---------+---------+------------+------------+\n",
      "\n"
     ]
    }
   ],
   "source": [
    "# Count empty strings in each column\n",
    "empty_string_counts = laundering_transactions.select(\n",
    "    [sum(when(col(c) == \"\", 1).otherwise(0)).alias(c) for c in laundering_transactions.columns])\n",
    "\n",
    "# (Replace Databrick)\n",
    "# Show the result\n",
    "empty_string_counts.show(truncate=False)"
   ]
  },
  {
   "cell_type": "code",
   "execution_count": 24,
   "metadata": {
    "id": "JaqeZjGR87xk"
   },
   "outputs": [],
   "source": [
    "laundering_transactions.createOrReplaceTempView(\"combined\")"
   ]
  },
  {
   "cell_type": "code",
   "execution_count": null,
   "metadata": {},
   "outputs": [
    {
     "name": "stdout",
     "output_type": "stream",
     "text": [
      "+--------------+-----+\n",
      "|Pattern_Type  |count|\n",
      "+--------------+-----+\n",
      "|STACK         |4601 |\n",
      "|CYCLE         |2518 |\n",
      "|FAN-IN        |2644 |\n",
      "|GATHER-SCATTER|4830 |\n",
      "|BIPARTITE     |2623 |\n",
      "|FAN-OUT       |2617 |\n",
      "|SCATTER-GATHER|4874 |\n",
      "|RANDOM        |1945 |\n",
      "+--------------+-----+\n",
      "\n"
     ]
    }
   ],
   "source": [
    "# Query using spark.sql()\n",
    "result_df = spark.sql(\"\"\"\n",
    "    SELECT Pattern_Type, COUNT(Pattern_Type) AS count\n",
    "    FROM combined\n",
    "    GROUP BY Pattern_Type\n",
    "\"\"\")\n",
    "\n",
    "# Show the result\n",
    "result_df.show(truncate=False)"
   ]
  },
  {
   "cell_type": "code",
   "execution_count": 26,
   "metadata": {
    "id": "0YAWi4iR87xl"
   },
   "outputs": [
    {
     "name": "stdout",
     "output_type": "stream",
     "text": [
      "+------------+-----+\n",
      "|isLaundering|count|\n",
      "+------------+-----+\n",
      "|           1|26652|\n",
      "+------------+-----+\n",
      "\n"
     ]
    }
   ],
   "source": [
    "laundering_transactions.cache().groupBy(\"isLaundering\").count().show()"
   ]
  },
  {
   "cell_type": "markdown",
   "metadata": {
    "id": "HNkrd17U87xl"
   },
   "source": [
    "### Create Labels for Laundering Transactions:¶\n",
    "Joined the laundering pattern DataFrame (laundering_transactions) with the combined transaction DataFrame (combined_df) on transaction identifiers."
   ]
  },
  {
   "cell_type": "code",
   "execution_count": 27,
   "metadata": {
    "id": "AYWEz5je87xl"
   },
   "outputs": [
    {
     "data": {
      "text/plain": [
       "DataFrame[Timestamp: string, From_Bank: string, Pattern_Type: string, isLaundering: string]"
      ]
     },
     "execution_count": 27,
     "metadata": {},
     "output_type": "execute_result"
    }
   ],
   "source": [
    "# Join the DataFrames on Timestamp, From_Bank, and To_Bank\n",
    "joined_df = combined_df.join(\n",
    "    laundering_transactions,\n",
    "    on=[\"Timestamp\", \"From_Bank\"],\n",
    "    how=\"left\"\n",
    ")\n",
    "\n",
    "#freeing from cache\n",
    "combined_df.unpersist()\n",
    "laundering_transactions.unpersist()"
   ]
  },
  {
   "cell_type": "code",
   "execution_count": 28,
   "metadata": {
    "id": "bVNWBjJe87xm"
   },
   "outputs": [],
   "source": [
    "# Fill null values in the `isLaundering` column with 0\n",
    "joined_df = joined_df.withColumn(\n",
    "    \"isLaundering\",\n",
    "    F.when(F.col(\"isLaundering\").isNull(), F.lit(0)).otherwise(F.col(\"isLaundering\"))\n",
    ")"
   ]
  },
  {
   "cell_type": "code",
   "execution_count": 29,
   "metadata": {},
   "outputs": [
    {
     "name": "stdout",
     "output_type": "stream",
     "text": [
      "+----------------+---------+------------+-------+----------+---------------+------------------+-----------+----------------+--------------+------------+------------+\n",
      "|Timestamp       |From_Bank|From_Account|To_Bank|To_Account|Amount_Received|Receiving_Currency|Amount_Paid|Payment_Currency|Payment_Format|Pattern_Type|isLaundering|\n",
      "+----------------+---------+------------+-------+----------+---------------+------------------+-----------+----------------+--------------+------------+------------+\n",
      "|2022/09/01 00:17|020      |800104D70   |020    |800104D70 |6794.63        |US Dollar         |6794.63    |US Dollar       |Reinvestment  |NULL        |0           |\n",
      "|2022/09/01 00:02|03196    |800107150   |03196  |800107150 |7739.29        |US Dollar         |7739.29    |US Dollar       |Reinvestment  |NULL        |0           |\n",
      "|2022/09/01 00:17|01208    |80010E430   |01208  |80010E430 |1880.23        |US Dollar         |1880.23    |US Dollar       |Reinvestment  |NULL        |0           |\n",
      "|2022/09/01 00:03|01208    |80010E650   |020    |80010E6F0 |7.396688E7     |US Dollar         |7.396688E7 |US Dollar       |Cheque        |NULL        |0           |\n",
      "|2022/09/01 00:02|01208    |80010E650   |020    |80010EA30 |4.5868456E7    |US Dollar         |4.5868456E7|US Dollar       |Cheque        |NULL        |0           |\n",
      "|2022/09/01 00:27|03203    |80010EA80   |03203  |80010EA80 |13284.41       |US Dollar         |13284.41   |US Dollar       |Reinvestment  |NULL        |0           |\n",
      "|2022/09/01 00:25|020      |800104D20   |020    |800104D20 |9.72           |US Dollar         |9.72       |US Dollar       |Reinvestment  |NULL        |0           |\n",
      "|2022/09/01 00:09|01208    |80010E430   |01208  |80010E430 |7.66           |US Dollar         |7.66       |US Dollar       |Reinvestment  |NULL        |0           |\n",
      "|2022/09/01 00:09|011      |80010E600   |011    |80010E600 |16.33          |US Dollar         |16.33      |US Dollar       |Reinvestment  |NULL        |0           |\n",
      "|2022/09/01 00:06|01208    |80010E650   |01208  |80010E650 |4.86           |US Dollar         |4.86       |US Dollar       |Reinvestment  |NULL        |0           |\n",
      "|2022/09/01 00:25|020      |80010E6F0   |0183112|84DCA3150 |3.24           |US Dollar         |3.24       |US Dollar       |Credit Card   |NULL        |0           |\n",
      "|2022/09/01 00:16|020      |80010EA30   |01601  |802B6D220 |47.17          |US Dollar         |47.17      |US Dollar       |Credit Card   |NULL        |0           |\n",
      "|2022/09/01 00:14|020      |800073020   |020    |800073020 |848368.75      |US Dollar         |848368.75  |US Dollar       |Reinvestment  |NULL        |0           |\n",
      "|2022/09/01 00:05|03566    |800345920   |03566  |800345920 |10134.05       |US Dollar         |10134.05   |US Dollar       |Reinvestment  |NULL        |0           |\n",
      "|2022/09/01 00:09|011      |800329930   |02776  |800816450 |335999.7       |US Dollar         |335999.7   |US Dollar       |Cheque        |NULL        |0           |\n",
      "|2022/09/01 00:07|000      |8009B22F0   |000    |8009B22F0 |121.98         |US Dollar         |121.98     |US Dollar       |Reinvestment  |NULL        |0           |\n",
      "|2022/09/01 00:24|011      |8003289F0   |0249457|825F4B630 |45.39          |US Dollar         |45.39      |US Dollar       |Credit Card   |NULL        |0           |\n",
      "|2022/09/01 00:22|000      |800815DE0   |000    |800815DE0 |23.4           |US Dollar         |23.4       |US Dollar       |Reinvestment  |NULL        |0           |\n",
      "|2022/09/01 00:28|02776    |800816450   |0071901|81AB268F0 |30.23          |US Dollar         |30.23      |US Dollar       |Credit Card   |NULL        |0           |\n",
      "|2022/09/01 00:21|011081   |8008DDDF0   |011081 |8008DDDF0 |7.37           |US Dollar         |7.37       |US Dollar       |Reinvestment  |NULL        |0           |\n",
      "+----------------+---------+------------+-------+----------+---------------+------------------+-----------+----------------+--------------+------------+------------+\n",
      "only showing top 20 rows\n",
      "\n"
     ]
    }
   ],
   "source": [
    "# (- Replace Databrick) Cache the joined DataFrame \n",
    "joined_df.cache()\n",
    "\n",
    "# Display the cached DataFrame (use .show() instead of .display())\n",
    "joined_df.show(truncate=False)"
   ]
  },
  {
   "cell_type": "code",
   "execution_count": 30,
   "metadata": {
    "id": "8gDE5U-F87xm"
   },
   "outputs": [
    {
     "name": "stdout",
     "output_type": "stream",
     "text": [
      "root\n",
      " |-- Timestamp: string (nullable = true)\n",
      " |-- From_Bank: string (nullable = true)\n",
      " |-- From_Account: string (nullable = true)\n",
      " |-- To_Bank: string (nullable = true)\n",
      " |-- To_Account: string (nullable = true)\n",
      " |-- Amount_Received: float (nullable = true)\n",
      " |-- Receiving_Currency: string (nullable = true)\n",
      " |-- Amount_Paid: float (nullable = true)\n",
      " |-- Payment_Currency: string (nullable = true)\n",
      " |-- Payment_Format: string (nullable = true)\n",
      " |-- Pattern_Type: string (nullable = true)\n",
      " |-- isLaundering: integer (nullable = true)\n",
      "\n"
     ]
    }
   ],
   "source": [
    "# Convert 'isLaundering' from string to integer\n",
    "joined_df = joined_df.withColumn(\"isLaundering\", col(\"isLaundering\").cast(\"integer\"))\n",
    "\n",
    "\n",
    "# Verify the schema change\n",
    "joined_df.printSchema()"
   ]
  },
  {
   "cell_type": "code",
   "execution_count": 31,
   "metadata": {
    "id": "XRoRhJKh87xn"
   },
   "outputs": [
    {
     "name": "stdout",
     "output_type": "stream",
     "text": [
      "+------------+--------+\n",
      "|isLaundering|   count|\n",
      "+------------+--------+\n",
      "|           1|   84928|\n",
      "|           0|63065007|\n",
      "+------------+--------+\n",
      "\n"
     ]
    }
   ],
   "source": [
    "joined_df.groupBy(\"isLaundering\").count().show()"
   ]
  },
  {
   "cell_type": "markdown",
   "metadata": {
    "id": "i7p3WoE087xn"
   },
   "source": [
    "### Balance the data¶\n",
    "DROP 50% of majority\n",
    "Use SMOTE to generate synthetic data of minority after data engineering"
   ]
  },
  {
   "cell_type": "code",
   "execution_count": 32,
   "metadata": {
    "id": "c0Ey1NSK87xo"
   },
   "outputs": [],
   "source": [
    "# Register joined_df as a temporary view to use SQL\n",
    "joined_df.createOrReplaceTempView(\"joined_table\")\n",
    "\n",
    "# Step 1: Identify rows to drop\n",
    "# Here we assign a random value to each row that meets the condition, then select 50% of those rows\n",
    "query = \"\"\"\n",
    "SELECT *\n",
    "FROM joined_table\n",
    "WHERE NOT ((Pattern_Type IS NULL) AND (isLaundering = 0) AND (rand() < 0.5))\n",
    "\"\"\"\n",
    "\n",
    "# Execute the SQL query\n",
    "balanced_df = spark.sql(query)"
   ]
  },
  {
   "cell_type": "code",
   "execution_count": 33,
   "metadata": {
    "id": "u7d4J9QF87xo"
   },
   "outputs": [
    {
     "data": {
      "text/plain": [
       "DataFrame[Timestamp: string, From_Bank: string, From_Account: string, To_Bank: string, To_Account: string, Amount_Received: float, Receiving_Currency: string, Amount_Paid: float, Payment_Currency: string, Payment_Format: string, Pattern_Type: string, isLaundering: int]"
      ]
     },
     "execution_count": 33,
     "metadata": {},
     "output_type": "execute_result"
    }
   ],
   "source": [
    "joined_df.unpersist()"
   ]
  },
  {
   "cell_type": "code",
   "execution_count": 34,
   "metadata": {
    "id": "Yu4RcrMs87xo"
   },
   "outputs": [
    {
     "name": "stdout",
     "output_type": "stream",
     "text": [
      "+------------+--------+\n",
      "|isLaundering|   count|\n",
      "+------------+--------+\n",
      "|           1|   84928|\n",
      "|           0|31533404|\n",
      "+------------+--------+\n",
      "\n"
     ]
    }
   ],
   "source": [
    "balanced_df.cache().groupBy(\"isLaundering\").count().show()"
   ]
  },
  {
   "cell_type": "markdown",
   "metadata": {},
   "source": [
    "### Visualization of count by Laundering Status"
   ]
  },
  {
   "cell_type": "code",
   "execution_count": 35,
   "metadata": {},
   "outputs": [],
   "source": [
    "# Function to visualize classes Is Laundry, Is not Launsdry\n",
    "\n",
    "def visualize_group_counts_pyspark(spark_df):\n",
    "    \"\"\"\n",
    "    Visualize the count of groups from a PySpark DataFrame using native PySpark methods\n",
    "    \n",
    "    Parameters:\n",
    "    spark_df (pyspark.sql.DataFrame): The grouped and counted PySpark DataFrame\n",
    "    \"\"\"\n",
    "    # Collect the data (be cautious with large datasets)\n",
    "    grouped_data = spark_df.collect()\n",
    "    \n",
    "    # Extract labels and counts\n",
    "    labels = []\n",
    "    counts = []\n",
    "    \n",
    "    for row in grouped_data:\n",
    "        labels.append(str(row['isLaundering']))\n",
    "        counts.append(row['count'])\n",
    "    \n",
    "    # Create a bar plot\n",
    "    plt.figure(figsize=(10, 6))\n",
    "    bars = plt.bar(labels, counts)\n",
    "    plt.title('Count by Laundering Status', fontsize=14)\n",
    "    plt.xlabel('Is Laundering', fontsize=12)\n",
    "    plt.ylabel('Count', fontsize=12)\n",
    "    \n",
    "    # Add count labels on top of each bar\n",
    "    for bar in bars:\n",
    "        height = bar.get_height()\n",
    "        plt.text(bar.get_x() + bar.get_width()/2., height,\n",
    "                 f'{int(height)}', \n",
    "                 ha='center', va='bottom', fontsize=10)\n",
    "    \n",
    "    plt.tight_layout()\n",
    "    plt.show()"
   ]
  },
  {
   "cell_type": "code",
   "execution_count": 36,
   "metadata": {},
   "outputs": [
    {
     "data": {
      "image/png": "[encoded data removed]",
      "text/plain": [
       "<Figure size 1000x600 with 1 Axes>"
      ]
     },
     "metadata": {},
     "output_type": "display_data"
    }
   ],
   "source": [
    "grouped_df = balanced_df.groupBy(\"isLaundering\").count()\n",
    "visualize_group_counts_pyspark(grouped_df)"
   ]
  },
  {
   "cell_type": "markdown",
   "metadata": {
    "id": "GgcntRHn87xo"
   },
   "source": [
    "### Data Cleaning and Exploration"
   ]
  },
  {
   "cell_type": "code",
   "execution_count": 37,
   "metadata": {
    "id": "fmdFk3HP87xp"
   },
   "outputs": [
    {
     "name": "stdout",
     "output_type": "stream",
     "text": [
      "+---------+---------+------------+-------+----------+---------------+------------------+-----------+----------------+--------------+------------+------------+\n",
      "|Timestamp|From_Bank|From_Account|To_Bank|To_Account|Amount_Received|Receiving_Currency|Amount_Paid|Payment_Currency|Payment_Format|Pattern_Type|isLaundering|\n",
      "+---------+---------+------------+-------+----------+---------------+------------------+-----------+----------------+--------------+------------+------------+\n",
      "|        0|        0|           0|      0|         0|              0|                 0|          0|               0|             0|    31533404|           0|\n",
      "+---------+---------+------------+-------+----------+---------------+------------------+-----------+----------------+--------------+------------+------------+\n",
      "\n"
     ]
    }
   ],
   "source": [
    "# Count NULL values in each column\n",
    "null_counts = balanced_df.select([sum(col(c).isNull().cast(\"int\")).alias(c) for c in balanced_df.columns])\n",
    "\n",
    "# Show the result\n",
    "null_counts.show()"
   ]
  },
  {
   "cell_type": "code",
   "execution_count": 38,
   "metadata": {
    "id": "__0IrKfv87xx"
   },
   "outputs": [],
   "source": [
    "balanced_df = balanced_df.na.fill({\n",
    "    \"Pattern_Type\": \"Unknown\"\n",
    "})"
   ]
  },
  {
   "cell_type": "markdown",
   "metadata": {
    "id": "162KQ4xX87xy"
   },
   "source": [
    "Extract features such as Hour and DayOfWeek"
   ]
  },
  {
   "cell_type": "code",
   "execution_count": 39,
   "metadata": {
    "id": "jNO7h5WC87xy"
   },
   "outputs": [],
   "source": [
    "balanced_df = balanced_df.withColumn(\"Timestamp\", to_timestamp(\"Timestamp\", \"yyyy/MM/dd HH:mm\")) \\\n",
    "                         .withColumn(\"Hour\", hour(\"Timestamp\")) \\\n",
    "                         .withColumn(\"DayOfWeek\", dayofweek(\"Timestamp\"))"
   ]
  },
  {
   "cell_type": "code",
   "execution_count": 43,
   "metadata": {},
   "outputs": [
    {
     "name": "stdout",
     "output_type": "stream",
     "text": [
      "+-------------------+---------+------------+--------+----------+---------------+------------------+-----------+----------------+--------------+------------+------------+----+---------+\n",
      "|Timestamp          |From_Bank|From_Account|To_Bank |To_Account|Amount_Received|Receiving_Currency|Amount_Paid|Payment_Currency|Payment_Format|Pattern_Type|isLaundering|Hour|DayOfWeek|\n",
      "+-------------------+---------+------------+--------+----------+---------------+------------------+-----------+----------------+--------------+------------+------------+----+---------+\n",
      "|2022-09-01 00:02:00|03196    |800107150   |03196   |800107150 |7739.29        |US Dollar         |7739.29    |US Dollar       |Reinvestment  |Unknown     |0           |0   |5        |\n",
      "|2022-09-01 00:02:00|01208    |80010E650   |020     |80010EA30 |4.5868456E7    |US Dollar         |4.5868456E7|US Dollar       |Cheque        |Unknown     |0           |0   |5        |\n",
      "|2022-09-01 00:09:00|01208    |80010E430   |01208   |80010E430 |7.66           |US Dollar         |7.66       |US Dollar       |Reinvestment  |Unknown     |0           |0   |5        |\n",
      "|2022-09-01 00:09:00|011      |80010E600   |011     |80010E600 |16.33          |US Dollar         |16.33      |US Dollar       |Reinvestment  |Unknown     |0           |0   |5        |\n",
      "|2022-09-01 00:14:00|020      |800073020   |020     |800073020 |848368.75      |US Dollar         |848368.75  |US Dollar       |Reinvestment  |Unknown     |0           |0   |5        |\n",
      "|2022-09-01 00:05:00|03566    |800345920   |03566   |800345920 |10134.05       |US Dollar         |10134.05   |US Dollar       |Reinvestment  |Unknown     |0           |0   |5        |\n",
      "|2022-09-01 00:07:00|000      |8009B22F0   |000     |8009B22F0 |121.98         |US Dollar         |121.98     |US Dollar       |Reinvestment  |Unknown     |0           |0   |5        |\n",
      "|2022-09-01 00:24:00|011      |8003289F0   |0249457 |825F4B630 |45.39          |US Dollar         |45.39      |US Dollar       |Credit Card   |Unknown     |0           |0   |5        |\n",
      "|2022-09-01 00:28:00|02776    |800816450   |0071901 |81AB268F0 |30.23          |US Dollar         |30.23      |US Dollar       |Credit Card   |Unknown     |0           |0   |5        |\n",
      "|2022-09-01 00:21:00|011081   |8008DDDF0   |011081  |8008DDDF0 |7.37           |US Dollar         |7.37       |US Dollar       |Reinvestment  |Unknown     |0           |0   |5        |\n",
      "|2022-09-01 00:15:00|01601    |800970C80   |0260376 |825F955A0 |121.38         |US Dollar         |121.38     |US Dollar       |Credit Card   |Unknown     |0           |0   |5        |\n",
      "|2022-09-01 00:13:00|00544    |8009B23E0   |01924   |8021B47D0 |9.29           |US Dollar         |9.29       |US Dollar       |Credit Card   |Unknown     |0           |0   |5        |\n",
      "|2022-09-01 00:13:00|021418   |800A37E30   |001315  |8009BDC30 |178265.0       |US Dollar         |178265.0   |US Dollar       |Cheque        |Unknown     |0           |0   |5        |\n",
      "|2022-09-01 00:12:00|00741    |800A37DE0   |00741   |800A37DE0 |4968.24        |US Dollar         |4968.24    |US Dollar       |Reinvestment  |Unknown     |0           |0   |5        |\n",
      "|2022-09-01 00:19:00|01601    |800A37E80   |02190056|8494B0640 |298.47         |US Dollar         |298.47     |US Dollar       |Credit Card   |Unknown     |0           |0   |5        |\n",
      "|2022-09-01 00:09:00|01601    |800A38370   |021418  |808FC8680 |0.09           |US Dollar         |0.09       |US Dollar       |Credit Card   |Unknown     |0           |0   |5        |\n",
      "|2022-09-01 00:14:00|000      |800A39060   |02310   |800A39B80 |4332.0         |US Dollar         |4332.0     |US Dollar       |Cheque        |Unknown     |0           |0   |5        |\n",
      "|2022-09-01 00:06:00|031386   |800A4A090   |031386  |800A4A090 |1560.89        |US Dollar         |1560.89    |US Dollar       |Reinvestment  |Unknown     |0           |0   |5        |\n",
      "|2022-09-01 00:19:00|031857   |800AB37C0   |031857  |800AB37C0 |84.38          |US Dollar         |84.38      |US Dollar       |Reinvestment  |Unknown     |0           |0   |5        |\n",
      "|2022-09-01 00:08:00|02310    |800A39B80   |0048786 |82DA69D50 |8.69           |US Dollar         |8.69       |US Dollar       |Credit Card   |Unknown     |0           |0   |5        |\n",
      "+-------------------+---------+------------+--------+----------+---------------+------------------+-----------+----------------+--------------+------------+------------+----+---------+\n",
      "only showing top 20 rows\n",
      "\n"
     ]
    }
   ],
   "source": [
    "# (Replace Databrick) Show the final DataFrame (replacing .display() with .show())\n",
    "balanced_df.show(truncate=False)"
   ]
  },
  {
   "cell_type": "markdown",
   "metadata": {},
   "source": [
    "### Total Amount Received by Day of the Week"
   ]
  },
  {
   "cell_type": "code",
   "execution_count": null,
   "metadata": {},
   "outputs": [
    {
     "data": {
      "image/png": "[encoded data removed]",
      "text/plain": [
       "<Figure size 1000x600 with 1 Axes>"
      ]
     },
     "metadata": {},
     "output_type": "display_data"
    }
   ],
   "source": [
    "from pyspark.sql import functions as F\n",
    "\n",
    "# Group by DayOfWeek and calculate the total Amount_Received\n",
    "amount_by_day = (\n",
    "    balanced_df.groupBy(\"DayOfWeek\")\n",
    "    .agg(F.sum(\"Amount_Received\").alias(\"Total_Amount\"))\n",
    "    .orderBy(\"DayOfWeek\")\n",
    ")\n",
    "\n",
    "# Collect the data to prepare for plotting\n",
    "data = amount_by_day.collect()\n",
    "\n",
    "# Prepare data for the bar chart\n",
    "days = [row[\"DayOfWeek\"] for row in data]\n",
    "amounts = [row[\"Total_Amount\"] for row in data]\n",
    "\n",
    "# Map DayOfWeek numbers to names (assuming 1 = Sunday, 7 = Saturday)\n",
    "day_names = {1: \"Sunday\", 2: \"Monday\", 3: \"Tuesday\", 4: \"Wednesday\",\n",
    "             5: \"Thursday\", 6: \"Friday\", 7: \"Saturday\"}\n",
    "days_named = [day_names[day] for day in days]\n",
    "\n",
    "# Create the bar plot\n",
    "plt.figure(figsize=(10, 6))\n",
    "plt.bar(days_named, amounts, color=\"skyblue\")\n",
    "plt.title(\"Total Amount Received by Day of the Week\", fontsize=16)\n",
    "plt.xlabel(\"Day of the Week\", fontsize=12)\n",
    "plt.ylabel(\"Total Amount Received\", fontsize=12)\n",
    "plt.xticks(rotation=45)\n",
    "plt.tight_layout()\n",
    "\n",
    "# Show the plot\n",
    "plt.show()"
   ]
  },
  {
   "cell_type": "code",
   "execution_count": 49,
   "metadata": {},
   "outputs": [
    {
     "name": "stdout",
     "output_type": "stream",
     "text": [
      "+---------+--------------------+\n",
      "|DayOfWeek|        Total_Amount|\n",
      "+---------+--------------------+\n",
      "|        1|5.564488955702108E12|\n",
      "|        2|1.917427846251759...|\n",
      "|        3|2.128303069018168...|\n",
      "|        4|1.783083415256800...|\n",
      "|        5| 7.60927062490395E13|\n",
      "|        6|6.608663299286294E13|\n",
      "|        7| 8.16385670837665E12|\n",
      "+---------+--------------------+\n",
      "\n"
     ]
    }
   ],
   "source": [
    "amount_by_day.show()"
   ]
  },
  {
   "cell_type": "markdown",
   "metadata": {},
   "source": [
    "### Visualization Payment Format Distribution in Money Laundering Cases"
   ]
  },
  {
   "cell_type": "code",
   "execution_count": 51,
   "metadata": {},
   "outputs": [
    {
     "data": {
      "image/png": "[encoded data removed]",
      "text/plain": [
       "<Figure size 1000x600 with 1 Axes>"
      ]
     },
     "metadata": {},
     "output_type": "display_data"
    }
   ],
   "source": [
    "# Filter for money laundering cases\n",
    "laundering_cases = balanced_df.filter(F.col(\"isLaundering\") == 1)\n",
    "\n",
    "# Group by Payment_Format and count occurrences\n",
    "payment_format_counts = (\n",
    "    laundering_cases.groupBy(\"Payment_Format\")\n",
    "    .agg(F.count(\"*\").alias(\"Count\"))\n",
    "    .orderBy(F.desc(\"Count\"))\n",
    ")\n",
    "\n",
    "# Collect the data to prepare for plotting\n",
    "data = payment_format_counts.collect()\n",
    "\n",
    "# Prepare data for plotting\n",
    "formats = [row[\"Payment_Format\"] for row in data]\n",
    "counts = [row[\"Count\"] for row in data]\n",
    "\n",
    "# Create the bar chart\n",
    "plt.figure(figsize=(10, 6))\n",
    "plt.bar(formats, counts, color=\"skyblue\")\n",
    "plt.title(\"Payment Format Distribution in Money Laundering Cases\", fontsize=16)\n",
    "plt.xlabel(\"Payment Format\", fontsize=12)\n",
    "plt.ylabel(\"Count\", fontsize=12)\n",
    "plt.xticks(rotation=45, fontsize=10)\n",
    "plt.tight_layout()\n",
    "\n",
    "# Show the plot\n",
    "plt.show()"
   ]
  },
  {
   "cell_type": "markdown",
   "metadata": {},
   "source": [
    "### Visualization Currency Distribution in Money Laundering Cases"
   ]
  },
  {
   "cell_type": "code",
   "execution_count": 52,
   "metadata": {},
   "outputs": [
    {
     "data": {
      "image/png": "[encoded data removed]",
      "text/plain": [
       "<Figure size 1000x600 with 1 Axes>"
      ]
     },
     "metadata": {},
     "output_type": "display_data"
    }
   ],
   "source": [
    "# Filter for money laundering cases\n",
    "laundering_cases = balanced_df.filter(F.col(\"isLaundering\") == 1)\n",
    "\n",
    "# Group by Receiving_Currency and count occurrences\n",
    "currency_counts = (\n",
    "    laundering_cases.groupBy(\"Receiving_Currency\")\n",
    "    .agg(F.count(\"*\").alias(\"Count\"))\n",
    "    .orderBy(F.desc(\"Count\"))\n",
    ")\n",
    "\n",
    "# Collect the data to prepare for plotting\n",
    "data = currency_counts.collect()\n",
    "\n",
    "# Prepare data for plotting\n",
    "currencies = [row[\"Receiving_Currency\"] for row in data]\n",
    "counts = [row[\"Count\"] for row in data]\n",
    "\n",
    "# Create the bar chart\n",
    "plt.figure(figsize=(10, 6))\n",
    "plt.bar(currencies, counts, color=\"lightgreen\")\n",
    "plt.title(\"Currency Distribution in Money Laundering Cases\", fontsize=16)\n",
    "plt.xlabel(\"Currency\", fontsize=12)\n",
    "plt.ylabel(\"Count\", fontsize=12)\n",
    "plt.xticks(rotation=45, fontsize=10)\n",
    "plt.tight_layout()\n",
    "\n",
    "# Show the plot\n",
    "plt.show()"
   ]
  },
  {
   "cell_type": "markdown",
   "metadata": {
    "id": "upAKu18387xz"
   },
   "source": [
    "### Feature Engineering¶\n",
    "Aggregated Features by Account using Window Functions:\n",
    "Calculate FanOut, FanIn, and AvgAmountSent.\n",
    "\n",
    "-FanOut:\n",
    "how many different transactions it initiates.\n",
    "\n",
    "-FanIn:\n",
    "how many different transactions it receives.\n",
    "\n",
    "-AvgAmountSent:\n",
    "the typical transaction size for each account as a sender."
   ]
  },
  {
   "cell_type": "code",
   "execution_count": 53,
   "metadata": {
    "id": "ig0M585v87xz"
   },
   "outputs": [],
   "source": [
    "# Window specifications\n",
    "sender_window = Window.partitionBy(\"From_Account\")\n",
    "receiver_window = Window.partitionBy(\"To_Account\")\n",
    "\n",
    "# Calculate fan-out, fan-in, and average amount sent\n",
    "featured_df = balanced_df.withColumn(\"FanOut\", count(\"To_Account\").over(sender_window)) \\\n",
    "                         .withColumn(\"FanIn\", count(\"From_Account\").over(receiver_window)) \\\n",
    "                         .withColumn(\"AvgAmountSent\", avg(\"Amount_Paid\").over(sender_window))"
   ]
  },
  {
   "cell_type": "code",
   "execution_count": 54,
   "metadata": {
    "id": "gjUgk3so87xz"
   },
   "outputs": [
    {
     "name": "stdout",
     "output_type": "stream",
     "text": [
      "+-------------------+---------+------------+-------+----------+---------------+------------------+-----------+----------------+--------------+------------+------------+----+---------+------+-----+------------------+\n",
      "|Timestamp          |From_Bank|From_Account|To_Bank|To_Account|Amount_Received|Receiving_Currency|Amount_Paid|Payment_Currency|Payment_Format|Pattern_Type|isLaundering|Hour|DayOfWeek|FanOut|FanIn|AvgAmountSent     |\n",
      "+-------------------+---------+------------+-------+----------+---------------+------------------+-----------+----------------+--------------+------------+------------+----+---------+------+-----+------------------+\n",
      "|2022-09-01 05:46:00|004      |800060A20   |004    |800060A20 |10683.91       |Rupee             |10683.91   |Rupee           |Credit Card   |Unknown     |0           |5   |5        |222   |36   |219080.68385012515|\n",
      "|2022-09-08 07:13:00|004      |800060A20   |025    |8129D4D00 |595031.7       |Rupee             |595031.7   |Rupee           |Cheque        |Unknown     |0           |7   |5        |222   |19   |219080.68385012515|\n",
      "|2022-09-01 05:53:00|004      |800060A20   |004    |800060A20 |11860.6        |Rupee             |11860.6    |Rupee           |Wire          |Unknown     |0           |5   |5        |222   |36   |219080.68385012515|\n",
      "|2022-09-08 07:24:00|004      |800060A20   |025    |8129D4D00 |922259.2       |Rupee             |922259.2   |Rupee           |ACH           |Unknown     |0           |7   |5        |222   |19   |219080.68385012515|\n",
      "|2022-09-16 07:13:00|004      |800060A20   |004    |800060A20 |11860.6        |Rupee             |11860.6    |Rupee           |Wire          |Unknown     |0           |7   |6        |222   |36   |219080.68385012515|\n",
      "|2022-09-09 22:58:00|004      |800060A20   |025    |8129D4D00 |595031.7       |Rupee             |595031.7   |Rupee           |Cheque        |Unknown     |0           |22  |6        |222   |19   |219080.68385012515|\n",
      "|2022-09-02 07:04:00|004      |800060A20   |004    |800060A20 |21381.18       |Rupee             |21381.18   |Rupee           |Cheque        |Unknown     |0           |7   |6        |222   |36   |219080.68385012515|\n",
      "|2022-09-01 12:24:00|004      |800060A20   |025    |8129D4D00 |595031.7       |Rupee             |595031.7   |Rupee           |Cheque        |Unknown     |0           |12  |5        |222   |19   |219080.68385012515|\n",
      "|2022-09-02 07:16:00|004      |800060A20   |004    |800060A20 |10683.91       |Rupee             |10683.91   |Rupee           |Credit Card   |Unknown     |0           |7   |6        |222   |36   |219080.68385012515|\n",
      "|2022-09-01 12:19:00|004      |800060A20   |025    |8129D4D00 |922259.2       |Rupee             |922259.2   |Rupee           |ACH           |Unknown     |0           |12  |5        |222   |19   |219080.68385012515|\n",
      "|2022-09-05 19:53:00|004      |800060A20   |004    |800060A20 |3117.27        |Euro              |268273.75  |Rupee           |ACH           |STACK       |1           |19  |2        |222   |36   |219080.68385012515|\n",
      "|2022-09-11 19:01:00|004      |800060A20   |025    |8129D4D00 |595031.7       |Rupee             |595031.7   |Rupee           |Cheque        |Unknown     |0           |19  |1        |222   |19   |219080.68385012515|\n",
      "|2022-09-05 12:43:00|004      |800060A20   |004    |800060A20 |21381.18       |Rupee             |21381.18   |Rupee           |Cheque        |Unknown     |0           |12  |2        |222   |36   |219080.68385012515|\n",
      "|2022-09-11 19:05:00|004      |800060A20   |025    |8129D4D00 |922259.2       |Rupee             |922259.2   |Rupee           |ACH           |Unknown     |0           |19  |1        |222   |19   |219080.68385012515|\n",
      "|2022-09-07 13:32:00|004      |800060A20   |004    |800060A20 |21381.18       |Rupee             |21381.18   |Rupee           |Cheque        |Unknown     |0           |13  |4        |222   |36   |219080.68385012515|\n",
      "|2022-09-12 10:09:00|004      |800060A20   |025    |8129D4D00 |922259.2       |Rupee             |922259.2   |Rupee           |ACH           |Unknown     |0           |10  |2        |222   |19   |219080.68385012515|\n",
      "|2022-09-07 13:49:00|004      |800060A20   |004    |800060A20 |11860.6        |Rupee             |11860.6    |Rupee           |Wire          |Unknown     |0           |13  |4        |222   |36   |219080.68385012515|\n",
      "|2022-09-02 05:01:00|004      |800060A20   |025    |8129D4D00 |922259.2       |Rupee             |922259.2   |Rupee           |ACH           |Unknown     |0           |5   |6        |222   |19   |219080.68385012515|\n",
      "|2022-09-06 11:57:00|004      |800060A20   |004    |800060A20 |11860.6        |Rupee             |11860.6    |Rupee           |Wire          |Unknown     |0           |11  |3        |222   |36   |219080.68385012515|\n",
      "|2022-09-13 08:23:00|004      |800060A20   |025    |8129D4D00 |595031.7       |Rupee             |595031.7   |Rupee           |Cheque        |Unknown     |0           |8   |3        |222   |19   |219080.68385012515|\n",
      "+-------------------+---------+------------+-------+----------+---------------+------------------+-----------+----------------+--------------+------------+------------+----+---------+------+-----+------------------+\n",
      "only showing top 20 rows\n",
      "\n"
     ]
    }
   ],
   "source": [
    "balanced_df.unpersist()\n",
    "\n",
    "#Show the resulting DataFrame\n",
    "featured_df.show(truncate=False)"
   ]
  },
  {
   "cell_type": "markdown",
   "metadata": {
    "id": "_mE0QU_59qCw"
   },
   "source": [
    "####Encode Categorical Variables:\n",
    "\n",
    "Converted categorical columns into numerical indices using StringIndexer."
   ]
  },
  {
   "cell_type": "code",
   "execution_count": 55,
   "metadata": {
    "id": "qQJ-gODW9pTQ"
   },
   "outputs": [],
   "source": [
    "currency_index = StringIndexer(inputCol=\"Receiving_Currency\", outputCol=\"CurrencyIndex\")\n",
    "payment_format_index = StringIndexer(inputCol=\"Payment_Format\", outputCol=\"PaymentFormatIndex\")\n",
    "pattern_type_index = StringIndexer(inputCol=\"Pattern_Type\", outputCol=\"PatternTypeIndex\")\n",
    "\n",
    "featured_df = currency_index.fit(featured_df).transform(featured_df)\n",
    "featured_df = payment_format_index.fit(featured_df).transform(featured_df)\n",
    "featured_df = pattern_type_index.fit(featured_df).transform(featured_df)"
   ]
  },
  {
   "cell_type": "code",
   "execution_count": 56,
   "metadata": {
    "id": "R8koyKtG9uZo"
   },
   "outputs": [
    {
     "name": "stdout",
     "output_type": "stream",
     "text": [
      "+-------------------+---------+------------+-------+----------+---------------+------------------+-----------+----------------+--------------+------------+------------+----+---------+------+-----+------------------+-------------+------------------+----------------+\n",
      "|Timestamp          |From_Bank|From_Account|To_Bank|To_Account|Amount_Received|Receiving_Currency|Amount_Paid|Payment_Currency|Payment_Format|Pattern_Type|isLaundering|Hour|DayOfWeek|FanOut|FanIn|AvgAmountSent     |CurrencyIndex|PaymentFormatIndex|PatternTypeIndex|\n",
      "+-------------------+---------+------------+-------+----------+---------------+------------------+-----------+----------------+--------------+------------+------------+----+---------+------+-----+------------------+-------------+------------------+----------------+\n",
      "|2022-09-01 05:46:00|004      |800060A20   |004    |800060A20 |10683.91       |Rupee             |10683.91   |Rupee           |Credit Card   |Unknown     |0           |5   |5        |222   |36   |219080.68385012515|5.0          |1.0               |0.0             |\n",
      "|2022-09-08 07:13:00|004      |800060A20   |025    |8129D4D00 |595031.7       |Rupee             |595031.7   |Rupee           |Cheque        |Unknown     |0           |7   |5        |222   |19   |219080.68385012515|5.0          |0.0               |0.0             |\n",
      "|2022-09-01 05:53:00|004      |800060A20   |004    |800060A20 |11860.6        |Rupee             |11860.6    |Rupee           |Wire          |Unknown     |0           |5   |5        |222   |36   |219080.68385012515|5.0          |5.0               |0.0             |\n",
      "|2022-09-08 07:24:00|004      |800060A20   |025    |8129D4D00 |922259.2       |Rupee             |922259.2   |Rupee           |ACH           |Unknown     |0           |7   |5        |222   |19   |219080.68385012515|5.0          |2.0               |0.0             |\n",
      "|2022-09-16 07:13:00|004      |800060A20   |004    |800060A20 |11860.6        |Rupee             |11860.6    |Rupee           |Wire          |Unknown     |0           |7   |6        |222   |36   |219080.68385012515|5.0          |5.0               |0.0             |\n",
      "|2022-09-09 22:58:00|004      |800060A20   |025    |8129D4D00 |595031.7       |Rupee             |595031.7   |Rupee           |Cheque        |Unknown     |0           |22  |6        |222   |19   |219080.68385012515|5.0          |0.0               |0.0             |\n",
      "|2022-09-02 07:04:00|004      |800060A20   |004    |800060A20 |21381.18       |Rupee             |21381.18   |Rupee           |Cheque        |Unknown     |0           |7   |6        |222   |36   |219080.68385012515|5.0          |0.0               |0.0             |\n",
      "|2022-09-01 12:24:00|004      |800060A20   |025    |8129D4D00 |595031.7       |Rupee             |595031.7   |Rupee           |Cheque        |Unknown     |0           |12  |5        |222   |19   |219080.68385012515|5.0          |0.0               |0.0             |\n",
      "|2022-09-02 07:16:00|004      |800060A20   |004    |800060A20 |10683.91       |Rupee             |10683.91   |Rupee           |Credit Card   |Unknown     |0           |7   |6        |222   |36   |219080.68385012515|5.0          |1.0               |0.0             |\n",
      "|2022-09-01 12:19:00|004      |800060A20   |025    |8129D4D00 |922259.2       |Rupee             |922259.2   |Rupee           |ACH           |Unknown     |0           |12  |5        |222   |19   |219080.68385012515|5.0          |2.0               |0.0             |\n",
      "|2022-09-05 19:53:00|004      |800060A20   |004    |800060A20 |3117.27        |Euro              |268273.75  |Rupee           |ACH           |STACK       |1           |19  |2        |222   |36   |219080.68385012515|1.0          |2.0               |1.0             |\n",
      "|2022-09-11 19:01:00|004      |800060A20   |025    |8129D4D00 |595031.7       |Rupee             |595031.7   |Rupee           |Cheque        |Unknown     |0           |19  |1        |222   |19   |219080.68385012515|5.0          |0.0               |0.0             |\n",
      "|2022-09-05 12:43:00|004      |800060A20   |004    |800060A20 |21381.18       |Rupee             |21381.18   |Rupee           |Cheque        |Unknown     |0           |12  |2        |222   |36   |219080.68385012515|5.0          |0.0               |0.0             |\n",
      "|2022-09-11 19:05:00|004      |800060A20   |025    |8129D4D00 |922259.2       |Rupee             |922259.2   |Rupee           |ACH           |Unknown     |0           |19  |1        |222   |19   |219080.68385012515|5.0          |2.0               |0.0             |\n",
      "|2022-09-07 13:32:00|004      |800060A20   |004    |800060A20 |21381.18       |Rupee             |21381.18   |Rupee           |Cheque        |Unknown     |0           |13  |4        |222   |36   |219080.68385012515|5.0          |0.0               |0.0             |\n",
      "|2022-09-12 10:09:00|004      |800060A20   |025    |8129D4D00 |922259.2       |Rupee             |922259.2   |Rupee           |ACH           |Unknown     |0           |10  |2        |222   |19   |219080.68385012515|5.0          |2.0               |0.0             |\n",
      "|2022-09-07 13:49:00|004      |800060A20   |004    |800060A20 |11860.6        |Rupee             |11860.6    |Rupee           |Wire          |Unknown     |0           |13  |4        |222   |36   |219080.68385012515|5.0          |5.0               |0.0             |\n",
      "|2022-09-02 05:01:00|004      |800060A20   |025    |8129D4D00 |922259.2       |Rupee             |922259.2   |Rupee           |ACH           |Unknown     |0           |5   |6        |222   |19   |219080.68385012515|5.0          |2.0               |0.0             |\n",
      "|2022-09-06 11:57:00|004      |800060A20   |004    |800060A20 |11860.6        |Rupee             |11860.6    |Rupee           |Wire          |Unknown     |0           |11  |3        |222   |36   |219080.68385012515|5.0          |5.0               |0.0             |\n",
      "|2022-09-13 08:23:00|004      |800060A20   |025    |8129D4D00 |595031.7       |Rupee             |595031.7   |Rupee           |Cheque        |Unknown     |0           |8   |3        |222   |19   |219080.68385012515|5.0          |0.0               |0.0             |\n",
      "+-------------------+---------+------------+-------+----------+---------------+------------------+-----------+----------------+--------------+------------+------------+----+---------+------+-----+------------------+-------------+------------------+----------------+\n",
      "only showing top 20 rows\n",
      "\n"
     ]
    }
   ],
   "source": [
    "#featured_df.display()\n",
    "\n",
    "# Show the resulting DataFrame\n",
    "featured_df.show(truncate=False)"
   ]
  },
  {
   "cell_type": "code",
   "execution_count": null,
   "metadata": {
    "id": "8s6F1k889wNz"
   },
   "outputs": [],
   "source": [
    "# DA ERROR\n",
    "#size_in_memory_gb = featured_df.rdd.map(lambda row: len(str(row))).sum() / (1024 * 1024 * 1024)\n",
    "#print(f\"Approximate size in memory: ({size_in_memory_gb:.2f} GB)\")"
   ]
  },
  {
   "cell_type": "markdown",
   "metadata": {
    "id": "w2FIO6-H9zAG"
   },
   "source": [
    "### SMOTE to generate synthetic data for minority\n",
    "\n",
    "Compilado hasta aca la sgte da errores - me truena el servidor Java parece que por falta de memoria !"
   ]
  },
  {
   "cell_type": "code",
   "execution_count": null,
   "metadata": {
    "id": "u6gyOuZP90y7"
   },
   "outputs": [],
   "source": [
    "'''\n",
    "# Step 1: Select only the required columns (excluding 'isLaundering')\n",
    "feature_columns = [\"Amount_Received\", \"FanOut\", \"FanIn\", \"AvgAmountSent\",\n",
    "                   \"Hour\", \"DayOfWeek\", \"CurrencyIndex\",\n",
    "                   \"PaymentFormatIndex\", \"PatternTypeIndex\"]\n",
    "\n",
    "# Select features for minority class (isLaundering = 1)\n",
    "minority_df = featured_df.filter(F.col(\"isLaundering\") == 1).select(*feature_columns)\n",
    "majority_df = featured_df.filter(F.col(\"isLaundering\") == 0).select(*feature_columns, \"isLaundering\")\n",
    "\n",
    "featured_df.unpersist()\n",
    "\n",
    "# Step 2: Define a function to generate synthetic samples (excluding isLaundering)\n",
    "def generate_synthetic_samples(minority_data, num_samples=10):\n",
    "    synthetic_samples = []\n",
    "\n",
    "    for row in minority_data:\n",
    "        base_vector = np.array([row[col] for col in feature_columns])\n",
    "\n",
    "        # Find random neighbors within the minority class\n",
    "        neighbors = random.sample(minority_data, k=num_samples)\n",
    "        for neighbor in neighbors:\n",
    "            neighbor_vector = np.array([neighbor[col] for col in feature_columns])\n",
    "\n",
    "            # Interpolate to create a synthetic sample\n",
    "            gap = np.random.rand()\n",
    "            synthetic_vector = base_vector + gap * (neighbor_vector - base_vector)\n",
    "\n",
    "            # Append the synthetic sample without the 'isLaundering' column\n",
    "            synthetic_samples.append(tuple(synthetic_vector.tolist()))\n",
    "\n",
    "    return synthetic_samples\n",
    "\n",
    "# Step 3: Collect minority samples and generate synthetic samples\n",
    "minority_data = minority_df.collect()\n",
    "synthetic_samples = generate_synthetic_samples(minority_data, num_samples=50)\n",
    "\n",
    "# Step 4: Define schema for synthetic samples without 'isLaundering'\n",
    "schema = StructType([StructField(col, DoubleType(), True) for col in feature_columns])\n",
    "\n",
    "# Create synthetic DataFrame from synthetic samples\n",
    "synthetic_df = spark.createDataFrame(synthetic_samples, schema=schema)\n",
    "\n",
    "# Step 5: Add 'isLaundering' column with value 1 to synthetic samples\n",
    "synthetic_df = synthetic_df.withColumn(\"isLaundering\", F.lit(1))\n",
    "\n",
    "# Step 6: Combine the majority and synthetic DataFrames\n",
    "balanced_featured_df = majority_df.union(synthetic_df)\n",
    "\n",
    "# Display counts to confirm balancing\n",
    "balanced_featured_df.cache().groupBy(\"isLaundering\").count().show()\n",
    "\n",
    "'''"
   ]
  },
  {
   "cell_type": "code",
   "execution_count": 59,
   "metadata": {},
   "outputs": [
    {
     "ename": "ConnectionRefusedError",
     "evalue": "[WinError 10061] No connection could be made because the target machine actively refused it",
     "output_type": "error",
     "traceback": [
      "\u001b[1;31m---------------------------------------------------------------------------\u001b[0m",
      "\u001b[1;31mConnectionRefusedError\u001b[0m                    Traceback (most recent call last)",
      "Cell \u001b[1;32mIn[59], line 7\u001b[0m\n\u001b[0;32m      2\u001b[0m feature_columns \u001b[38;5;241m=\u001b[39m [\u001b[38;5;124m\"\u001b[39m\u001b[38;5;124mAmount_Received\u001b[39m\u001b[38;5;124m\"\u001b[39m, \u001b[38;5;124m\"\u001b[39m\u001b[38;5;124mFanOut\u001b[39m\u001b[38;5;124m\"\u001b[39m, \u001b[38;5;124m\"\u001b[39m\u001b[38;5;124mFanIn\u001b[39m\u001b[38;5;124m\"\u001b[39m, \u001b[38;5;124m\"\u001b[39m\u001b[38;5;124mAvgAmountSent\u001b[39m\u001b[38;5;124m\"\u001b[39m,\n\u001b[0;32m      3\u001b[0m                    \u001b[38;5;124m\"\u001b[39m\u001b[38;5;124mHour\u001b[39m\u001b[38;5;124m\"\u001b[39m, \u001b[38;5;124m\"\u001b[39m\u001b[38;5;124mDayOfWeek\u001b[39m\u001b[38;5;124m\"\u001b[39m, \u001b[38;5;124m\"\u001b[39m\u001b[38;5;124mCurrencyIndex\u001b[39m\u001b[38;5;124m\"\u001b[39m,\n\u001b[0;32m      4\u001b[0m                    \u001b[38;5;124m\"\u001b[39m\u001b[38;5;124mPaymentFormatIndex\u001b[39m\u001b[38;5;124m\"\u001b[39m, \u001b[38;5;124m\"\u001b[39m\u001b[38;5;124mPatternTypeIndex\u001b[39m\u001b[38;5;124m\"\u001b[39m]\n\u001b[0;32m      6\u001b[0m \u001b[38;5;66;03m# Ensure DataFrame has valid schema and is not empty\u001b[39;00m\n\u001b[1;32m----> 7\u001b[0m \u001b[38;5;28;01mif\u001b[39;00m \u001b[38;5;129;01mnot\u001b[39;00m \u001b[43mfeatured_df\u001b[49m\u001b[38;5;241;43m.\u001b[39;49m\u001b[43misEmpty\u001b[49m\u001b[43m(\u001b[49m\u001b[43m)\u001b[49m:\n\u001b[0;32m      8\u001b[0m     \u001b[38;5;66;03m# Separate minority and majority classes\u001b[39;00m\n\u001b[0;32m      9\u001b[0m     minority_df \u001b[38;5;241m=\u001b[39m featured_df\u001b[38;5;241m.\u001b[39mfilter(F\u001b[38;5;241m.\u001b[39mcol(\u001b[38;5;124m\"\u001b[39m\u001b[38;5;124misLaundering\u001b[39m\u001b[38;5;124m\"\u001b[39m) \u001b[38;5;241m==\u001b[39m \u001b[38;5;241m1\u001b[39m)\u001b[38;5;241m.\u001b[39mselect(\u001b[38;5;241m*\u001b[39mfeature_columns)\n\u001b[0;32m     10\u001b[0m     majority_df \u001b[38;5;241m=\u001b[39m featured_df\u001b[38;5;241m.\u001b[39mfilter(F\u001b[38;5;241m.\u001b[39mcol(\u001b[38;5;124m\"\u001b[39m\u001b[38;5;124misLaundering\u001b[39m\u001b[38;5;124m\"\u001b[39m) \u001b[38;5;241m==\u001b[39m \u001b[38;5;241m0\u001b[39m)\u001b[38;5;241m.\u001b[39mselect(\u001b[38;5;241m*\u001b[39mfeature_columns, \u001b[38;5;124m\"\u001b[39m\u001b[38;5;124misLaundering\u001b[39m\u001b[38;5;124m\"\u001b[39m)\n",
      "File \u001b[1;32mc:\\Users\\root\\AppData\\Local\\Programs\\Python\\Python311\\Lib\\site-packages\\pyspark\\sql\\dataframe.py:883\u001b[0m, in \u001b[0;36mDataFrame.isEmpty\u001b[1;34m(self)\u001b[0m\n\u001b[0;32m    834\u001b[0m \u001b[38;5;28;01mdef\u001b[39;00m \u001b[38;5;21misEmpty\u001b[39m(\u001b[38;5;28mself\u001b[39m) \u001b[38;5;241m-\u001b[39m\u001b[38;5;241m>\u001b[39m \u001b[38;5;28mbool\u001b[39m:\n\u001b[0;32m    835\u001b[0m \u001b[38;5;250m    \u001b[39m\u001b[38;5;124;03m\"\"\"\u001b[39;00m\n\u001b[0;32m    836\u001b[0m \u001b[38;5;124;03m    Checks if the :class:`DataFrame` is empty and returns a boolean value.\u001b[39;00m\n\u001b[0;32m    837\u001b[0m \n\u001b[1;32m   (...)\u001b[0m\n\u001b[0;32m    881\u001b[0m \u001b[38;5;124;03m    True\u001b[39;00m\n\u001b[0;32m    882\u001b[0m \u001b[38;5;124;03m    \"\"\"\u001b[39;00m\n\u001b[1;32m--> 883\u001b[0m     \u001b[38;5;28;01mreturn\u001b[39;00m \u001b[38;5;28;43mself\u001b[39;49m\u001b[38;5;241;43m.\u001b[39;49m\u001b[43m_jdf\u001b[49m\u001b[38;5;241;43m.\u001b[39;49m\u001b[43misEmpty\u001b[49m\u001b[43m(\u001b[49m\u001b[43m)\u001b[49m\n",
      "File \u001b[1;32mc:\\Users\\root\\AppData\\Local\\Programs\\Python\\Python311\\Lib\\site-packages\\py4j\\java_gateway.py:1321\u001b[0m, in \u001b[0;36mJavaMember.__call__\u001b[1;34m(self, *args)\u001b[0m\n\u001b[0;32m   1314\u001b[0m args_command, temp_args \u001b[38;5;241m=\u001b[39m \u001b[38;5;28mself\u001b[39m\u001b[38;5;241m.\u001b[39m_build_args(\u001b[38;5;241m*\u001b[39margs)\n\u001b[0;32m   1316\u001b[0m command \u001b[38;5;241m=\u001b[39m proto\u001b[38;5;241m.\u001b[39mCALL_COMMAND_NAME \u001b[38;5;241m+\u001b[39m\\\n\u001b[0;32m   1317\u001b[0m     \u001b[38;5;28mself\u001b[39m\u001b[38;5;241m.\u001b[39mcommand_header \u001b[38;5;241m+\u001b[39m\\\n\u001b[0;32m   1318\u001b[0m     args_command \u001b[38;5;241m+\u001b[39m\\\n\u001b[0;32m   1319\u001b[0m     proto\u001b[38;5;241m.\u001b[39mEND_COMMAND_PART\n\u001b[1;32m-> 1321\u001b[0m answer \u001b[38;5;241m=\u001b[39m \u001b[38;5;28;43mself\u001b[39;49m\u001b[38;5;241;43m.\u001b[39;49m\u001b[43mgateway_client\u001b[49m\u001b[38;5;241;43m.\u001b[39;49m\u001b[43msend_command\u001b[49m\u001b[43m(\u001b[49m\u001b[43mcommand\u001b[49m\u001b[43m)\u001b[49m\n\u001b[0;32m   1322\u001b[0m return_value \u001b[38;5;241m=\u001b[39m get_return_value(\n\u001b[0;32m   1323\u001b[0m     answer, \u001b[38;5;28mself\u001b[39m\u001b[38;5;241m.\u001b[39mgateway_client, \u001b[38;5;28mself\u001b[39m\u001b[38;5;241m.\u001b[39mtarget_id, \u001b[38;5;28mself\u001b[39m\u001b[38;5;241m.\u001b[39mname)\n\u001b[0;32m   1325\u001b[0m \u001b[38;5;28;01mfor\u001b[39;00m temp_arg \u001b[38;5;129;01min\u001b[39;00m temp_args:\n",
      "File \u001b[1;32mc:\\Users\\root\\AppData\\Local\\Programs\\Python\\Python311\\Lib\\site-packages\\py4j\\java_gateway.py:1036\u001b[0m, in \u001b[0;36mGatewayClient.send_command\u001b[1;34m(self, command, retry, binary)\u001b[0m\n\u001b[0;32m   1015\u001b[0m \u001b[38;5;28;01mdef\u001b[39;00m \u001b[38;5;21msend_command\u001b[39m(\u001b[38;5;28mself\u001b[39m, command, retry\u001b[38;5;241m=\u001b[39m\u001b[38;5;28;01mTrue\u001b[39;00m, binary\u001b[38;5;241m=\u001b[39m\u001b[38;5;28;01mFalse\u001b[39;00m):\n\u001b[0;32m   1016\u001b[0m \u001b[38;5;250m    \u001b[39m\u001b[38;5;124;03m\"\"\"Sends a command to the JVM. This method is not intended to be\u001b[39;00m\n\u001b[0;32m   1017\u001b[0m \u001b[38;5;124;03m       called directly by Py4J users. It is usually called by\u001b[39;00m\n\u001b[0;32m   1018\u001b[0m \u001b[38;5;124;03m       :class:`JavaMember` instances.\u001b[39;00m\n\u001b[1;32m   (...)\u001b[0m\n\u001b[0;32m   1034\u001b[0m \u001b[38;5;124;03m     if `binary` is `True`.\u001b[39;00m\n\u001b[0;32m   1035\u001b[0m \u001b[38;5;124;03m    \"\"\"\u001b[39;00m\n\u001b[1;32m-> 1036\u001b[0m     connection \u001b[38;5;241m=\u001b[39m \u001b[38;5;28;43mself\u001b[39;49m\u001b[38;5;241;43m.\u001b[39;49m\u001b[43m_get_connection\u001b[49m\u001b[43m(\u001b[49m\u001b[43m)\u001b[49m\n\u001b[0;32m   1037\u001b[0m     \u001b[38;5;28;01mtry\u001b[39;00m:\n\u001b[0;32m   1038\u001b[0m         response \u001b[38;5;241m=\u001b[39m connection\u001b[38;5;241m.\u001b[39msend_command(command)\n",
      "File \u001b[1;32mc:\\Users\\root\\AppData\\Local\\Programs\\Python\\Python311\\Lib\\site-packages\\py4j\\clientserver.py:284\u001b[0m, in \u001b[0;36mJavaClient._get_connection\u001b[1;34m(self)\u001b[0m\n\u001b[0;32m    281\u001b[0m     \u001b[38;5;28;01mpass\u001b[39;00m\n\u001b[0;32m    283\u001b[0m \u001b[38;5;28;01mif\u001b[39;00m connection \u001b[38;5;129;01mis\u001b[39;00m \u001b[38;5;28;01mNone\u001b[39;00m \u001b[38;5;129;01mor\u001b[39;00m connection\u001b[38;5;241m.\u001b[39msocket \u001b[38;5;129;01mis\u001b[39;00m \u001b[38;5;28;01mNone\u001b[39;00m:\n\u001b[1;32m--> 284\u001b[0m     connection \u001b[38;5;241m=\u001b[39m \u001b[38;5;28;43mself\u001b[39;49m\u001b[38;5;241;43m.\u001b[39;49m\u001b[43m_create_new_connection\u001b[49m\u001b[43m(\u001b[49m\u001b[43m)\u001b[49m\n\u001b[0;32m    285\u001b[0m \u001b[38;5;28;01mreturn\u001b[39;00m connection\n",
      "File \u001b[1;32mc:\\Users\\root\\AppData\\Local\\Programs\\Python\\Python311\\Lib\\site-packages\\py4j\\clientserver.py:291\u001b[0m, in \u001b[0;36mJavaClient._create_new_connection\u001b[1;34m(self)\u001b[0m\n\u001b[0;32m    287\u001b[0m \u001b[38;5;28;01mdef\u001b[39;00m \u001b[38;5;21m_create_new_connection\u001b[39m(\u001b[38;5;28mself\u001b[39m):\n\u001b[0;32m    288\u001b[0m     connection \u001b[38;5;241m=\u001b[39m ClientServerConnection(\n\u001b[0;32m    289\u001b[0m         \u001b[38;5;28mself\u001b[39m\u001b[38;5;241m.\u001b[39mjava_parameters, \u001b[38;5;28mself\u001b[39m\u001b[38;5;241m.\u001b[39mpython_parameters,\n\u001b[0;32m    290\u001b[0m         \u001b[38;5;28mself\u001b[39m\u001b[38;5;241m.\u001b[39mgateway_property, \u001b[38;5;28mself\u001b[39m)\n\u001b[1;32m--> 291\u001b[0m     \u001b[43mconnection\u001b[49m\u001b[38;5;241;43m.\u001b[39;49m\u001b[43mconnect_to_java_server\u001b[49m\u001b[43m(\u001b[49m\u001b[43m)\u001b[49m\n\u001b[0;32m    292\u001b[0m     \u001b[38;5;28mself\u001b[39m\u001b[38;5;241m.\u001b[39mset_thread_connection(connection)\n\u001b[0;32m    293\u001b[0m     \u001b[38;5;28;01mreturn\u001b[39;00m connection\n",
      "File \u001b[1;32mc:\\Users\\root\\AppData\\Local\\Programs\\Python\\Python311\\Lib\\site-packages\\py4j\\clientserver.py:438\u001b[0m, in \u001b[0;36mClientServerConnection.connect_to_java_server\u001b[1;34m(self)\u001b[0m\n\u001b[0;32m    435\u001b[0m \u001b[38;5;28;01mif\u001b[39;00m \u001b[38;5;28mself\u001b[39m\u001b[38;5;241m.\u001b[39mssl_context:\n\u001b[0;32m    436\u001b[0m     \u001b[38;5;28mself\u001b[39m\u001b[38;5;241m.\u001b[39msocket \u001b[38;5;241m=\u001b[39m \u001b[38;5;28mself\u001b[39m\u001b[38;5;241m.\u001b[39mssl_context\u001b[38;5;241m.\u001b[39mwrap_socket(\n\u001b[0;32m    437\u001b[0m         \u001b[38;5;28mself\u001b[39m\u001b[38;5;241m.\u001b[39msocket, server_hostname\u001b[38;5;241m=\u001b[39m\u001b[38;5;28mself\u001b[39m\u001b[38;5;241m.\u001b[39mjava_address)\n\u001b[1;32m--> 438\u001b[0m \u001b[38;5;28mself\u001b[39m\u001b[38;5;241m.\u001b[39msocket\u001b[38;5;241m.\u001b[39mconnect((\u001b[38;5;28mself\u001b[39m\u001b[38;5;241m.\u001b[39mjava_address, \u001b[38;5;28mself\u001b[39m\u001b[38;5;241m.\u001b[39mjava_port))\n\u001b[0;32m    439\u001b[0m \u001b[38;5;28mself\u001b[39m\u001b[38;5;241m.\u001b[39mstream \u001b[38;5;241m=\u001b[39m \u001b[38;5;28mself\u001b[39m\u001b[38;5;241m.\u001b[39msocket\u001b[38;5;241m.\u001b[39mmakefile(\u001b[38;5;124m\"\u001b[39m\u001b[38;5;124mrb\u001b[39m\u001b[38;5;124m\"\u001b[39m)\n\u001b[0;32m    440\u001b[0m \u001b[38;5;28mself\u001b[39m\u001b[38;5;241m.\u001b[39mis_connected \u001b[38;5;241m=\u001b[39m \u001b[38;5;28;01mTrue\u001b[39;00m\n",
      "\u001b[1;31mConnectionRefusedError\u001b[0m: [WinError 10061] No connection could be made because the target machine actively refused it"
     ]
    }
   ],
   "source": [
    "# Step 1: Select required columns\n",
    "feature_columns = [\"Amount_Received\", \"FanOut\", \"FanIn\", \"AvgAmountSent\",\n",
    "                   \"Hour\", \"DayOfWeek\", \"CurrencyIndex\",\n",
    "                   \"PaymentFormatIndex\", \"PatternTypeIndex\"]\n",
    "\n",
    "# Ensure DataFrame has valid schema and is not empty\n",
    "if not featured_df.isEmpty():\n",
    "    # Separate minority and majority classes\n",
    "    minority_df = featured_df.filter(F.col(\"isLaundering\") == 1).select(*feature_columns)\n",
    "    majority_df = featured_df.filter(F.col(\"isLaundering\") == 0).select(*feature_columns, \"isLaundering\")\n",
    "\n",
    "    featured_df.unpersist()\n",
    "\n",
    "    # Step 2: Function to generate synthetic samples\n",
    "    def generate_synthetic_samples(minority_data, num_samples=10):\n",
    "        synthetic_samples = []\n",
    "        for row in minority_data:\n",
    "            base_vector = np.array([row[col] for col in feature_columns])\n",
    "\n",
    "            # Random neighbors\n",
    "            neighbors = random.sample(minority_data, min(len(minority_data), num_samples))\n",
    "            for neighbor in neighbors:\n",
    "                neighbor_vector = np.array([neighbor[col] for col in feature_columns])\n",
    "                gap = np.random.rand()\n",
    "                synthetic_vector = base_vector + gap * (neighbor_vector - base_vector)\n",
    "                synthetic_samples.append(tuple(synthetic_vector.tolist()))\n",
    "        return synthetic_samples\n",
    "\n",
    "    # Step 3: Distributed Synthetic Data Generation\n",
    "    minority_data = minority_df.rdd.map(lambda row: row.asDict()).collect()\n",
    "    synthetic_samples = generate_synthetic_samples(minority_data, num_samples=50)\n",
    "\n",
    "    # Step 4: Define schema and create synthetic DataFrame\n",
    "    schema = StructType([StructField(col, DoubleType(), True) for col in feature_columns])\n",
    "    synthetic_df = spark.createDataFrame(synthetic_samples, schema=schema)\n",
    "\n",
    "    # Add 'isLaundering' column\n",
    "    synthetic_df = synthetic_df.withColumn(\"isLaundering\", F.lit(1))\n",
    "\n",
    "    # Step 5: Combine majority and synthetic DataFrames\n",
    "    balanced_featured_df = majority_df.union(synthetic_df)\n",
    "\n",
    "    # Cache and confirm balancing\n",
    "    balanced_featured_df.cache().groupBy(\"isLaundering\").count().show()\n",
    "else:\n",
    "    print(\"Error: 'featured_df' is empty or invalid.\")"
   ]
  },
  {
   "cell_type": "code",
   "execution_count": null,
   "metadata": {
    "id": "-kjIQ4UJ96cD"
   },
   "outputs": [],
   "source": [
    "balanced_featured_df.display()"
   ]
  },
  {
   "cell_type": "code",
   "execution_count": null,
   "metadata": {
    "id": "8YqcpwDP98e6"
   },
   "outputs": [],
   "source": [
    "balanced_featured_df.groupBy(\"isLaundering\").count().display()\n",
    "#increased minority to 12%"
   ]
  },
  {
   "cell_type": "markdown",
   "metadata": {
    "id": "HJs88pQ19_Uy"
   },
   "source": [
    "##### Assemble Features into a Vector:\n",
    "\n",
    "Use VectorAssembler to create a feature vector for model input"
   ]
  },
  {
   "cell_type": "code",
   "execution_count": null,
   "metadata": {
    "id": "VqhOhTXj-Aie"
   },
   "outputs": [],
   "source": [
    "features_col = [\"Amount_Received\", \"FanOut\", \"FanIn\", \"AvgAmountSent\", \"Hour\", \"DayOfWeek\", \"CurrencyIndex\", \"PaymentFormatIndex\", \"PatternTypeIndex\"]\n",
    "correlation_features = [\"Amount_Received\", \"FanOut\", \"FanIn\", \"AvgAmountSent\", \"Hour\", \"DayOfWeek\", \"CurrencyIndex\", \"PaymentFormatIndex\", \"PatternTypeIndex\", \"isLaundering\"]\n",
    "assembler = VectorAssembler(inputCols=correlation_features, outputCol=\"corr_features\")\n",
    "df_vector = assembler.transform(balanced_featured_df)"
   ]
  },
  {
   "cell_type": "markdown",
   "metadata": {
    "id": "wSY582zD-Dvr"
   },
   "source": [
    "\n",
    "##### Correlation Heatmap: To assess relationships between features and identify strong predictors,"
   ]
  },
  {
   "cell_type": "code",
   "execution_count": null,
   "metadata": {
    "id": "U7vIzqgy-CST"
   },
   "outputs": [],
   "source": [
    "# Calculate correlation matrix\n",
    "correlation_matrix = Correlation.corr(df_vector, \"corr_features\").head()[0].toArray()\n",
    "\n",
    "# Convert to a heatmap\n",
    "plt.figure(figsize=(10, 8))\n",
    "sns.heatmap(correlation_matrix, annot=True, xticklabels=correlation_features, yticklabels=correlation_features, cmap=\"coolwarm\")\n",
    "plt.title(\"Correlation Heatmap of Numerical Features\")\n",
    "plt.show()"
   ]
  },
  {
   "cell_type": "markdown",
   "metadata": {
    "id": "8dt65PYQ-fGS"
   },
   "source": [
    "### Observations:\n",
    "\n",
    "###### Correlation Heatmap:\n",
    "\n",
    "Amount_Received and AvgAmountSent show a moderately positive correlation (0.34). Including both might introduce some redundancy, but they may still capture distinct aspects of the data.\n",
    "\n",
    "Other features have relatively low correlations with each other, which generally indicates that they might add unique information to the model.\n",
    "\n",
    "- PatternTypeIndex Has the strongest positive correlation with\n",
    "isLaundering (0.89).\n",
    "- CurrencyIndex Shows a weak positive correlation (0.046) with isLaundering.\n",
    "- PaymentFormatIndex Also shows a weak positive correlation (0.053) with isLaundering.\n",
    "- FanOut and DayOfWeek Show negative correlations (-0.087 and -0.067, respectively) with isLaundering.\n",
    "- Hour and AvgAmountSent Show weak positive correlations (0.014 and 0.053, respectively) with isLaundering.\n",
    "- Amount_Received Has an extremely weak positive correlation (0.0059) with isLaundering, suggesting it's nearly uncorrelated.\n",
    "- FanIn Has a weak negative correlation (-0.01) with isLaundering.\n",
    "#### Key Takeaways:\n",
    "- PatternTypeIndex is the standout feature, showing a strong correlation with isLaundering. It’s critical to include this in the model.\n",
    "- Features like CurrencyIndex and PaymentFormatIndex have weak correlations but could still contribute useful information when combined with others.\n",
    "- Features like Amount_Received, FanIn, and Hour have very weak correlations, and their inclusion should be carefully considered to avoid adding noise to the model.\n",
    "\n",
    "\n"
   ]
  },
  {
   "cell_type": "markdown",
   "metadata": {
    "id": "lgedS_Hm_POC"
   },
   "source": [
    "# Feature Selection"
   ]
  },
  {
   "cell_type": "code",
   "execution_count": null,
   "metadata": {
    "id": "ME3tGbVZ-Om6"
   },
   "outputs": [],
   "source": [
    "# Define all features for the final assembler, using scaled and unscaled features\n",
    "all_features = [ \"FanOut\", \"AvgAmountSent\", \"DayOfWeek\", \"CurrencyIndex\", \"PaymentFormatIndex\", \"PatternTypeIndex\"]\n",
    "\n",
    "# Assemble the final feature vector for prediction\n",
    "assembler_final = VectorAssembler(inputCols=all_features, outputCol=\"features\")\n",
    "balanced_featured_df = balanced_featured_df.select(all_features + [\"isLaundering\"])"
   ]
  },
  {
   "cell_type": "code",
   "execution_count": null,
   "metadata": {
    "id": "FEsvvcKi_T-u"
   },
   "outputs": [],
   "source": [
    "size_in_memory_gb = balanced_featured_df.rdd.map(lambda row: len(str(row))).sum() / (1024 * 1024 * 1024)\n",
    "print(f\"Approximate size in memory: ({size_in_memory_gb:.2f} GB)\")"
   ]
  },
  {
   "cell_type": "markdown",
   "metadata": {
    "id": "QM9uES0r_WE6"
   },
   "source": [
    "#####Split the Data:\n",
    "\n",
    "Split the data into training, validation, and test sets."
   ]
  },
  {
   "cell_type": "code",
   "execution_count": null,
   "metadata": {
    "id": "ynKdgyBQ_U87"
   },
   "outputs": [],
   "source": [
    "train_df, val_df, test_df = balanced_featured_df.randomSplit([0.6, 0.2, 0.2], seed=42)\n",
    "balanced_featured_df.unpersist()\n",
    "train_df.cache()\n",
    "val_df.cache()\n",
    "test_df.cache()"
   ]
  },
  {
   "cell_type": "markdown",
   "metadata": {
    "id": "yCY-yUeLAzMy"
   },
   "source": [
    "##Model Training with Pipeline\n",
    "\n",
    "#####Created a Pipeline with Random Forest Classifier ML model:\n",
    "\n",
    "Defined a pipeline to streamline the feature transformations and model training process."
   ]
  },
  {
   "cell_type": "code",
   "execution_count": null,
   "metadata": {
    "id": "9Cq0LV63A0Od"
   },
   "outputs": [],
   "source": [
    "rf = RandomForestClassifier(featuresCol=\"features\", labelCol=\"isLaundering\", numTrees=20, maxDepth=10)\n",
    "pipeline = Pipeline(stages=[ assembler_final, rf])"
   ]
  },
  {
   "cell_type": "markdown",
   "metadata": {
    "id": "NrMQv5sUA4lm"
   },
   "source": [
    "#####Hyperparameter Tuning using CrossValidator:\n",
    "\n",
    "-Used CrossValidator to find the best hyperparameters for the Random Forest model.\n",
    "\n",
    "-BinaryClassificationEvaluator Used to evaluate the model's performance.\n",
    "\n",
    "-areaUnderROC is a common metric for binary classification, especially useful for imbalanced datasets."
   ]
  },
  {
   "cell_type": "code",
   "execution_count": null,
   "metadata": {
    "id": "Uv2YO01PA2dr"
   },
   "outputs": [],
   "source": [
    "paramGridSearch = ParamGridBuilder().addGrid(rf.numTrees, [10, 20]).addGrid(rf.maxDepth, [10]).build()\n",
    "evaluatorr = BinaryClassificationEvaluator(labelCol=\"isLaundering\", metricName=\"areaUnderROC\")\n",
    "crossvalidation = CrossValidator(estimator=pipeline, estimatorParamMaps=paramGridSearch, evaluator=evaluatorr, numFolds=3)\n",
    "cvModel = crossvalidation.fit(train_df)"
   ]
  },
  {
   "cell_type": "markdown",
   "metadata": {
    "id": "LENszS8pBDdx"
   },
   "source": [
    "\n",
    "##Evaluate the Model\n",
    "\n",
    "#####Evaluate on Validation Data:\n",
    "\n",
    "Used F1 Score, Area Under ROC metrics to evaluate the model on validation data."
   ]
  },
  {
   "cell_type": "code",
   "execution_count": null,
   "metadata": {
    "id": "z1ZTaHogA_Te"
   },
   "outputs": [],
   "source": [
    "# Evaluate ROC on validation data\n",
    "predictions = cvModel.transform(val_df)\n",
    "roc_score = evaluatorr.evaluate(predictions)\n",
    "print(\"Area Under ROC Score on validation data:\", roc_score)"
   ]
  },
  {
   "cell_type": "code",
   "execution_count": null,
   "metadata": {
    "id": "ue6jWEaiBKJ7"
   },
   "outputs": [],
   "source": [
    "# Evaluate F1 Score on validation data\n",
    "evaluator_f1 = MulticlassClassificationEvaluator(labelCol=\"isLaundering\", predictionCol=\"prediction\", metricName=\"f1\")\n",
    "f1_score = evaluator_f1.evaluate(predictions)\n",
    "print(\"F1 Score on validation data:\", f1_score"
   ]
  },
  {
   "cell_type": "markdown",
   "metadata": {
    "id": "jNlP49gYBLd0"
   },
   "source": [
    "\n",
    "#####Final Testing:\n",
    "\n",
    "Test the model on the test set to get final performance metrics."
   ]
  },
  {
   "cell_type": "code",
   "execution_count": null,
   "metadata": {
    "id": "3tNUY2EZBNbN"
   },
   "outputs": [],
   "source": [
    "# Evaluate ROC on test data\n",
    "final_predictions = cvModel.transform(test_df)\n",
    "test_roc_score = evaluatorr.evaluate(final_predictions)\n",
    "print(\"Final ROC Score on test data:\", test_roc_score)"
   ]
  },
  {
   "cell_type": "code",
   "execution_count": null,
   "metadata": {
    "id": "6Eof7qmBBPdJ"
   },
   "outputs": [],
   "source": [
    "# Evaluate F1 Score on test data\n",
    "test_f1_score = evaluator_f1.evaluate(final_predictions)\n",
    "print(\"Final F1 Score on test data:\", test_f1_score)"
   ]
  },
  {
   "cell_type": "code",
   "execution_count": null,
   "metadata": {
    "id": "JCeqq8pgBTGa"
   },
   "outputs": [],
   "source": [
    "#evaluate percision and recall\n",
    "precision_evaluator = MulticlassClassificationEvaluator(\n",
    "    labelCol=\"isLaundering\", predictionCol=\"prediction\", metricName=\"weightedPrecision\")\n",
    "recall_evaluator = MulticlassClassificationEvaluator(\n",
    "    labelCol=\"isLaundering\", predictionCol=\"prediction\", metricName=\"weightedRecall\")\n",
    "\n",
    "precision = precision_evaluator.evaluate(final_predictions)\n",
    "recall = recall_evaluator.evaluate(final_predictions)\n",
    "\n",
    "print(f\"Precision: {precision}\")\n",
    "print(f\"Recall: {recall}\")"
   ]
  },
  {
   "cell_type": "markdown",
   "metadata": {
    "id": "JoK-vHjoBjsR"
   },
   "source": [
    "### Observations\n",
    "Unrealistically high performance can result from data leakage. \n",
    "\n",
    "This occurs when information from the test data unintentionally influences the training process, making the model seem flawless. For example, using features directly derived from the target variable, such as PatternTypeIndex, can lead to such misleading results."
   ]
  },
  {
   "cell_type": "markdown",
   "metadata": {},
   "source": [
    "## Without PatternTypeIndex"
   ]
  },
  {
   "cell_type": "code",
   "execution_count": null,
   "metadata": {},
   "outputs": [],
   "source": [
    "# Define all features for the final assembler, using scaled and unscaled features\n",
    "all_features = [ \"FanOut\", \"AvgAmountSent\", \"DayOfWeek\", \"CurrencyIndex\", \"PaymentFormatIndex\"]\n",
    "\n",
    "# Assemble the final feature vector for prediction\n",
    "assembler_final = VectorAssembler(inputCols=all_features, outputCol=\"features\")\n",
    "balanced_featured_df = balanced_featured_df.select(all_features + [\"isLaundering\"])"
   ]
  },
  {
   "cell_type": "code",
   "execution_count": null,
   "metadata": {},
   "outputs": [],
   "source": [
    "train_df, val_df, test_df = balanced_featured_df.randomSplit([0.6, 0.2, 0.2], seed=42)"
   ]
  },
  {
   "cell_type": "code",
   "execution_count": null,
   "metadata": {},
   "outputs": [],
   "source": [
    "rf = RandomForestClassifier(featuresCol=\"features\", labelCol=\"isLaundering\", numTrees=20, maxDepth=10)\n",
    "pipeline = Pipeline(stages=[ assembler_final, rf])"
   ]
  },
  {
   "cell_type": "code",
   "execution_count": null,
   "metadata": {},
   "outputs": [],
   "source": [
    "paramGridSearch = ParamGridBuilder().addGrid(rf.numTrees, [10, 20]).addGrid(rf.maxDepth, [10]).build()\n",
    "evaluatorr = BinaryClassificationEvaluator(labelCol=\"isLaundering\", metricName=\"areaUnderROC\")\n",
    "crossvalidation = CrossValidator(estimator=pipeline, estimatorParamMaps=paramGridSearch, evaluator=evaluatorr, numFolds=3)\n",
    "cvModel = crossvalidation.fit(train_df)"
   ]
  },
  {
   "cell_type": "code",
   "execution_count": null,
   "metadata": {},
   "outputs": [],
   "source": [
    "# Evaluate ROC on validation data\n",
    "predictions = cvModel.transform(val_df)\n",
    "roc_score = evaluatorr.evaluate(predictions)\n",
    "print(\"Area Under ROC Score on validation data:\", roc_score)"
   ]
  },
  {
   "cell_type": "code",
   "execution_count": null,
   "metadata": {},
   "outputs": [],
   "source": [
    "# Evaluate F1 Score on validation data\n",
    "evaluator_f1 = MulticlassClassificationEvaluator(labelCol=\"isLaundering\", predictionCol=\"prediction\", metricName=\"f1\")\n",
    "f1_score = evaluator_f1.evaluate(predictions)\n",
    "print(\"F1 Score on validation data:\", f1_score)\n"
   ]
  },
  {
   "cell_type": "code",
   "execution_count": null,
   "metadata": {},
   "outputs": [],
   "source": [
    "# Evaluate ROC on test data\n",
    "final_predictions = cvModel.transform(test_df)\n",
    "test_roc_score = evaluatorr.evaluate(final_predictions)\n",
    "print(\"Final ROC Score on test data:\", test_roc_score)"
   ]
  },
  {
   "cell_type": "code",
   "execution_count": null,
   "metadata": {},
   "outputs": [],
   "source": [
    "# Evaluate F1 Score on test data\n",
    "test_f1_score = evaluator_f1.evaluate(final_predictions)\n",
    "print(\"Final F1 Score on test data:\", test_f1_score)"
   ]
  },
  {
   "cell_type": "code",
   "execution_count": null,
   "metadata": {},
   "outputs": [],
   "source": [
    "#evaluate percision and recall\n",
    "precision_evaluator = MulticlassClassificationEvaluator(\n",
    "    labelCol=\"isLaundering\", predictionCol=\"prediction\", metricName=\"weightedPrecision\")\n",
    "recall_evaluator = MulticlassClassificationEvaluator(\n",
    "    labelCol=\"isLaundering\", predictionCol=\"prediction\", metricName=\"weightedRecall\")\n",
    "\n",
    "precision = precision_evaluator.evaluate(final_predictions)\n",
    "recall = recall_evaluator.evaluate(final_predictions)\n",
    "\n",
    "print(f\"Precision: {precision}\")\n",
    "print(f\"Recall: {recall}\")"
   ]
  },
  {
   "cell_type": "markdown",
   "metadata": {},
   "source": [
    "## Metrics Overview\n",
    "### Validation Data:\n",
    "Area Under ROC (AUC): 0.927\n",
    "\n",
    "indicates the model separates positive and negative classes well.\n",
    "\n",
    "F1 Score: 0.963\n",
    "\n",
    "Suggests a strong balance between precision and recall on validation data.\n",
    "\n",
    "### Test Data:\n",
    "Area Under ROC (AUC): 0.928\n",
    "\n",
    "Similar to validation, indicating consistent performance across datasets.\n",
    "\n",
    "F1 Score: 0.963\n",
    "\n",
    "Strong alignment with validation F1, showing generalization capability.\n",
    "\n",
    "Precision: 0.966\n",
    "\n",
    "Indicates that 96.6% of the model's positive predictions are correct.\n",
    "\n",
    "Recall: 0.965\n",
    "\n",
    "Suggests the model identified 96.5% of actual positive instances."
   ]
  },
  {
   "cell_type": "markdown",
   "metadata": {},
   "source": [
    "### Checking feature Importance"
   ]
  },
  {
   "cell_type": "code",
   "execution_count": null,
   "metadata": {},
   "outputs": [],
   "source": [
    "rf_model = cvModel.bestModel.stages[-1]  # Access the trained Random Forest model\n",
    "importances = rf_model.featureImportances.toArray()\n",
    "print(\"Feature Importances:\", importances)"
   ]
  },
  {
   "cell_type": "markdown",
   "metadata": {},
   "source": [
    "### Feature Importance\n",
    "\n",
    "The feature importances:\n",
    "- DayOfWeek (1st highest): 0.729 (dominant feature)\n",
    "\n",
    "- PaymentFormatIndex (2nd highest): 0.143\n",
    "\n",
    "- AvgAmountSent: 0.063\n",
    "\n",
    "- CurrencyIndex: 0.032\n",
    "\n",
    "- FanOut (least important): 0.030\n",
    "\n",
    "**Analysis**: The model relies heavily on DayOfWeek and PaymentFormatIndex, contributing ~87% of the total importance."
   ]
  },
  {
   "cell_type": "markdown",
   "metadata": {},
   "source": [
    "### Analyze the predictions\n",
    "\n",
    "To ensure the model generalize"
   ]
  },
  {
   "cell_type": "code",
   "execution_count": null,
   "metadata": {},
   "outputs": [],
   "source": [
    "# Count predicted classes\n",
    "final_predictions.groupBy(\"prediction\").count().show()"
   ]
  },
  {
   "cell_type": "code",
   "execution_count": null,
   "metadata": {},
   "outputs": [],
   "source": [
    "# Calculate confusion matrix\n",
    "final_predictions.crosstab(\"isLaundering\", \"prediction\").show()"
   ]
  },
  {
   "cell_type": "markdown",
   "metadata": {},
   "source": [
    "### Observations\n",
    "**True Positives (TP):** 617,206 (Correctly identified laundering cases).\n",
    "\n",
    "**True Negatives (TN):** 6,292,500 (Correctly identified non-laundering cases).\n",
    "\n",
    "**False Positives (FP):** 16,748 (Misclassified non-laundering as laundering).\n",
    "\n",
    "    While relatively low compared to true negatives, false positives could cause unnecessary investigations.\n",
    "\n",
    "**False Negatives (FN):** 231,031 (Missed laundering cases).\n",
    "\n",
    "    which could be critical in real-world anti-money laundering applications.\n"
   ]
  },
  {
   "cell_type": "code",
   "execution_count": null,
   "metadata": {},
   "outputs": [],
   "source": [
    "train_df.unpersist()\n",
    "val_df.unpersist()\n",
    "test_df.unpersist()"
   ]
  }
 ],
 "metadata": {
  "colab": {
   "provenance": []
  },
  "kernelspec": {
   "display_name": "Python 3",
   "language": "python",
   "name": "python3"
  },
  "language_info": {
   "codemirror_mode": {
    "name": "ipython",
    "version": 3
   },
   "file_extension": ".py",
   "mimetype": "text/x-python",
   "name": "python",
   "nbconvert_exporter": "python",
   "pygments_lexer": "ipython3",
   "version": "3.11.5"
  }
 },
 "nbformat": 4,
 "nbformat_minor": 0
}
